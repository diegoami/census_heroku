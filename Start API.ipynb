{
 "cells": [
  {
   "cell_type": "markdown",
   "id": "95117490",
   "metadata": {},
   "source": [
    "Execute following command from the command line\n",
    "\n",
    "```PYTHON_PATH=$(pwd) uvicorn api.main:app```"
   ]
  },
  {
   "cell_type": "code",
   "execution_count": 24,
   "id": "fca93eb9",
   "metadata": {},
   "outputs": [],
   "source": [
    "import requests\n",
    "from common.fixtures import first_census_entry, second_census_entry, wrong_category_entry\n",
    "import pytest\n",
    "import os\n",
    "\n",
    "def do_call(entry):\n",
    "    print(\" ================ ENTRY ================== \")\n",
    "    print(entry)\n",
    "    response = requests.post('http://127.0.0.1:8000/predict', json=entry)\n",
    "    result_call = response.json()\n",
    "    print(\" =============== RESULT ===================== \")\n",
    "    print(result_call)"
   ]
  },
  {
   "cell_type": "code",
   "execution_count": 25,
   "id": "fa91d13d",
   "metadata": {},
   "outputs": [
    {
     "name": "stdout",
     "output_type": "stream",
     "text": [
      " ================ ENTRY ================== \n",
      "{'age': 20, 'workclass': 'State-gov', 'fnlgt': 3000, 'education': 'Doctorate', 'education-num': 20, 'marital-status': 'Never-married', 'occupation': 'Sales', 'relationship': 'Not-in-family', 'race': 'White', 'sex': 'Male', 'capital-gain': 10000, 'capital-loss': 0, 'hours-per-week': 40, 'native-country': 'United-States'}\n",
      " =============== RESULT ===================== \n",
      "{'result': '<=50k'}\n"
     ]
    }
   ],
   "source": [
    "do_call(first_census_entry)"
   ]
  },
  {
   "cell_type": "code",
   "execution_count": 26,
   "id": "49aaffa8",
   "metadata": {},
   "outputs": [
    {
     "name": "stdout",
     "output_type": "stream",
     "text": [
      " ================ ENTRY ================== \n",
      "{'age': 30, 'workclass': 'Private', 'fnlgt': 1234, 'education': 'Bachelors', 'education-num': 20, 'marital-status': 'Divorced', 'occupation': 'Armed-Forces', 'relationship': 'Husband', 'race': 'Black', 'sex': 'Male', 'capital-gain': 20000, 'capital-loss': 0, 'hours-per-week': 50, 'native-country': 'England'}\n",
      " =============== RESULT ===================== \n",
      "{'result': '>50K'}\n"
     ]
    }
   ],
   "source": [
    "do_call(second_census_entry)"
   ]
  },
  {
   "cell_type": "code",
   "execution_count": 27,
   "id": "828771bf",
   "metadata": {},
   "outputs": [
    {
     "name": "stdout",
     "output_type": "stream",
     "text": [
      " ================ ENTRY ================== \n",
      "{'age': 30, 'workclass': 'Worker', 'fnlgt': 1234, 'education': 'Elementary', 'education-num': 20, 'marital-status': 'Polyamorous', 'occupation': 'Rogue', 'relationship': 'Complicated', 'race': 'Pink', 'sex': 'Bacteria', 'capital-gain': 20000, 'capital-loss': 0, 'hours-per-week': 50, 'native-country': 'Battania'}\n",
      " =============== RESULT ===================== \n",
      "{'detail': [{'loc': ['body', 'workclass'], 'msg': \"workclass Worker not valid, must be in ['State-gov', 'Self-emp-not-inc', 'Private', 'Federal-gov', 'Local-gov', '?', 'Self-emp-inc', 'Without-pay', 'Never-worked']\", 'type': 'value_error'}, {'loc': ['body', 'education'], 'msg': \"education Elementary not valid, must be in ['Bachelors', 'HS-grad', '11th', 'Masters', '9th', 'Some-college', 'Assoc-acdm', 'Assoc-voc', '7th-8th', 'Doctorate', 'Prof-school', '5th-6th', '10th', '1st-4th', 'Preschool', '12th']\", 'type': 'value_error'}, {'loc': ['body', 'marital-status'], 'msg': \"marital_status Polyamorous not valid, must be in ['Never-married', 'Married-civ-spouse', 'Divorced', 'Married-spouse-absent', 'Separated', 'Married-AF-spouse', 'Widowed']\", 'type': 'value_error'}, {'loc': ['body', 'occupation'], 'msg': \"occupation Rogue not valid, must be in ['Adm-clerical', 'Exec-managerial', 'Handlers-cleaners', 'Prof-specialty', 'Other-service', 'Sales', 'Craft-repair', 'Transport-moving', 'Farming-fishing', 'Machine-op-inspct', 'Tech-support', '?', 'Protective-serv', 'Armed-Forces', 'Priv-house-serv']\", 'type': 'value_error'}, {'loc': ['body', 'relationship'], 'msg': \"relationship Complicated not valid, must be in ['Not-in-family', 'Husband', 'Wife', 'Own-child', 'Unmarried', 'Other-relative']\", 'type': 'value_error'}, {'loc': ['body', 'race'], 'msg': \"race Pink not valid, must be in ['White', 'Black', 'Asian-Pac-Islander', 'Amer-Indian-Eskimo', 'Other']\", 'type': 'value_error'}, {'loc': ['body', 'sex'], 'msg': \"sex Bacteria not valid, must be in ['Male', 'Female']\", 'type': 'value_error'}, {'loc': ['body', 'native-country'], 'msg': \"native_country Battania not valid, must be in ['United-States', 'Cuba', 'Jamaica', 'India', '?', 'Mexico', 'South', 'Puerto-Rico', 'Honduras', 'England', 'Canada', 'Germany', 'Iran', 'Philippines', 'Italy', 'Poland', 'Columbia', 'Cambodia', 'Thailand', 'Ecuador', 'Laos', 'Taiwan', 'Haiti', 'Portugal', 'Dominican-Republic', 'El-Salvador', 'France', 'Guatemala', 'China', 'Japan', 'Yugoslavia', 'Peru', 'Outlying-US(Guam-USVI-etc)', 'Scotland', 'Trinadad&Tobago', 'Greece', 'Nicaragua', 'Vietnam', 'Hong', 'Ireland', 'Hungary', 'Holand-Netherlands']\", 'type': 'value_error'}]}\n"
     ]
    }
   ],
   "source": [
    "do_call(wrong_category_entry)"
   ]
  },
  {
   "cell_type": "code",
   "execution_count": 28,
   "id": "baa8dcbe",
   "metadata": {},
   "outputs": [],
   "source": [
    "from common.fixtures import generate_entry"
   ]
  },
  {
   "cell_type": "code",
   "execution_count": 29,
   "id": "4bf7a7da",
   "metadata": {},
   "outputs": [],
   "source": [
    "random_entry_1 = generate_entry()"
   ]
  },
  {
   "cell_type": "code",
   "execution_count": 30,
   "id": "44529765",
   "metadata": {},
   "outputs": [
    {
     "data": {
      "text/plain": [
       "{'age': 36,\n",
       " 'workclass': 'State-gov',\n",
       " 'fnlgt': 337102,\n",
       " 'education': '1st-4th',\n",
       " 'education-num': 13,\n",
       " 'marital-status': 'Married-civ-spouse',\n",
       " 'occupation': 'Exec-managerial',\n",
       " 'relationship': 'Not-in-family',\n",
       " 'race': 'White',\n",
       " 'sex': 'Male',\n",
       " 'capital-gain': 8623,\n",
       " 'capital-loss': 0,\n",
       " 'hours-per-week': 25,\n",
       " 'native-country': 'Ireland'}"
      ]
     },
     "execution_count": 30,
     "metadata": {},
     "output_type": "execute_result"
    }
   ],
   "source": [
    "random_entry_1"
   ]
  },
  {
   "cell_type": "code",
   "execution_count": 31,
   "id": "8c12ea66",
   "metadata": {},
   "outputs": [
    {
     "name": "stdout",
     "output_type": "stream",
     "text": [
      " ================ ENTRY ================== \n",
      "{'age': 36, 'workclass': 'State-gov', 'fnlgt': 337102, 'education': '1st-4th', 'education-num': 13, 'marital-status': 'Married-civ-spouse', 'occupation': 'Exec-managerial', 'relationship': 'Not-in-family', 'race': 'White', 'sex': 'Male', 'capital-gain': 8623, 'capital-loss': 0, 'hours-per-week': 25, 'native-country': 'Ireland'}\n",
      " =============== RESULT ===================== \n",
      "{'result': '>50K'}\n"
     ]
    }
   ],
   "source": [
    "do_call(random_entry_1)"
   ]
  },
  {
   "cell_type": "code",
   "execution_count": 32,
   "id": "8451b399",
   "metadata": {},
   "outputs": [
    {
     "name": "stdout",
     "output_type": "stream",
     "text": [
      " ================ ENTRY ================== \n",
      "{'age': 17, 'workclass': 'Never-worked', 'fnlgt': 128277, 'education': 'Doctorate', 'education-num': 12, 'marital-status': 'Married-AF-spouse', 'occupation': 'Protective-serv', 'relationship': 'Not-in-family', 'race': 'Asian-Pac-Islander', 'sex': 'Female', 'capital-gain': 0, 'capital-loss': 0, 'hours-per-week': 67, 'native-country': 'Ecuador'}\n",
      " =============== RESULT ===================== \n",
      "{'result': '<=50k'}\n"
     ]
    }
   ],
   "source": [
    "do_call(generate_entry())"
   ]
  },
  {
   "cell_type": "code",
   "execution_count": 33,
   "id": "48fc599c",
   "metadata": {},
   "outputs": [
    {
     "name": "stdout",
     "output_type": "stream",
     "text": [
      " ================ ENTRY ================== \n",
      "{'age': 56, 'workclass': 'Never-worked', 'fnlgt': 71885, 'education': '7th-8th', 'education-num': 16, 'marital-status': 'Separated', 'occupation': 'Prof-specialty', 'relationship': 'Own-child', 'race': 'Black', 'sex': 'Female', 'capital-gain': 12763, 'capital-loss': 371, 'hours-per-week': 28, 'native-country': 'Puerto-Rico'}\n",
      " =============== RESULT ===================== \n",
      "{'result': '>50K'}\n",
      " ================ ENTRY ================== \n",
      "{'age': 50, 'workclass': '?', 'fnlgt': 178006, 'education': '1st-4th', 'education-num': 8, 'marital-status': 'Divorced', 'occupation': 'Handlers-cleaners', 'relationship': 'Not-in-family', 'race': 'Black', 'sex': 'Female', 'capital-gain': 1200, 'capital-loss': 627, 'hours-per-week': 43, 'native-country': 'Canada'}\n",
      " =============== RESULT ===================== \n",
      "{'result': '<=50k'}\n",
      " ================ ENTRY ================== \n",
      "{'age': 17, 'workclass': 'Self-emp-inc', 'fnlgt': 352693, 'education': 'Bachelors', 'education-num': 15, 'marital-status': 'Married-spouse-absent', 'occupation': 'Armed-Forces', 'relationship': 'Own-child', 'race': 'Black', 'sex': 'Female', 'capital-gain': 0, 'capital-loss': 191, 'hours-per-week': 42, 'native-country': 'Guatemala'}\n",
      " =============== RESULT ===================== \n",
      "{'result': '<=50k'}\n",
      " ================ ENTRY ================== \n",
      "{'age': 57, 'workclass': '?', 'fnlgt': 190871, 'education': 'Masters', 'education-num': 10, 'marital-status': 'Married-civ-spouse', 'occupation': 'Transport-moving', 'relationship': 'Wife', 'race': 'Asian-Pac-Islander', 'sex': 'Male', 'capital-gain': 5724, 'capital-loss': 364, 'hours-per-week': 31, 'native-country': 'Thailand'}\n",
      " =============== RESULT ===================== \n",
      "{'result': '>50K'}\n",
      " ================ ENTRY ================== \n",
      "{'age': 36, 'workclass': 'Without-pay', 'fnlgt': 369538, 'education': '5th-6th', 'education-num': 9, 'marital-status': 'Separated', 'occupation': 'Priv-house-serv', 'relationship': 'Wife', 'race': 'Amer-Indian-Eskimo', 'sex': 'Female', 'capital-gain': 0, 'capital-loss': 0, 'hours-per-week': 60, 'native-country': 'Outlying-US(Guam-USVI-etc)'}\n",
      " =============== RESULT ===================== \n",
      "{'result': '<=50k'}\n",
      " ================ ENTRY ================== \n",
      "{'age': 26, 'workclass': 'Never-worked', 'fnlgt': 135682, 'education': 'Bachelors', 'education-num': 10, 'marital-status': 'Married-spouse-absent', 'occupation': 'Other-service', 'relationship': 'Not-in-family', 'race': 'Black', 'sex': 'Male', 'capital-gain': 0, 'capital-loss': 0, 'hours-per-week': 40, 'native-country': 'Dominican-Republic'}\n",
      " =============== RESULT ===================== \n",
      "{'result': '<=50k'}\n",
      " ================ ENTRY ================== \n",
      "{'age': 20, 'workclass': 'Self-emp-not-inc', 'fnlgt': 167676, 'education': 'Bachelors', 'education-num': 8, 'marital-status': 'Widowed', 'occupation': 'Transport-moving', 'relationship': 'Wife', 'race': 'Other', 'sex': 'Male', 'capital-gain': 0, 'capital-loss': 0, 'hours-per-week': 13, 'native-country': 'El-Salvador'}\n",
      " =============== RESULT ===================== \n",
      "{'result': '<=50k'}\n",
      " ================ ENTRY ================== \n",
      "{'age': 67, 'workclass': 'Never-worked', 'fnlgt': 113848, 'education': '12th', 'education-num': 8, 'marital-status': 'Married-spouse-absent', 'occupation': 'Tech-support', 'relationship': 'Not-in-family', 'race': 'Other', 'sex': 'Female', 'capital-gain': 0, 'capital-loss': 0, 'hours-per-week': 48, 'native-country': 'Japan'}\n",
      " =============== RESULT ===================== \n",
      "{'result': '<=50k'}\n",
      " ================ ENTRY ================== \n",
      "{'age': 27, 'workclass': 'Self-emp-not-inc', 'fnlgt': 320643, 'education': '10th', 'education-num': 11, 'marital-status': 'Widowed', 'occupation': 'Protective-serv', 'relationship': 'Husband', 'race': 'Asian-Pac-Islander', 'sex': 'Female', 'capital-gain': 6757, 'capital-loss': 361, 'hours-per-week': 44, 'native-country': 'Germany'}\n",
      " =============== RESULT ===================== \n",
      "{'result': '<=50k'}\n",
      " ================ ENTRY ================== \n",
      "{'age': 39, 'workclass': 'Self-emp-inc', 'fnlgt': 55614, 'education': '9th', 'education-num': 13, 'marital-status': 'Married-spouse-absent', 'occupation': 'Exec-managerial', 'relationship': 'Unmarried', 'race': 'White', 'sex': 'Female', 'capital-gain': 0, 'capital-loss': 0, 'hours-per-week': 60, 'native-country': 'Guatemala'}\n",
      " =============== RESULT ===================== \n",
      "{'result': '<=50k'}\n"
     ]
    }
   ],
   "source": [
    "for i in range(10):\n",
    "    do_call(generate_entry())"
   ]
  },
  {
   "cell_type": "code",
   "execution_count": 34,
   "id": "ad1a0d71",
   "metadata": {},
   "outputs": [
    {
     "name": "stdout",
     "output_type": "stream",
     "text": [
      " ================ ENTRY ================== \n",
      "{'age': 48, 'workclass': 'State-gov', 'fnlgt': 347194, 'education': '10th', 'education-num': 12, 'marital-status': 'Married-spouse-absent', 'occupation': 'Adm-clerical', 'relationship': 'Wife', 'race': 'Other', 'sex': 'Male', 'capital-gain': 0, 'capital-loss': 0, 'hours-per-week': 32, 'native-country': 'Ecuador'}\n",
      " =============== RESULT ===================== \n",
      "{'result': '<=50k'}\n",
      " ================ ENTRY ================== \n",
      "{'age': 21, 'workclass': 'Self-emp-inc', 'fnlgt': 279138, 'education': '12th', 'education-num': 8, 'marital-status': 'Married-spouse-absent', 'occupation': 'Armed-Forces', 'relationship': 'Husband', 'race': 'Asian-Pac-Islander', 'sex': 'Female', 'capital-gain': 731, 'capital-loss': 348, 'hours-per-week': 53, 'native-country': 'Jamaica'}\n",
      " =============== RESULT ===================== \n",
      "{'result': '<=50k'}\n",
      " ================ ENTRY ================== \n",
      "{'age': 43, 'workclass': 'Without-pay', 'fnlgt': 278992, 'education': 'Masters', 'education-num': 4, 'marital-status': 'Married-civ-spouse', 'occupation': 'Protective-serv', 'relationship': 'Unmarried', 'race': 'Black', 'sex': 'Male', 'capital-gain': 6556, 'capital-loss': 259, 'hours-per-week': 49, 'native-country': '?'}\n",
      " =============== RESULT ===================== \n",
      "{'result': '>50K'}\n",
      " ================ ENTRY ================== \n",
      "{'age': 42, 'workclass': 'Federal-gov', 'fnlgt': 359498, 'education': '11th', 'education-num': 12, 'marital-status': 'Never-married', 'occupation': 'Transport-moving', 'relationship': 'Own-child', 'race': 'Other', 'sex': 'Female', 'capital-gain': 3469, 'capital-loss': 24, 'hours-per-week': 41, 'native-country': 'El-Salvador'}\n",
      " =============== RESULT ===================== \n",
      "{'result': '<=50k'}\n",
      " ================ ENTRY ================== \n",
      "{'age': 48, 'workclass': 'Without-pay', 'fnlgt': 140848, 'education': 'Assoc-acdm', 'education-num': 10, 'marital-status': 'Separated', 'occupation': 'Craft-repair', 'relationship': 'Other-relative', 'race': 'Black', 'sex': 'Male', 'capital-gain': 7170, 'capital-loss': 0, 'hours-per-week': 13, 'native-country': 'Dominican-Republic'}\n",
      " =============== RESULT ===================== \n",
      "{'result': '>50K'}\n",
      " ================ ENTRY ================== \n",
      "{'age': 49, 'workclass': 'Without-pay', 'fnlgt': 263055, 'education': 'Prof-school', 'education-num': 10, 'marital-status': 'Separated', 'occupation': 'Sales', 'relationship': 'Not-in-family', 'race': 'Asian-Pac-Islander', 'sex': 'Female', 'capital-gain': 1427, 'capital-loss': 438, 'hours-per-week': 32, 'native-country': 'Philippines'}\n",
      " =============== RESULT ===================== \n",
      "{'result': '<=50k'}\n",
      " ================ ENTRY ================== \n",
      "{'age': 18, 'workclass': 'Without-pay', 'fnlgt': 270063, 'education': '5th-6th', 'education-num': 9, 'marital-status': 'Married-spouse-absent', 'occupation': 'Exec-managerial', 'relationship': 'Own-child', 'race': 'Asian-Pac-Islander', 'sex': 'Male', 'capital-gain': 0, 'capital-loss': 423, 'hours-per-week': 37, 'native-country': 'Puerto-Rico'}\n",
      " =============== RESULT ===================== \n",
      "{'result': '<=50k'}\n",
      " ================ ENTRY ================== \n",
      "{'age': 32, 'workclass': 'Self-emp-not-inc', 'fnlgt': 231584, 'education': 'Prof-school', 'education-num': 11, 'marital-status': 'Married-civ-spouse', 'occupation': 'Tech-support', 'relationship': 'Not-in-family', 'race': 'Asian-Pac-Islander', 'sex': 'Male', 'capital-gain': 0, 'capital-loss': 0, 'hours-per-week': 32, 'native-country': 'Peru'}\n",
      " =============== RESULT ===================== \n",
      "{'result': '<=50k'}\n",
      " ================ ENTRY ================== \n",
      "{'age': 41, 'workclass': '?', 'fnlgt': 131927, 'education': '12th', 'education-num': 16, 'marital-status': 'Married-civ-spouse', 'occupation': 'Adm-clerical', 'relationship': 'Own-child', 'race': 'Other', 'sex': 'Female', 'capital-gain': 1109, 'capital-loss': 57, 'hours-per-week': 25, 'native-country': 'Peru'}\n",
      " =============== RESULT ===================== \n",
      "{'result': '<=50k'}\n",
      " ================ ENTRY ================== \n",
      "{'age': 38, 'workclass': 'Federal-gov', 'fnlgt': 168477, 'education': 'HS-grad', 'education-num': 14, 'marital-status': 'Separated', 'occupation': 'Protective-serv', 'relationship': 'Husband', 'race': 'Amer-Indian-Eskimo', 'sex': 'Female', 'capital-gain': 11741, 'capital-loss': 58, 'hours-per-week': 29, 'native-country': 'Scotland'}\n",
      " =============== RESULT ===================== \n",
      "{'result': '>50K'}\n"
     ]
    }
   ],
   "source": [
    "for i in range(10):\n",
    "    do_call(generate_entry())"
   ]
  },
  {
   "cell_type": "code",
   "execution_count": 35,
   "id": "88a431ee",
   "metadata": {},
   "outputs": [],
   "source": [
    "random_entry_2 = random_entry_1.copy()\n",
    "random_entry_2[\"workclass\"] = \"None\"\n"
   ]
  },
  {
   "cell_type": "code",
   "execution_count": 36,
   "id": "e5166201",
   "metadata": {},
   "outputs": [
    {
     "data": {
      "text/plain": [
       "{'age': 36,\n",
       " 'workclass': 'None',\n",
       " 'fnlgt': 337102,\n",
       " 'education': '1st-4th',\n",
       " 'education-num': 13,\n",
       " 'marital-status': 'Married-civ-spouse',\n",
       " 'occupation': 'Exec-managerial',\n",
       " 'relationship': 'Not-in-family',\n",
       " 'race': 'White',\n",
       " 'sex': 'Male',\n",
       " 'capital-gain': 8623,\n",
       " 'capital-loss': 0,\n",
       " 'hours-per-week': 25,\n",
       " 'native-country': 'Ireland'}"
      ]
     },
     "execution_count": 36,
     "metadata": {},
     "output_type": "execute_result"
    }
   ],
   "source": [
    "random_entry_2"
   ]
  },
  {
   "cell_type": "code",
   "execution_count": 37,
   "id": "6a0bdf05",
   "metadata": {},
   "outputs": [
    {
     "name": "stdout",
     "output_type": "stream",
     "text": [
      " ================ ENTRY ================== \n",
      "{'age': 36, 'workclass': 'None', 'fnlgt': 337102, 'education': '1st-4th', 'education-num': 13, 'marital-status': 'Married-civ-spouse', 'occupation': 'Exec-managerial', 'relationship': 'Not-in-family', 'race': 'White', 'sex': 'Male', 'capital-gain': 8623, 'capital-loss': 0, 'hours-per-week': 25, 'native-country': 'Ireland'}\n",
      " =============== RESULT ===================== \n",
      "{'detail': [{'loc': ['body', 'workclass'], 'msg': \"workclass None not valid, must be in ['State-gov', 'Self-emp-not-inc', 'Private', 'Federal-gov', 'Local-gov', '?', 'Self-emp-inc', 'Without-pay', 'Never-worked']\", 'type': 'value_error'}]}\n"
     ]
    }
   ],
   "source": [
    "do_call(random_entry_2)"
   ]
  },
  {
   "cell_type": "code",
   "execution_count": 38,
   "id": "dd4a01a1",
   "metadata": {},
   "outputs": [],
   "source": [
    "zero_entry={\n",
    "    'age': 17, 'workclass': 'Without-pay', 'fnlgt': 1, \n",
    "    'education': 'Bachelors', 'education-num': 1, 'marital-status': 'Never-married', \n",
    "    'occupation': 'Armed-Forces', 'relationship': 'Unmarried', \n",
    "    'race': 'Black', 'sex': 'Female', 'capital-gain': 0, 'capital-loss': 0, 'hours-per-week': 10,\n",
    "    'native-country': 'England'}"
   ]
  },
  {
   "cell_type": "code",
   "execution_count": 39,
   "id": "f856c5e5",
   "metadata": {},
   "outputs": [
    {
     "name": "stdout",
     "output_type": "stream",
     "text": [
      " ================ ENTRY ================== \n",
      "{'age': 17, 'workclass': 'Without-pay', 'fnlgt': 1, 'education': 'Bachelors', 'education-num': 1, 'marital-status': 'Never-married', 'occupation': 'Armed-Forces', 'relationship': 'Unmarried', 'race': 'Black', 'sex': 'Female', 'capital-gain': 0, 'capital-loss': 0, 'hours-per-week': 10, 'native-country': 'England'}\n",
      " =============== RESULT ===================== \n",
      "{'result': '<=50k'}\n"
     ]
    }
   ],
   "source": [
    "do_call(zero_entry)"
   ]
  },
  {
   "cell_type": "code",
   "execution_count": 40,
   "id": "9d353ca7",
   "metadata": {},
   "outputs": [],
   "source": [
    "big_entry={\n",
    "    'age': 50, 'workclass': 'Self-emp-not-inc', 'fnlgt': 1, \n",
    "    'education': 'Bachelors', 'education-num': 12, 'marital-status': 'Never-married', \n",
    "    'occupation': 'Adm-clerical', 'relationship': 'Unmarried', \n",
    "    'race': 'White', 'sex': 'Male', 'capital-gain': 100000, 'capital-loss': 0, 'hours-per-week': 40,\n",
    "    'native-country': 'England'}"
   ]
  },
  {
   "cell_type": "code",
   "execution_count": 41,
   "id": "0af96399",
   "metadata": {},
   "outputs": [
    {
     "name": "stdout",
     "output_type": "stream",
     "text": [
      " ================ ENTRY ================== \n",
      "{'age': 50, 'workclass': 'Self-emp-not-inc', 'fnlgt': 1, 'education': 'Bachelors', 'education-num': 12, 'marital-status': 'Never-married', 'occupation': 'Adm-clerical', 'relationship': 'Unmarried', 'race': 'White', 'sex': 'Male', 'capital-gain': 100000, 'capital-loss': 0, 'hours-per-week': 40, 'native-country': 'England'}\n",
      " =============== RESULT ===================== \n",
      "{'result': '>50K'}\n"
     ]
    }
   ],
   "source": [
    "do_call(big_entry)"
   ]
  },
  {
   "cell_type": "code",
   "execution_count": null,
   "id": "c5ed0e2e",
   "metadata": {},
   "outputs": [],
   "source": []
  }
 ],
 "metadata": {
  "kernelspec": {
   "display_name": "Python 3 (ipykernel)",
   "language": "python",
   "name": "python3"
  },
  "language_info": {
   "codemirror_mode": {
    "name": "ipython",
    "version": 3
   },
   "file_extension": ".py",
   "mimetype": "text/x-python",
   "name": "python",
   "nbconvert_exporter": "python",
   "pygments_lexer": "ipython3",
   "version": "3.8.13"
  }
 },
 "nbformat": 4,
 "nbformat_minor": 5
}
