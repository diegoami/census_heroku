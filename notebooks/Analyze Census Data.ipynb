{
 "cells": [
  {
   "cell_type": "code",
   "execution_count": 1,
   "id": "e7f53eb9",
   "metadata": {},
   "outputs": [],
   "source": [
    "import pandas as pd"
   ]
  },
  {
   "cell_type": "code",
   "execution_count": 2,
   "id": "8c2f7bbd",
   "metadata": {},
   "outputs": [],
   "source": [
    "census_data = pd.read_csv('../data/census.csv')"
   ]
  },
  {
   "cell_type": "code",
   "execution_count": 3,
   "id": "e17ddf66",
   "metadata": {},
   "outputs": [
    {
     "data": {
      "application/json": {
       "ascii": false,
       "bar_format": null,
       "colour": null,
       "elapsed": 0.010184526443481445,
       "initial": 0,
       "n": 0,
       "ncols": null,
       "nrows": 55,
       "postfix": null,
       "prefix": "Summarize dataset",
       "rate": null,
       "total": 5,
       "unit": "it",
       "unit_divisor": 1000,
       "unit_scale": false
      },
      "application/vnd.jupyter.widget-view+json": {
       "model_id": "9babc272d5aa4ca49490db692c6d768c",
       "version_major": 2,
       "version_minor": 0
      },
      "text/plain": [
       "Summarize dataset:   0%|          | 0/5 [00:00<?, ?it/s]"
      ]
     },
     "metadata": {},
     "output_type": "display_data"
    },
    {
     "data": {
      "application/json": {
       "ascii": false,
       "bar_format": null,
       "colour": null,
       "elapsed": 0.00839853286743164,
       "initial": 0,
       "n": 0,
       "ncols": null,
       "nrows": 55,
       "postfix": null,
       "prefix": "Generate report structure",
       "rate": null,
       "total": 1,
       "unit": "it",
       "unit_divisor": 1000,
       "unit_scale": false
      },
      "application/vnd.jupyter.widget-view+json": {
       "model_id": "bdcab1aa966b420bb1737ce8c0eca134",
       "version_major": 2,
       "version_minor": 0
      },
      "text/plain": [
       "Generate report structure:   0%|          | 0/1 [00:00<?, ?it/s]"
      ]
     },
     "metadata": {},
     "output_type": "display_data"
    },
    {
     "data": {
      "application/json": {
       "ascii": false,
       "bar_format": null,
       "colour": null,
       "elapsed": 0.008117914199829102,
       "initial": 0,
       "n": 0,
       "ncols": null,
       "nrows": 55,
       "postfix": null,
       "prefix": "Render widgets",
       "rate": null,
       "total": 1,
       "unit": "it",
       "unit_divisor": 1000,
       "unit_scale": false
      },
      "application/vnd.jupyter.widget-view+json": {
       "model_id": "",
       "version_major": 2,
       "version_minor": 0
      },
      "text/plain": [
       "Render widgets:   0%|          | 0/1 [00:00<?, ?it/s]"
      ]
     },
     "metadata": {},
     "output_type": "display_data"
    },
    {
     "name": "stderr",
     "output_type": "stream",
     "text": [
      "IOPub message rate exceeded.\n",
      "The notebook server will temporarily stop sending output\n",
      "to the client in order to avoid crashing it.\n",
      "To change this limit, set the config variable\n",
      "`--NotebookApp.iopub_msg_rate_limit`.\n",
      "\n",
      "Current values:\n",
      "NotebookApp.iopub_msg_rate_limit=1000.0 (msgs/sec)\n",
      "NotebookApp.rate_limit_window=3.0 (secs)\n",
      "\n"
     ]
    },
    {
     "data": {
      "application/vnd.jupyter.widget-view+json": {
       "model_id": "dc399a838b054f01a87960d5967a3d10",
       "version_major": 2,
       "version_minor": 0
      },
      "text/plain": [
       "VBox(children=(Tab(children=(Tab(children=(GridBox(children=(VBox(children=(GridspecLayout(children=(HTML(valu…"
      ]
     },
     "metadata": {},
     "output_type": "display_data"
    }
   ],
   "source": [
    "import pandas_profiling\n",
    "\n",
    "from markupsafe import escape\n",
    "\n",
    "# produces a pandas profiling report of the sample dataframe\n",
    "profile = pandas_profiling.ProfileReport(census_data)\n",
    "profile.to_widgets()"
   ]
  },
  {
   "cell_type": "markdown",
   "id": "1a56413b",
   "metadata": {},
   "source": [
    "# Analyzing the results of profiling with pandas\n",
    "\n",
    "## General\n",
    "\n",
    "There are about 32,5k data observations, and the following variables \n",
    "\n",
    "## Variables\n",
    "\n",
    "* _age_ is a numerical field, continous, never missing, meaning clear\n",
    "* _workclass_ is a categorical value in text fields, with low cardinality, empty for 1800 records\n",
    "* _fnlgt_ is a numerical field ranging from 12285 to 1484705, always defined, possibly the income, meaning unclear\n",
    "* _education_ is a categorical text value for the education type\n",
    "* _education_num_ is a numerical value ranging from 1 to 16, possibly the number of years spent in education\n",
    "* _marital_status_ is a categorical text value for the marital status, low cardinality\n",
    "* _occupation_ is a categorical text value for the marital status, middle cardinality. Some are empty\n",
    "* _relationship_ is a categorical text value for the relationship status, low cardinality\n",
    "* _race_ is a categorical text value for the race, low cardinality\n",
    "* _capital_gain_ is a numerical value ranging from 0 to 99999, with many null values (91,7%)\n",
    "* _capital_loss_ is a numerical value ranging from 0 to 4356, with many null values (95,3%)\n",
    "* _hours_per_week_ is a numerical value ranging from 0 to 99, with no empty values\n",
    "* _native_country_ is a text value for the country of origin, with few empty values (?)\n",
    "* _salary_ is a categorical value indicating if the salary is less or more than 50k\n",
    "\n",
    "\n"
   ]
  },
  {
   "cell_type": "code",
   "execution_count": null,
   "id": "995dd142",
   "metadata": {},
   "outputs": [],
   "source": []
  }
 ],
 "metadata": {
  "kernelspec": {
   "display_name": "Python 3 (ipykernel)",
   "language": "python",
   "name": "python3"
  },
  "language_info": {
   "codemirror_mode": {
    "name": "ipython",
    "version": 3
   },
   "file_extension": ".py",
   "mimetype": "text/x-python",
   "name": "python",
   "nbconvert_exporter": "python",
   "pygments_lexer": "ipython3",
   "version": "3.8.13"
  }
 },
 "nbformat": 4,
 "nbformat_minor": 5
}