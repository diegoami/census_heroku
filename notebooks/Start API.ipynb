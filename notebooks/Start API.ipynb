{
 "cells": [
  {
   "cell_type": "markdown",
   "id": "95117490",
   "metadata": {},
   "source": [
    "Execute following command from the command line\n",
    "\n",
    "```PYTHON_PATH=$(pwd) uvicorn api.main:app```"
   ]
  },
  {
   "cell_type": "code",
   "execution_count": 1,
   "id": "8ed79800",
   "metadata": {},
   "outputs": [],
   "source": [
    "import sys\n",
    "sys.path.append(\"../\") # go to parent dir"
   ]
  },
  {
   "cell_type": "code",
   "execution_count": 2,
   "id": "fca93eb9",
   "metadata": {},
   "outputs": [],
   "source": [
    "import requests\n",
    "from common.fixtures import first_census_entry, second_census_entry, wrong_category_entry\n",
    "import pytest\n",
    "import os\n",
    "\n",
    "def do_call(entry):\n",
    "    print(\" ================ ENTRY ================== \")\n",
    "    print(entry)\n",
    "    response = requests.post('http://127.0.0.1:8000/predict', json=entry)\n",
    "    result_call = response.json()\n",
    "    print(\" =============== RESULT ===================== \")\n",
    "    print(result_call)"
   ]
  },
  {
   "cell_type": "code",
   "execution_count": 3,
   "id": "fa91d13d",
   "metadata": {},
   "outputs": [
    {
     "name": "stdout",
     "output_type": "stream",
     "text": [
      " ================ ENTRY ================== \n",
      "{'age': 20, 'workclass': 'State-gov', 'fnlgt': 3000, 'education': 'Doctorate', 'education-num': 10, 'marital-status': 'Never-married', 'occupation': 'Sales', 'relationship': 'Not-in-family', 'race': 'White', 'sex': 'Male', 'capital-gain': 10000, 'capital-loss': 0, 'hours-per-week': 40, 'native-country': 'United-States'}\n",
      " =============== RESULT ===================== \n",
      "{'result': '<=50k'}\n"
     ]
    }
   ],
   "source": [
    "do_call(first_census_entry)"
   ]
  },
  {
   "cell_type": "code",
   "execution_count": 4,
   "id": "49aaffa8",
   "metadata": {},
   "outputs": [
    {
     "name": "stdout",
     "output_type": "stream",
     "text": [
      " ================ ENTRY ================== \n",
      "{'age': 30, 'workclass': 'Private', 'fnlgt': 1234, 'education': 'Bachelors', 'education-num': 10, 'marital-status': 'Divorced', 'occupation': 'Armed-Forces', 'relationship': 'Husband', 'race': 'Black', 'sex': 'Male', 'capital-gain': 20000, 'capital-loss': 0, 'hours-per-week': 50, 'native-country': 'England'}\n",
      " =============== RESULT ===================== \n",
      "{'result': '>50K'}\n"
     ]
    }
   ],
   "source": [
    "do_call(second_census_entry)"
   ]
  },
  {
   "cell_type": "code",
   "execution_count": 5,
   "id": "828771bf",
   "metadata": {},
   "outputs": [
    {
     "name": "stdout",
     "output_type": "stream",
     "text": [
      " ================ ENTRY ================== \n",
      "{'age': 30, 'workclass': 'Worker', 'fnlgt': 1234, 'education': 'Elementary', 'education-num': 10, 'marital-status': 'Polyamorous', 'occupation': 'Rogue', 'relationship': 'Complicated', 'race': 'Pink', 'sex': 'Bacteria', 'capital-gain': 20000, 'capital-loss': 0, 'hours-per-week': 50, 'native-country': 'Battania'}\n",
      " =============== RESULT ===================== \n",
      "{'detail': [{'loc': ['body', 'workclass'], 'msg': \"workclass Worker not valid, must be in ['State-gov', 'Self-emp-not-inc', 'Private', 'Federal-gov', 'Local-gov', '?', 'Self-emp-inc', 'Without-pay', 'Never-worked']\", 'type': 'value_error'}, {'loc': ['body', 'education'], 'msg': \"education Elementary not valid, must be in ['Bachelors', 'HS-grad', '11th', 'Masters', '9th', 'Some-college', 'Assoc-acdm', 'Assoc-voc', '7th-8th', 'Doctorate', 'Prof-school', '5th-6th', '10th', '1st-4th', 'Preschool', '12th']\", 'type': 'value_error'}, {'loc': ['body', 'marital-status'], 'msg': \"marital_status Polyamorous not valid, must be in ['Never-married', 'Married-civ-spouse', 'Divorced', 'Married-spouse-absent', 'Separated', 'Married-AF-spouse', 'Widowed']\", 'type': 'value_error'}, {'loc': ['body', 'occupation'], 'msg': \"occupation Rogue not valid, must be in ['Adm-clerical', 'Exec-managerial', 'Handlers-cleaners', 'Prof-specialty', 'Other-service', 'Sales', 'Craft-repair', 'Transport-moving', 'Farming-fishing', 'Machine-op-inspct', 'Tech-support', '?', 'Protective-serv', 'Armed-Forces', 'Priv-house-serv']\", 'type': 'value_error'}, {'loc': ['body', 'relationship'], 'msg': \"relationship Complicated not valid, must be in ['Not-in-family', 'Husband', 'Wife', 'Own-child', 'Unmarried', 'Other-relative']\", 'type': 'value_error'}, {'loc': ['body', 'race'], 'msg': \"race Pink not valid, must be in ['White', 'Black', 'Asian-Pac-Islander', 'Amer-Indian-Eskimo', 'Other']\", 'type': 'value_error'}, {'loc': ['body', 'sex'], 'msg': \"sex Bacteria not valid, must be in ['Male', 'Female']\", 'type': 'value_error'}, {'loc': ['body', 'native-country'], 'msg': \"native_country Battania not valid, must be in ['United-States', 'Cuba', 'Jamaica', 'India', '?', 'Mexico', 'South', 'Puerto-Rico', 'Honduras', 'England', 'Canada', 'Germany', 'Iran', 'Philippines', 'Italy', 'Poland', 'Columbia', 'Cambodia', 'Thailand', 'Ecuador', 'Laos', 'Taiwan', 'Haiti', 'Portugal', 'Dominican-Republic', 'El-Salvador', 'France', 'Guatemala', 'China', 'Japan', 'Yugoslavia', 'Peru', 'Outlying-US(Guam-USVI-etc)', 'Scotland', 'Trinadad&Tobago', 'Greece', 'Nicaragua', 'Vietnam', 'Hong', 'Ireland', 'Hungary', 'Holand-Netherlands']\", 'type': 'value_error'}]}\n"
     ]
    }
   ],
   "source": [
    "do_call(wrong_category_entry)"
   ]
  },
  {
   "cell_type": "code",
   "execution_count": 6,
   "id": "baa8dcbe",
   "metadata": {},
   "outputs": [],
   "source": [
    "from common.fixtures import generate_entry"
   ]
  },
  {
   "cell_type": "code",
   "execution_count": 7,
   "id": "4bf7a7da",
   "metadata": {},
   "outputs": [],
   "source": [
    "random_entry_1 = generate_entry()"
   ]
  },
  {
   "cell_type": "code",
   "execution_count": 8,
   "id": "44529765",
   "metadata": {},
   "outputs": [
    {
     "data": {
      "text/plain": [
       "{'age': 31,\n",
       " 'workclass': '?',\n",
       " 'fnlgt': 159608,\n",
       " 'education': 'HS-grad',\n",
       " 'education-num': 14,\n",
       " 'marital-status': 'Separated',\n",
       " 'occupation': 'Priv-house-serv',\n",
       " 'relationship': 'Wife',\n",
       " 'race': 'Black',\n",
       " 'sex': 'Female',\n",
       " 'capital-gain': 0,\n",
       " 'capital-loss': 0,\n",
       " 'hours-per-week': 32,\n",
       " 'native-country': 'Dominican-Republic'}"
      ]
     },
     "execution_count": 8,
     "metadata": {},
     "output_type": "execute_result"
    }
   ],
   "source": [
    "random_entry_1"
   ]
  },
  {
   "cell_type": "code",
   "execution_count": 9,
   "id": "8c12ea66",
   "metadata": {},
   "outputs": [
    {
     "name": "stdout",
     "output_type": "stream",
     "text": [
      " ================ ENTRY ================== \n",
      "{'age': 31, 'workclass': '?', 'fnlgt': 159608, 'education': 'HS-grad', 'education-num': 14, 'marital-status': 'Separated', 'occupation': 'Priv-house-serv', 'relationship': 'Wife', 'race': 'Black', 'sex': 'Female', 'capital-gain': 0, 'capital-loss': 0, 'hours-per-week': 32, 'native-country': 'Dominican-Republic'}\n",
      " =============== RESULT ===================== \n",
      "{'result': '<=50k'}\n"
     ]
    }
   ],
   "source": [
    "do_call(random_entry_1)"
   ]
  },
  {
   "cell_type": "code",
   "execution_count": 10,
   "id": "8451b399",
   "metadata": {},
   "outputs": [
    {
     "name": "stdout",
     "output_type": "stream",
     "text": [
      " ================ ENTRY ================== \n",
      "{'age': 64, 'workclass': 'Federal-gov', 'fnlgt': 341985, 'education': '5th-6th', 'education-num': 7, 'marital-status': 'Never-married', 'occupation': 'Craft-repair', 'relationship': 'Wife', 'race': 'Amer-Indian-Eskimo', 'sex': 'Male', 'capital-gain': 0, 'capital-loss': 864, 'hours-per-week': 42, 'native-country': 'Taiwan'}\n",
      " =============== RESULT ===================== \n",
      "{'result': '<=50k'}\n"
     ]
    }
   ],
   "source": [
    "do_call(generate_entry())"
   ]
  },
  {
   "cell_type": "code",
   "execution_count": 11,
   "id": "48fc599c",
   "metadata": {},
   "outputs": [
    {
     "name": "stdout",
     "output_type": "stream",
     "text": [
      " ================ ENTRY ================== \n",
      "{'age': 60, 'workclass': 'Without-pay', 'fnlgt': 326018, 'education': '9th', 'education-num': 9, 'marital-status': 'Separated', 'occupation': 'Prof-specialty', 'relationship': 'Wife', 'race': 'Asian-Pac-Islander', 'sex': 'Female', 'capital-gain': 0, 'capital-loss': 0, 'hours-per-week': 31, 'native-country': 'Cuba'}\n",
      " =============== RESULT ===================== \n",
      "{'result': '<=50k'}\n",
      " ================ ENTRY ================== \n",
      "{'age': 51, 'workclass': 'Federal-gov', 'fnlgt': 46541, 'education': '11th', 'education-num': 9, 'marital-status': 'Separated', 'occupation': 'Tech-support', 'relationship': 'Own-child', 'race': 'Asian-Pac-Islander', 'sex': 'Female', 'capital-gain': 0, 'capital-loss': 173, 'hours-per-week': 30, 'native-country': 'Thailand'}\n",
      " =============== RESULT ===================== \n",
      "{'result': '<=50k'}\n",
      " ================ ENTRY ================== \n",
      "{'age': 58, 'workclass': '?', 'fnlgt': 319145, 'education': '7th-8th', 'education-num': 10, 'marital-status': 'Married-civ-spouse', 'occupation': 'Other-service', 'relationship': 'Husband', 'race': 'Other', 'sex': 'Female', 'capital-gain': 9978, 'capital-loss': 0, 'hours-per-week': 53, 'native-country': 'Guatemala'}\n",
      " =============== RESULT ===================== \n",
      "{'result': '>50K'}\n",
      " ================ ENTRY ================== \n",
      "{'age': 53, 'workclass': 'Local-gov', 'fnlgt': 198255, 'education': 'Prof-school', 'education-num': 9, 'marital-status': 'Divorced', 'occupation': 'Prof-specialty', 'relationship': 'Husband', 'race': 'Amer-Indian-Eskimo', 'sex': 'Male', 'capital-gain': 393, 'capital-loss': 0, 'hours-per-week': 34, 'native-country': 'Italy'}\n",
      " =============== RESULT ===================== \n",
      "{'result': '<=50k'}\n",
      " ================ ENTRY ================== \n",
      "{'age': 17, 'workclass': '?', 'fnlgt': 176685, 'education': 'Some-college', 'education-num': 11, 'marital-status': 'Separated', 'occupation': 'Exec-managerial', 'relationship': 'Unmarried', 'race': 'Other', 'sex': 'Female', 'capital-gain': 269, 'capital-loss': 0, 'hours-per-week': 47, 'native-country': 'Philippines'}\n",
      " =============== RESULT ===================== \n",
      "{'result': '<=50k'}\n",
      " ================ ENTRY ================== \n",
      "{'age': 35, 'workclass': 'Self-emp-inc', 'fnlgt': 220089, 'education': 'Preschool', 'education-num': 7, 'marital-status': 'Married-civ-spouse', 'occupation': 'Armed-Forces', 'relationship': 'Unmarried', 'race': 'Amer-Indian-Eskimo', 'sex': 'Male', 'capital-gain': 2478, 'capital-loss': 423, 'hours-per-week': 42, 'native-country': 'Laos'}\n",
      " =============== RESULT ===================== \n",
      "{'result': '<=50k'}\n",
      " ================ ENTRY ================== \n",
      "{'age': 23, 'workclass': '?', 'fnlgt': 263906, 'education': 'Preschool', 'education-num': 7, 'marital-status': 'Married-spouse-absent', 'occupation': 'Prof-specialty', 'relationship': 'Husband', 'race': 'White', 'sex': 'Male', 'capital-gain': 0, 'capital-loss': 65, 'hours-per-week': 46, 'native-country': 'Honduras'}\n",
      " =============== RESULT ===================== \n",
      "{'result': '<=50k'}\n",
      " ================ ENTRY ================== \n",
      "{'age': 45, 'workclass': 'State-gov', 'fnlgt': 166653, 'education': 'Some-college', 'education-num': 11, 'marital-status': 'Married-AF-spouse', 'occupation': 'Machine-op-inspct', 'relationship': 'Wife', 'race': 'Amer-Indian-Eskimo', 'sex': 'Female', 'capital-gain': 0, 'capital-loss': 178, 'hours-per-week': 62, 'native-country': 'Cuba'}\n",
      " =============== RESULT ===================== \n",
      "{'result': '<=50k'}\n",
      " ================ ENTRY ================== \n",
      "{'age': 43, 'workclass': 'Private', 'fnlgt': 80768, 'education': '10th', 'education-num': 16, 'marital-status': 'Married-spouse-absent', 'occupation': 'Sales', 'relationship': 'Wife', 'race': 'White', 'sex': 'Male', 'capital-gain': 0, 'capital-loss': 0, 'hours-per-week': 40, 'native-country': 'Peru'}\n",
      " =============== RESULT ===================== \n",
      "{'result': '<=50k'}\n",
      " ================ ENTRY ================== \n",
      "{'age': 57, 'workclass': 'Private', 'fnlgt': 347801, 'education': '9th', 'education-num': 10, 'marital-status': 'Married-AF-spouse', 'occupation': 'Priv-house-serv', 'relationship': 'Not-in-family', 'race': 'Black', 'sex': 'Male', 'capital-gain': 0, 'capital-loss': 57, 'hours-per-week': 37, 'native-country': 'Japan'}\n",
      " =============== RESULT ===================== \n",
      "{'result': '<=50k'}\n"
     ]
    }
   ],
   "source": [
    "for i in range(10):\n",
    "    do_call(generate_entry())"
   ]
  },
  {
   "cell_type": "code",
   "execution_count": 12,
   "id": "ad1a0d71",
   "metadata": {},
   "outputs": [
    {
     "name": "stdout",
     "output_type": "stream",
     "text": [
      " ================ ENTRY ================== \n",
      "{'age': 32, 'workclass': 'Never-worked', 'fnlgt': 372326, 'education': '10th', 'education-num': 9, 'marital-status': 'Separated', 'occupation': 'Handlers-cleaners', 'relationship': 'Own-child', 'race': 'Other', 'sex': 'Female', 'capital-gain': 10000, 'capital-loss': 754, 'hours-per-week': 40, 'native-country': 'Haiti'}\n",
      " =============== RESULT ===================== \n",
      "{'result': '>50K'}\n",
      " ================ ENTRY ================== \n",
      "{'age': 41, 'workclass': 'Federal-gov', 'fnlgt': 190852, 'education': '1st-4th', 'education-num': 10, 'marital-status': 'Never-married', 'occupation': 'Handlers-cleaners', 'relationship': 'Other-relative', 'race': 'Black', 'sex': 'Female', 'capital-gain': 0, 'capital-loss': 318, 'hours-per-week': 35, 'native-country': 'Taiwan'}\n",
      " =============== RESULT ===================== \n",
      "{'result': '<=50k'}\n",
      " ================ ENTRY ================== \n",
      "{'age': 44, 'workclass': '?', 'fnlgt': 354373, 'education': '11th', 'education-num': 11, 'marital-status': 'Widowed', 'occupation': 'Craft-repair', 'relationship': 'Husband', 'race': 'Other', 'sex': 'Male', 'capital-gain': 4274, 'capital-loss': 105, 'hours-per-week': 64, 'native-country': 'United-States'}\n",
      " =============== RESULT ===================== \n",
      "{'result': '>50K'}\n",
      " ================ ENTRY ================== \n",
      "{'age': 51, 'workclass': 'Self-emp-inc', 'fnlgt': 104659, 'education': 'Prof-school', 'education-num': 12, 'marital-status': 'Married-spouse-absent', 'occupation': 'Priv-house-serv', 'relationship': 'Unmarried', 'race': 'Black', 'sex': 'Female', 'capital-gain': 0, 'capital-loss': 216, 'hours-per-week': 27, 'native-country': 'Peru'}\n",
      " =============== RESULT ===================== \n",
      "{'result': '<=50k'}\n",
      " ================ ENTRY ================== \n",
      "{'age': 44, 'workclass': 'Never-worked', 'fnlgt': 210999, 'education': 'Preschool', 'education-num': 8, 'marital-status': 'Married-AF-spouse', 'occupation': 'Protective-serv', 'relationship': 'Husband', 'race': 'Other', 'sex': 'Female', 'capital-gain': 0, 'capital-loss': 1153, 'hours-per-week': 35, 'native-country': 'Guatemala'}\n",
      " =============== RESULT ===================== \n",
      "{'result': '<=50k'}\n",
      " ================ ENTRY ================== \n",
      "{'age': 23, 'workclass': '?', 'fnlgt': 60272, 'education': 'Some-college', 'education-num': 13, 'marital-status': 'Married-spouse-absent', 'occupation': 'Protective-serv', 'relationship': 'Other-relative', 'race': 'Asian-Pac-Islander', 'sex': 'Male', 'capital-gain': 0, 'capital-loss': 0, 'hours-per-week': 49, 'native-country': 'El-Salvador'}\n",
      " =============== RESULT ===================== \n",
      "{'result': '<=50k'}\n",
      " ================ ENTRY ================== \n",
      "{'age': 29, 'workclass': 'State-gov', 'fnlgt': 155258, 'education': 'Doctorate', 'education-num': 12, 'marital-status': 'Married-civ-spouse', 'occupation': 'Tech-support', 'relationship': 'Husband', 'race': 'Black', 'sex': 'Male', 'capital-gain': 6030, 'capital-loss': 0, 'hours-per-week': 52, 'native-country': 'Japan'}\n",
      " =============== RESULT ===================== \n",
      "{'result': '>50K'}\n",
      " ================ ENTRY ================== \n",
      "{'age': 42, 'workclass': 'Federal-gov', 'fnlgt': 234086, 'education': '7th-8th', 'education-num': 12, 'marital-status': 'Divorced', 'occupation': 'Farming-fishing', 'relationship': 'Not-in-family', 'race': 'White', 'sex': 'Female', 'capital-gain': 0, 'capital-loss': 155, 'hours-per-week': 31, 'native-country': 'Italy'}\n",
      " =============== RESULT ===================== \n",
      "{'result': '<=50k'}\n",
      " ================ ENTRY ================== \n",
      "{'age': 45, 'workclass': 'Never-worked', 'fnlgt': 218155, 'education': 'Bachelors', 'education-num': 4, 'marital-status': 'Married-AF-spouse', 'occupation': 'Tech-support', 'relationship': 'Wife', 'race': 'Other', 'sex': 'Female', 'capital-gain': 0, 'capital-loss': 0, 'hours-per-week': 54, 'native-country': '?'}\n",
      " =============== RESULT ===================== \n",
      "{'result': '<=50k'}\n",
      " ================ ENTRY ================== \n",
      "{'age': 52, 'workclass': 'Federal-gov', 'fnlgt': 262154, 'education': '1st-4th', 'education-num': 9, 'marital-status': 'Married-spouse-absent', 'occupation': 'Transport-moving', 'relationship': 'Husband', 'race': 'Other', 'sex': 'Female', 'capital-gain': 0, 'capital-loss': 300, 'hours-per-week': 46, 'native-country': 'India'}\n",
      " =============== RESULT ===================== \n",
      "{'result': '<=50k'}\n"
     ]
    }
   ],
   "source": [
    "for i in range(10):\n",
    "    do_call(generate_entry())"
   ]
  },
  {
   "cell_type": "code",
   "execution_count": 13,
   "id": "88a431ee",
   "metadata": {},
   "outputs": [],
   "source": [
    "random_entry_2 = random_entry_1.copy()\n",
    "random_entry_2[\"workclass\"] = \"None\"\n"
   ]
  },
  {
   "cell_type": "code",
   "execution_count": 14,
   "id": "e5166201",
   "metadata": {},
   "outputs": [
    {
     "data": {
      "text/plain": [
       "{'age': 31,\n",
       " 'workclass': 'None',\n",
       " 'fnlgt': 159608,\n",
       " 'education': 'HS-grad',\n",
       " 'education-num': 14,\n",
       " 'marital-status': 'Separated',\n",
       " 'occupation': 'Priv-house-serv',\n",
       " 'relationship': 'Wife',\n",
       " 'race': 'Black',\n",
       " 'sex': 'Female',\n",
       " 'capital-gain': 0,\n",
       " 'capital-loss': 0,\n",
       " 'hours-per-week': 32,\n",
       " 'native-country': 'Dominican-Republic'}"
      ]
     },
     "execution_count": 14,
     "metadata": {},
     "output_type": "execute_result"
    }
   ],
   "source": [
    "random_entry_2"
   ]
  },
  {
   "cell_type": "code",
   "execution_count": 15,
   "id": "6a0bdf05",
   "metadata": {},
   "outputs": [
    {
     "name": "stdout",
     "output_type": "stream",
     "text": [
      " ================ ENTRY ================== \n",
      "{'age': 31, 'workclass': 'None', 'fnlgt': 159608, 'education': 'HS-grad', 'education-num': 14, 'marital-status': 'Separated', 'occupation': 'Priv-house-serv', 'relationship': 'Wife', 'race': 'Black', 'sex': 'Female', 'capital-gain': 0, 'capital-loss': 0, 'hours-per-week': 32, 'native-country': 'Dominican-Republic'}\n",
      " =============== RESULT ===================== \n",
      "{'detail': [{'loc': ['body', 'workclass'], 'msg': \"workclass None not valid, must be in ['State-gov', 'Self-emp-not-inc', 'Private', 'Federal-gov', 'Local-gov', '?', 'Self-emp-inc', 'Without-pay', 'Never-worked']\", 'type': 'value_error'}]}\n"
     ]
    }
   ],
   "source": [
    "do_call(random_entry_2)"
   ]
  },
  {
   "cell_type": "code",
   "execution_count": 16,
   "id": "dd4a01a1",
   "metadata": {},
   "outputs": [],
   "source": [
    "zero_entry={\n",
    "    'age': 17, 'workclass': 'Without-pay', 'fnlgt': 1, \n",
    "    'education': 'Bachelors', 'education-num': 1, 'marital-status': 'Never-married', \n",
    "    'occupation': 'Armed-Forces', 'relationship': 'Unmarried', \n",
    "    'race': 'Black', 'sex': 'Female', 'capital-gain': 0, 'capital-loss': 0, 'hours-per-week': 10,\n",
    "    'native-country': 'England'}"
   ]
  },
  {
   "cell_type": "code",
   "execution_count": 17,
   "id": "f856c5e5",
   "metadata": {},
   "outputs": [
    {
     "name": "stdout",
     "output_type": "stream",
     "text": [
      " ================ ENTRY ================== \n",
      "{'age': 17, 'workclass': 'Without-pay', 'fnlgt': 1, 'education': 'Bachelors', 'education-num': 1, 'marital-status': 'Never-married', 'occupation': 'Armed-Forces', 'relationship': 'Unmarried', 'race': 'Black', 'sex': 'Female', 'capital-gain': 0, 'capital-loss': 0, 'hours-per-week': 10, 'native-country': 'England'}\n",
      " =============== RESULT ===================== \n",
      "{'result': '<=50k'}\n"
     ]
    }
   ],
   "source": [
    "do_call(zero_entry)"
   ]
  },
  {
   "cell_type": "code",
   "execution_count": 18,
   "id": "9d353ca7",
   "metadata": {},
   "outputs": [],
   "source": [
    "big_entry={\n",
    "    'age': 50, 'workclass': 'Self-emp-not-inc', 'fnlgt': 1, \n",
    "    'education': 'Bachelors', 'education-num': 12, 'marital-status': 'Never-married', \n",
    "    'occupation': 'Adm-clerical', 'relationship': 'Unmarried', \n",
    "    'race': 'White', 'sex': 'Male', 'capital-gain': 100000, 'capital-loss': 0, 'hours-per-week': 40,\n",
    "    'native-country': 'England'}"
   ]
  },
  {
   "cell_type": "code",
   "execution_count": 19,
   "id": "0af96399",
   "metadata": {},
   "outputs": [
    {
     "name": "stdout",
     "output_type": "stream",
     "text": [
      " ================ ENTRY ================== \n",
      "{'age': 50, 'workclass': 'Self-emp-not-inc', 'fnlgt': 1, 'education': 'Bachelors', 'education-num': 12, 'marital-status': 'Never-married', 'occupation': 'Adm-clerical', 'relationship': 'Unmarried', 'race': 'White', 'sex': 'Male', 'capital-gain': 100000, 'capital-loss': 0, 'hours-per-week': 40, 'native-country': 'England'}\n",
      " =============== RESULT ===================== \n",
      "{'result': '>50K'}\n"
     ]
    }
   ],
   "source": [
    "do_call(big_entry)"
   ]
  },
  {
   "cell_type": "code",
   "execution_count": null,
   "id": "c5ed0e2e",
   "metadata": {},
   "outputs": [],
   "source": []
  }
 ],
 "metadata": {
  "kernelspec": {
   "display_name": "Python 3 (ipykernel)",
   "language": "python",
   "name": "python3"
  },
  "language_info": {
   "codemirror_mode": {
    "name": "ipython",
    "version": 3
   },
   "file_extension": ".py",
   "mimetype": "text/x-python",
   "name": "python",
   "nbconvert_exporter": "python",
   "pygments_lexer": "ipython3",
   "version": "3.8.13"
  }
 },
 "nbformat": 4,
 "nbformat_minor": 5
}