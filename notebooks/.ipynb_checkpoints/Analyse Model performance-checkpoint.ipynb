{
 "cells": [
  {
   "cell_type": "code",
   "execution_count": 6,
   "id": "d2101872",
   "metadata": {},
   "outputs": [],
   "source": [
    "import pandas as pd\n",
    "import joblib\n",
    "import os\n",
    "\n",
    "from pathlib import Path\n"
   ]
  },
  {
   "cell_type": "code",
   "execution_count": 15,
   "id": "4cc90c42",
   "metadata": {},
   "outputs": [],
   "source": [
    "\n",
    "path = Path(os.getcwd())\n",
    "dirname = os.path.join(path.parent.absolute(), 'model', 'latest')\n",
    "data_path = os.path.join(path.parent.absolute(), 'data', 'census.csv')"
   ]
  },
  {
   "cell_type": "code",
   "execution_count": 10,
   "id": "4a130d35",
   "metadata": {},
   "outputs": [
    {
     "name": "stderr",
     "output_type": "stream",
     "text": [
      "/home/diego/anaconda3/envs/census_heroku/lib/python3.8/site-packages/sklearn/base.py:329: UserWarning: Trying to unpickle estimator DecisionTreeClassifier from version 1.1.1 when using version 1.1.2. This might lead to breaking code or invalid results. Use at your own risk. For more info please refer to:\n",
      "https://scikit-learn.org/stable/model_persistence.html#security-maintainability-limitations\n",
      "  warnings.warn(\n",
      "/home/diego/anaconda3/envs/census_heroku/lib/python3.8/site-packages/sklearn/base.py:329: UserWarning: Trying to unpickle estimator RandomForestClassifier from version 1.1.1 when using version 1.1.2. This might lead to breaking code or invalid results. Use at your own risk. For more info please refer to:\n",
      "https://scikit-learn.org/stable/model_persistence.html#security-maintainability-limitations\n",
      "  warnings.warn(\n",
      "/home/diego/anaconda3/envs/census_heroku/lib/python3.8/site-packages/sklearn/base.py:329: UserWarning: Trying to unpickle estimator OneHotEncoder from version 1.1.1 when using version 1.1.2. This might lead to breaking code or invalid results. Use at your own risk. For more info please refer to:\n",
      "https://scikit-learn.org/stable/model_persistence.html#security-maintainability-limitations\n",
      "  warnings.warn(\n",
      "/home/diego/anaconda3/envs/census_heroku/lib/python3.8/site-packages/sklearn/base.py:329: UserWarning: Trying to unpickle estimator LabelBinarizer from version 1.1.1 when using version 1.1.2. This might lead to breaking code or invalid results. Use at your own risk. For more info please refer to:\n",
      "https://scikit-learn.org/stable/model_persistence.html#security-maintainability-limitations\n",
      "  warnings.warn(\n"
     ]
    }
   ],
   "source": [
    "    # Add code to load in the data.\n",
    "model = joblib.load(os.path.join(dirname, 'model'))\n",
    "encoder = joblib.load(os.path.join(dirname, 'encoder'))\n",
    "lb = joblib.load(os.path.join(dirname, 'lb'))\n",
    "cat_features = joblib.load(os.path.join(dirname, 'cat_features'))"
   ]
  },
  {
   "cell_type": "code",
   "execution_count": 11,
   "id": "a967e7cd",
   "metadata": {},
   "outputs": [],
   "source": [
    "import sys\n",
    "sys.path.append(\"../\") # go to parent dir"
   ]
  },
  {
   "cell_type": "code",
   "execution_count": 12,
   "id": "d774b280",
   "metadata": {},
   "outputs": [],
   "source": [
    "from ml.data import process_data\n",
    "from ml.model import inference, compute_model_metrics\n",
    "from sklearn.metrics import confusion_matrix"
   ]
  },
  {
   "cell_type": "code",
   "execution_count": 16,
   "id": "c0631efe",
   "metadata": {},
   "outputs": [],
   "source": [
    "data = pd.read_csv(data_path)"
   ]
  },
  {
   "cell_type": "code",
   "execution_count": 17,
   "id": "fdb66160",
   "metadata": {},
   "outputs": [],
   "source": [
    "X, y, _, _ =  process_data(\n",
    "        data, categorical_features=cat_features, label=\"salary\", encoder = encoder, lb = lb, training = True\n",
    ")\n",
    "  \n",
    "\n"
   ]
  },
  {
   "cell_type": "code",
   "execution_count": 19,
   "id": "d5daa13b",
   "metadata": {},
   "outputs": [],
   "source": [
    "preds = inference(model, X)"
   ]
  },
  {
   "cell_type": "code",
   "execution_count": 20,
   "id": "9ff6bb5e",
   "metadata": {},
   "outputs": [],
   "source": [
    "precision, recall, fbeta = compute_model_metrics(y, preds)"
   ]
  },
  {
   "cell_type": "code",
   "execution_count": 21,
   "id": "42024c23",
   "metadata": {},
   "outputs": [
    {
     "name": "stdout",
     "output_type": "stream",
     "text": [
      "precision: 0.8090304925723222, recall: 0.5278663435786252, fbeta: 0.6388824573589565\n"
     ]
    }
   ],
   "source": [
    "print(f\"precision: {precision}, recall: {recall}, fbeta: {fbeta}\")"
   ]
  },
  {
   "cell_type": "code",
   "execution_count": null,
   "id": "e0d3d94b",
   "metadata": {},
   "outputs": [],
   "source": []
  }
 ],
 "metadata": {
  "kernelspec": {
   "display_name": "Python 3 (ipykernel)",
   "language": "python",
   "name": "python3"
  },
  "language_info": {
   "codemirror_mode": {
    "name": "ipython",
    "version": 3
   },
   "file_extension": ".py",
   "mimetype": "text/x-python",
   "name": "python",
   "nbconvert_exporter": "python",
   "pygments_lexer": "ipython3",
   "version": "3.8.13"
  }
 },
 "nbformat": 4,
 "nbformat_minor": 5
}
