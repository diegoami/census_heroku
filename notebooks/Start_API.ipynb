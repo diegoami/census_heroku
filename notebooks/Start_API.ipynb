{
 "cells": [
  {
   "cell_type": "markdown",
   "id": "95117490",
   "metadata": {},
   "source": [
    "Execute following command from the command line\n",
    "\n",
    "```PYTHON_PATH=$(pwd) uvicorn api.main:app```"
   ]
  },
  {
   "cell_type": "code",
   "execution_count": 1,
   "id": "8ed79800",
   "metadata": {},
   "outputs": [],
   "source": [
    "import sys\n",
    "sys.path.append(\"../\") # go to parent dir\n"
   ]
  },
  {
   "cell_type": "code",
   "execution_count": 2,
   "id": "fca93eb9",
   "metadata": {},
   "outputs": [],
   "source": [
    "host=\"127.0.0.1\"\n",
    "port=8000\n",
    "from common.fixtures import first_census_entry, second_census_entry, wrong_category_entry\n",
    "from api.requests import do_call"
   ]
  },
  {
   "cell_type": "code",
   "execution_count": 3,
   "id": "fa91d13d",
   "metadata": {},
   "outputs": [
    {
     "name": "stdout",
     "output_type": "stream",
     "text": [
      " ================ CALL ====================\n",
      "ENTRY: {\"age\": 20, \"workclass\": \"State-gov\", \"fnlgt\": 3000, \"education\": \"Doctorate\", \"education-num\": 10, \"marital-status\": \"Never-married\", \"occupation\": \"Sales\", \"relationship\": \"Not-in-family\", \"race\": \"White\", \"sex\": \"Male\", \"capital-gain\": 10000, \"capital-loss\": 0, \"hours-per-week\": 40, \"native-country\": \"United-States\"}\n",
      "STATUS CODE: 200\n",
      "RESULT: {'result': '<=50K'}\n"
     ]
    }
   ],
   "source": [
    "do_call(host, port, first_census_entry)"
   ]
  },
  {
   "cell_type": "code",
   "execution_count": 4,
   "id": "49aaffa8",
   "metadata": {},
   "outputs": [
    {
     "name": "stdout",
     "output_type": "stream",
     "text": [
      " ================ CALL ====================\n",
      "ENTRY: {\"age\": 30, \"workclass\": \"Private\", \"fnlgt\": 1234, \"education\": \"Bachelors\", \"education-num\": 10, \"marital-status\": \"Divorced\", \"occupation\": \"Armed-Forces\", \"relationship\": \"Husband\", \"race\": \"Black\", \"sex\": \"Male\", \"capital-gain\": 20000, \"capital-loss\": 0, \"hours-per-week\": 50, \"native-country\": \"England\"}\n",
      "STATUS CODE: 200\n",
      "RESULT: {'result': '>50K'}\n"
     ]
    }
   ],
   "source": [
    "do_call(host, port, second_census_entry)"
   ]
  },
  {
   "cell_type": "code",
   "execution_count": 5,
   "id": "828771bf",
   "metadata": {},
   "outputs": [
    {
     "name": "stdout",
     "output_type": "stream",
     "text": [
      " ================ CALL ====================\n",
      "ENTRY: {\"age\": 30, \"workclass\": \"Worker\", \"fnlgt\": 1234, \"education\": \"Elementary\", \"education-num\": 10, \"marital-status\": \"Polyamorous\", \"occupation\": \"Rogue\", \"relationship\": \"Complicated\", \"race\": \"Pink\", \"sex\": \"Bacteria\", \"capital-gain\": 20000, \"capital-loss\": 0, \"hours-per-week\": 50, \"native-country\": \"Battania\"}\n",
      "STATUS CODE: 422\n",
      "RESULT: {'detail': [{'loc': ['body', 'workclass'], 'msg': \"workclass Worker not valid, must be in ['State-gov', 'Self-emp-not-inc', 'Private', 'Federal-gov', 'Local-gov', '?', 'Self-emp-inc', 'Without-pay', 'Never-worked']\", 'type': 'value_error'}, {'loc': ['body', 'education'], 'msg': \"education Elementary not valid, must be in ['Bachelors', 'HS-grad', '11th', 'Masters', '9th', 'Some-college', 'Assoc-acdm', 'Assoc-voc', '7th-8th', 'Doctorate', 'Prof-school', '5th-6th', '10th', '1st-4th', 'Preschool', '12th']\", 'type': 'value_error'}, {'loc': ['body', 'marital-status'], 'msg': \"marital_status Polyamorous not valid, must be in ['Never-married', 'Married-civ-spouse', 'Divorced', 'Married-spouse-absent', 'Separated', 'Married-AF-spouse', 'Widowed']\", 'type': 'value_error'}, {'loc': ['body', 'occupation'], 'msg': \"occupation Rogue not valid, must be in ['Adm-clerical', 'Exec-managerial', 'Handlers-cleaners', 'Prof-specialty', 'Other-service', 'Sales', 'Craft-repair', 'Transport-moving', 'Farming-fishing', 'Machine-op-inspct', 'Tech-support', '?', 'Protective-serv', 'Armed-Forces', 'Priv-house-serv']\", 'type': 'value_error'}, {'loc': ['body', 'relationship'], 'msg': \"relationship Complicated not valid, must be in ['Not-in-family', 'Husband', 'Wife', 'Own-child', 'Unmarried', 'Other-relative']\", 'type': 'value_error'}, {'loc': ['body', 'race'], 'msg': \"race Pink not valid, must be in ['White', 'Black', 'Asian-Pac-Islander', 'Amer-Indian-Eskimo', 'Other']\", 'type': 'value_error'}, {'loc': ['body', 'sex'], 'msg': \"sex Bacteria not valid, must be in ['Male', 'Female']\", 'type': 'value_error'}, {'loc': ['body', 'native-country'], 'msg': \"native_country Battania not valid, must be in ['United-States', 'Cuba', 'Jamaica', 'India', '?', 'Mexico', 'South', 'Puerto-Rico', 'Honduras', 'England', 'Canada', 'Germany', 'Iran', 'Philippines', 'Italy', 'Poland', 'Columbia', 'Cambodia', 'Thailand', 'Ecuador', 'Laos', 'Taiwan', 'Haiti', 'Portugal', 'Dominican-Republic', 'El-Salvador', 'France', 'Guatemala', 'China', 'Japan', 'Yugoslavia', 'Peru', 'Outlying-US(Guam-USVI-etc)', 'Scotland', 'Trinadad&Tobago', 'Greece', 'Nicaragua', 'Vietnam', 'Hong', 'Ireland', 'Hungary', 'Holand-Netherlands']\", 'type': 'value_error'}]}\n"
     ]
    }
   ],
   "source": [
    "do_call(host, port, wrong_category_entry)"
   ]
  },
  {
   "cell_type": "code",
   "execution_count": 6,
   "id": "baa8dcbe",
   "metadata": {},
   "outputs": [],
   "source": [
    "from common.fixtures import generate_entry"
   ]
  },
  {
   "cell_type": "code",
   "execution_count": 7,
   "id": "4bf7a7da",
   "metadata": {},
   "outputs": [],
   "source": [
    "random_entry_1 = generate_entry()"
   ]
  },
  {
   "cell_type": "code",
   "execution_count": 8,
   "id": "44529765",
   "metadata": {},
   "outputs": [
    {
     "data": {
      "text/plain": [
       "{'age': 35,\n",
       " 'workclass': 'Never-worked',\n",
       " 'fnlgt': 64986,\n",
       " 'education': 'Doctorate',\n",
       " 'education-num': 10,\n",
       " 'marital-status': 'Widowed',\n",
       " 'occupation': 'Transport-moving',\n",
       " 'relationship': 'Wife',\n",
       " 'race': 'Black',\n",
       " 'sex': 'Male',\n",
       " 'capital-gain': 486,\n",
       " 'capital-loss': 7,\n",
       " 'hours-per-week': 24,\n",
       " 'native-country': 'Honduras'}"
      ]
     },
     "execution_count": 8,
     "metadata": {},
     "output_type": "execute_result"
    }
   ],
   "source": [
    "random_entry_1"
   ]
  },
  {
   "cell_type": "code",
   "execution_count": 9,
   "id": "8c12ea66",
   "metadata": {},
   "outputs": [
    {
     "name": "stdout",
     "output_type": "stream",
     "text": [
      " ================ CALL ====================\n",
      "ENTRY: {\"age\": 35, \"workclass\": \"Never-worked\", \"fnlgt\": 64986, \"education\": \"Doctorate\", \"education-num\": 10, \"marital-status\": \"Widowed\", \"occupation\": \"Transport-moving\", \"relationship\": \"Wife\", \"race\": \"Black\", \"sex\": \"Male\", \"capital-gain\": 486, \"capital-loss\": 7, \"hours-per-week\": 24, \"native-country\": \"Honduras\"}\n",
      "STATUS CODE: 200\n",
      "RESULT: {'result': '<=50K'}\n"
     ]
    }
   ],
   "source": [
    "do_call(host, port, random_entry_1)"
   ]
  },
  {
   "cell_type": "code",
   "execution_count": 10,
   "id": "8451b399",
   "metadata": {},
   "outputs": [
    {
     "name": "stdout",
     "output_type": "stream",
     "text": [
      " ================ CALL ====================\n",
      "ENTRY: {\"age\": 60, \"workclass\": \"Federal-gov\", \"fnlgt\": 95441, \"education\": \"11th\", \"education-num\": 9, \"marital-status\": \"Married-civ-spouse\", \"occupation\": \"Priv-house-serv\", \"relationship\": \"Own-child\", \"race\": \"Black\", \"sex\": \"Male\", \"capital-gain\": 5711, \"capital-loss\": 89, \"hours-per-week\": 30, \"native-country\": \"Vietnam\"}\n",
      "STATUS CODE: 200\n",
      "RESULT: {'result': '>50K'}\n"
     ]
    }
   ],
   "source": [
    "do_call(host, port, generate_entry())"
   ]
  },
  {
   "cell_type": "code",
   "execution_count": 11,
   "id": "48fc599c",
   "metadata": {},
   "outputs": [
    {
     "name": "stdout",
     "output_type": "stream",
     "text": [
      " ================ CALL ====================\n",
      "ENTRY: {\"age\": 20, \"workclass\": \"Self-emp-not-inc\", \"fnlgt\": 31912, \"education\": \"12th\", \"education-num\": 7, \"marital-status\": \"Married-civ-spouse\", \"occupation\": \"Machine-op-inspct\", \"relationship\": \"Other-relative\", \"race\": \"Asian-Pac-Islander\", \"sex\": \"Female\", \"capital-gain\": 10000, \"capital-loss\": 0, \"hours-per-week\": 31, \"native-country\": \"Thailand\"}\n",
      "STATUS CODE: 200\n",
      "RESULT: {'result': '<=50K'}\n",
      " ================ CALL ====================\n",
      "ENTRY: {\"age\": 33, \"workclass\": \"Without-pay\", \"fnlgt\": 115145, \"education\": \"9th\", \"education-num\": 12, \"marital-status\": \"Widowed\", \"occupation\": \"Tech-support\", \"relationship\": \"Own-child\", \"race\": \"White\", \"sex\": \"Female\", \"capital-gain\": 0, \"capital-loss\": 0, \"hours-per-week\": 42, \"native-country\": \"Thailand\"}\n",
      "STATUS CODE: 200\n",
      "RESULT: {'result': '<=50K'}\n",
      " ================ CALL ====================\n",
      "ENTRY: {\"age\": 40, \"workclass\": \"Self-emp-not-inc\", \"fnlgt\": 0, \"education\": \"12th\", \"education-num\": 8, \"marital-status\": \"Divorced\", \"occupation\": \"Transport-moving\", \"relationship\": \"Other-relative\", \"race\": \"Asian-Pac-Islander\", \"sex\": \"Male\", \"capital-gain\": 7906, \"capital-loss\": 0, \"hours-per-week\": 13, \"native-country\": \"Yugoslavia\"}\n",
      "STATUS CODE: 200\n",
      "RESULT: {'result': '>50K'}\n",
      " ================ CALL ====================\n",
      "ENTRY: {\"age\": 23, \"workclass\": \"?\", \"fnlgt\": 199309, \"education\": \"Some-college\", \"education-num\": 8, \"marital-status\": \"Separated\", \"occupation\": \"Armed-Forces\", \"relationship\": \"Other-relative\", \"race\": \"Amer-Indian-Eskimo\", \"sex\": \"Female\", \"capital-gain\": 1742, \"capital-loss\": 430, \"hours-per-week\": 36, \"native-country\": \"Ireland\"}\n",
      "STATUS CODE: 200\n",
      "RESULT: {'result': '<=50K'}\n",
      " ================ CALL ====================\n",
      "ENTRY: {\"age\": 41, \"workclass\": \"Local-gov\", \"fnlgt\": 165840, \"education\": \"5th-6th\", \"education-num\": 10, \"marital-status\": \"Married-civ-spouse\", \"occupation\": \"Exec-managerial\", \"relationship\": \"Other-relative\", \"race\": \"Black\", \"sex\": \"Male\", \"capital-gain\": 9991, \"capital-loss\": 225, \"hours-per-week\": 35, \"native-country\": \"China\"}\n",
      "STATUS CODE: 200\n",
      "RESULT: {'result': '>50K'}\n",
      " ================ CALL ====================\n",
      "ENTRY: {\"age\": 28, \"workclass\": \"Never-worked\", \"fnlgt\": 184706, \"education\": \"10th\", \"education-num\": 11, \"marital-status\": \"Divorced\", \"occupation\": \"Other-service\", \"relationship\": \"Husband\", \"race\": \"Amer-Indian-Eskimo\", \"sex\": \"Female\", \"capital-gain\": 0, \"capital-loss\": 0, \"hours-per-week\": 44, \"native-country\": \"Outlying-US(Guam-USVI-etc)\"}\n",
      "STATUS CODE: 200\n",
      "RESULT: {'result': '<=50K'}\n",
      " ================ CALL ====================\n",
      "ENTRY: {\"age\": 38, \"workclass\": \"State-gov\", \"fnlgt\": 157927, \"education\": \"5th-6th\", \"education-num\": 8, \"marital-status\": \"Widowed\", \"occupation\": \"?\", \"relationship\": \"Husband\", \"race\": \"Asian-Pac-Islander\", \"sex\": \"Female\", \"capital-gain\": 10000, \"capital-loss\": 576, \"hours-per-week\": 43, \"native-country\": \"Portugal\"}\n",
      "STATUS CODE: 200\n",
      "RESULT: {'result': '>50K'}\n",
      " ================ CALL ====================\n",
      "ENTRY: {\"age\": 53, \"workclass\": \"Local-gov\", \"fnlgt\": 0, \"education\": \"Bachelors\", \"education-num\": 9, \"marital-status\": \"Separated\", \"occupation\": \"Handlers-cleaners\", \"relationship\": \"Unmarried\", \"race\": \"Amer-Indian-Eskimo\", \"sex\": \"Male\", \"capital-gain\": 3743, \"capital-loss\": 169, \"hours-per-week\": 29, \"native-country\": \"United-States\"}\n",
      "STATUS CODE: 200\n",
      "RESULT: {'result': '<=50K'}\n",
      " ================ CALL ====================\n",
      "ENTRY: {\"age\": 39, \"workclass\": \"Never-worked\", \"fnlgt\": 301221, \"education\": \"1st-4th\", \"education-num\": 8, \"marital-status\": \"Married-civ-spouse\", \"occupation\": \"Farming-fishing\", \"relationship\": \"Wife\", \"race\": \"Asian-Pac-Islander\", \"sex\": \"Male\", \"capital-gain\": 4339, \"capital-loss\": 0, \"hours-per-week\": 48, \"native-country\": \"Mexico\"}\n",
      "STATUS CODE: 200\n",
      "RESULT: {'result': '<=50K'}\n",
      " ================ CALL ====================\n",
      "ENTRY: {\"age\": 41, \"workclass\": \"Without-pay\", \"fnlgt\": 266520, \"education\": \"Preschool\", \"education-num\": 8, \"marital-status\": \"Married-civ-spouse\", \"occupation\": \"Priv-house-serv\", \"relationship\": \"Other-relative\", \"race\": \"Asian-Pac-Islander\", \"sex\": \"Male\", \"capital-gain\": 302, \"capital-loss\": 502, \"hours-per-week\": 37, \"native-country\": \"Taiwan\"}\n",
      "STATUS CODE: 200\n",
      "RESULT: {'result': '<=50K'}\n"
     ]
    }
   ],
   "source": [
    "for i in range(10):\n",
    "    do_call(host, port, generate_entry())"
   ]
  },
  {
   "cell_type": "code",
   "execution_count": 12,
   "id": "ad1a0d71",
   "metadata": {},
   "outputs": [
    {
     "name": "stdout",
     "output_type": "stream",
     "text": [
      " ================ CALL ====================\n",
      "ENTRY: {\"age\": 31, \"workclass\": \"Local-gov\", \"fnlgt\": 116261, \"education\": \"7th-8th\", \"education-num\": 8, \"marital-status\": \"Never-married\", \"occupation\": \"Machine-op-inspct\", \"relationship\": \"Not-in-family\", \"race\": \"Asian-Pac-Islander\", \"sex\": \"Female\", \"capital-gain\": 10000, \"capital-loss\": 0, \"hours-per-week\": 55, \"native-country\": \"China\"}\n",
      "STATUS CODE: 200\n",
      "RESULT: {'result': '>50K'}\n",
      " ================ CALL ====================\n",
      "ENTRY: {\"age\": 21, \"workclass\": \"Self-emp-inc\", \"fnlgt\": 120592, \"education\": \"Some-college\", \"education-num\": 12, \"marital-status\": \"Divorced\", \"occupation\": \"Protective-serv\", \"relationship\": \"Not-in-family\", \"race\": \"Other\", \"sex\": \"Female\", \"capital-gain\": 0, \"capital-loss\": 30, \"hours-per-week\": 46, \"native-country\": \"Ireland\"}\n",
      "STATUS CODE: 200\n",
      "RESULT: {'result': '<=50K'}\n",
      " ================ CALL ====================\n",
      "ENTRY: {\"age\": 47, \"workclass\": \"Never-worked\", \"fnlgt\": 0, \"education\": \"Preschool\", \"education-num\": 11, \"marital-status\": \"Married-spouse-absent\", \"occupation\": \"Craft-repair\", \"relationship\": \"Other-relative\", \"race\": \"Black\", \"sex\": \"Female\", \"capital-gain\": 0, \"capital-loss\": 715, \"hours-per-week\": 22, \"native-country\": \"India\"}\n",
      "STATUS CODE: 200\n",
      "RESULT: {'result': '<=50K'}\n",
      " ================ CALL ====================\n",
      "ENTRY: {\"age\": 46, \"workclass\": \"State-gov\", \"fnlgt\": 405214, \"education\": \"12th\", \"education-num\": 11, \"marital-status\": \"Separated\", \"occupation\": \"Tech-support\", \"relationship\": \"Husband\", \"race\": \"White\", \"sex\": \"Male\", \"capital-gain\": 5734, \"capital-loss\": 62, \"hours-per-week\": 25, \"native-country\": \"Germany\"}\n",
      "STATUS CODE: 200\n",
      "RESULT: {'result': '<=50K'}\n",
      " ================ CALL ====================\n",
      "ENTRY: {\"age\": 41, \"workclass\": \"Self-emp-not-inc\", \"fnlgt\": 155970, \"education\": \"Bachelors\", \"education-num\": 7, \"marital-status\": \"Divorced\", \"occupation\": \"?\", \"relationship\": \"Not-in-family\", \"race\": \"White\", \"sex\": \"Female\", \"capital-gain\": 5875, \"capital-loss\": 645, \"hours-per-week\": 46, \"native-country\": \"Columbia\"}\n",
      "STATUS CODE: 200\n",
      "RESULT: {'result': '<=50K'}\n",
      " ================ CALL ====================\n",
      "ENTRY: {\"age\": 49, \"workclass\": \"Federal-gov\", \"fnlgt\": 194393, \"education\": \"9th\", \"education-num\": 8, \"marital-status\": \"Married-spouse-absent\", \"occupation\": \"Craft-repair\", \"relationship\": \"Husband\", \"race\": \"White\", \"sex\": \"Female\", \"capital-gain\": 0, \"capital-loss\": 0, \"hours-per-week\": 48, \"native-country\": \"Columbia\"}\n",
      "STATUS CODE: 200\n",
      "RESULT: {'result': '<=50K'}\n",
      " ================ CALL ====================\n",
      "ENTRY: {\"age\": 42, \"workclass\": \"Self-emp-not-inc\", \"fnlgt\": 61429, \"education\": \"11th\", \"education-num\": 14, \"marital-status\": \"Divorced\", \"occupation\": \"?\", \"relationship\": \"Not-in-family\", \"race\": \"White\", \"sex\": \"Male\", \"capital-gain\": 7979, \"capital-loss\": 536, \"hours-per-week\": 32, \"native-country\": \"China\"}\n",
      "STATUS CODE: 200\n",
      "RESULT: {'result': '>50K'}\n",
      " ================ CALL ====================\n",
      "ENTRY: {\"age\": 17, \"workclass\": \"Without-pay\", \"fnlgt\": 194758, \"education\": \"12th\", \"education-num\": 8, \"marital-status\": \"Never-married\", \"occupation\": \"Priv-house-serv\", \"relationship\": \"Unmarried\", \"race\": \"Black\", \"sex\": \"Male\", \"capital-gain\": 5021, \"capital-loss\": 0, \"hours-per-week\": 47, \"native-country\": \"Hong\"}\n",
      "STATUS CODE: 200\n",
      "RESULT: {'result': '<=50K'}\n",
      " ================ CALL ====================\n",
      "ENTRY: {\"age\": 61, \"workclass\": \"Never-worked\", \"fnlgt\": 411800, \"education\": \"Some-college\", \"education-num\": 10, \"marital-status\": \"Divorced\", \"occupation\": \"Transport-moving\", \"relationship\": \"Not-in-family\", \"race\": \"Black\", \"sex\": \"Female\", \"capital-gain\": 0, \"capital-loss\": 243, \"hours-per-week\": 25, \"native-country\": \"Yugoslavia\"}\n",
      "STATUS CODE: 200\n",
      "RESULT: {'result': '<=50K'}\n",
      " ================ CALL ====================\n",
      "ENTRY: {\"age\": 47, \"workclass\": \"Without-pay\", \"fnlgt\": 193285, \"education\": \"9th\", \"education-num\": 8, \"marital-status\": \"Divorced\", \"occupation\": \"Prof-specialty\", \"relationship\": \"Wife\", \"race\": \"Other\", \"sex\": \"Male\", \"capital-gain\": 10000, \"capital-loss\": 0, \"hours-per-week\": 67, \"native-country\": \"Guatemala\"}\n",
      "STATUS CODE: 200\n",
      "RESULT: {'result': '>50K'}\n"
     ]
    }
   ],
   "source": [
    "for i in range(10):\n",
    "    do_call(host, port, generate_entry())"
   ]
  },
  {
   "cell_type": "code",
   "execution_count": 13,
   "id": "88a431ee",
   "metadata": {},
   "outputs": [],
   "source": [
    "random_entry_2 = random_entry_1.copy()\n",
    "random_entry_2[\"workclass\"] = \"None\"\n"
   ]
  },
  {
   "cell_type": "code",
   "execution_count": 14,
   "id": "e5166201",
   "metadata": {},
   "outputs": [
    {
     "data": {
      "text/plain": [
       "{'age': 35,\n",
       " 'workclass': 'None',\n",
       " 'fnlgt': 64986,\n",
       " 'education': 'Doctorate',\n",
       " 'education-num': 10,\n",
       " 'marital-status': 'Widowed',\n",
       " 'occupation': 'Transport-moving',\n",
       " 'relationship': 'Wife',\n",
       " 'race': 'Black',\n",
       " 'sex': 'Male',\n",
       " 'capital-gain': 486,\n",
       " 'capital-loss': 7,\n",
       " 'hours-per-week': 24,\n",
       " 'native-country': 'Honduras'}"
      ]
     },
     "execution_count": 14,
     "metadata": {},
     "output_type": "execute_result"
    }
   ],
   "source": [
    "random_entry_2"
   ]
  },
  {
   "cell_type": "code",
   "execution_count": 15,
   "id": "6a0bdf05",
   "metadata": {},
   "outputs": [
    {
     "name": "stdout",
     "output_type": "stream",
     "text": [
      " ================ CALL ====================\n",
      "ENTRY: {\"age\": 35, \"workclass\": \"None\", \"fnlgt\": 64986, \"education\": \"Doctorate\", \"education-num\": 10, \"marital-status\": \"Widowed\", \"occupation\": \"Transport-moving\", \"relationship\": \"Wife\", \"race\": \"Black\", \"sex\": \"Male\", \"capital-gain\": 486, \"capital-loss\": 7, \"hours-per-week\": 24, \"native-country\": \"Honduras\"}\n",
      "STATUS CODE: 422\n",
      "RESULT: {'detail': [{'loc': ['body', 'workclass'], 'msg': \"workclass None not valid, must be in ['State-gov', 'Self-emp-not-inc', 'Private', 'Federal-gov', 'Local-gov', '?', 'Self-emp-inc', 'Without-pay', 'Never-worked']\", 'type': 'value_error'}]}\n"
     ]
    }
   ],
   "source": [
    "do_call(host, port, random_entry_2)"
   ]
  },
  {
   "cell_type": "code",
   "execution_count": 16,
   "id": "dd4a01a1",
   "metadata": {},
   "outputs": [],
   "source": [
    "zero_entry={\n",
    "    'age': 17, 'workclass': 'Without-pay', 'fnlgt': 1, \n",
    "    'education': 'Bachelors', 'education-num': 1, 'marital-status': 'Never-married', \n",
    "    'occupation': 'Armed-Forces', 'relationship': 'Unmarried', \n",
    "    'race': 'Black', 'sex': 'Female', 'capital-gain': 0, 'capital-loss': 0, 'hours-per-week': 10,\n",
    "    'native-country': 'England'}"
   ]
  },
  {
   "cell_type": "code",
   "execution_count": 17,
   "id": "f856c5e5",
   "metadata": {},
   "outputs": [
    {
     "name": "stdout",
     "output_type": "stream",
     "text": [
      " ================ CALL ====================\n",
      "ENTRY: {\"age\": 17, \"workclass\": \"Without-pay\", \"fnlgt\": 1, \"education\": \"Bachelors\", \"education-num\": 1, \"marital-status\": \"Never-married\", \"occupation\": \"Armed-Forces\", \"relationship\": \"Unmarried\", \"race\": \"Black\", \"sex\": \"Female\", \"capital-gain\": 0, \"capital-loss\": 0, \"hours-per-week\": 10, \"native-country\": \"England\"}\n",
      "STATUS CODE: 200\n",
      "RESULT: {'result': '<=50K'}\n"
     ]
    }
   ],
   "source": [
    "do_call(host, port, zero_entry)"
   ]
  },
  {
   "cell_type": "code",
   "execution_count": 18,
   "id": "9d353ca7",
   "metadata": {},
   "outputs": [],
   "source": [
    "big_entry={\n",
    "    'age': 50, 'workclass': 'Self-emp-not-inc', 'fnlgt': 1, \n",
    "    'education': 'Bachelors', 'education-num': 12, 'marital-status': 'Never-married', \n",
    "    'occupation': 'Adm-clerical', 'relationship': 'Unmarried', \n",
    "    'race': 'White', 'sex': 'Male', 'capital-gain': 100000, 'capital-loss': 0, 'hours-per-week': 40,\n",
    "    'native-country': 'England'}"
   ]
  },
  {
   "cell_type": "code",
   "execution_count": 19,
   "id": "0af96399",
   "metadata": {},
   "outputs": [
    {
     "name": "stdout",
     "output_type": "stream",
     "text": [
      " ================ CALL ====================\n",
      "ENTRY: {\"age\": 50, \"workclass\": \"Self-emp-not-inc\", \"fnlgt\": 1, \"education\": \"Bachelors\", \"education-num\": 12, \"marital-status\": \"Never-married\", \"occupation\": \"Adm-clerical\", \"relationship\": \"Unmarried\", \"race\": \"White\", \"sex\": \"Male\", \"capital-gain\": 100000, \"capital-loss\": 0, \"hours-per-week\": 40, \"native-country\": \"England\"}\n",
      "STATUS CODE: 200\n",
      "RESULT: {'result': '>50K'}\n"
     ]
    }
   ],
   "source": [
    "do_call(host, port, big_entry)"
   ]
  },
  {
   "cell_type": "code",
   "execution_count": null,
   "id": "c5ed0e2e",
   "metadata": {},
   "outputs": [],
   "source": []
  }
 ],
 "metadata": {
  "kernelspec": {
   "display_name": "Python 3 (ipykernel)",
   "language": "python",
   "name": "python3"
  },
  "language_info": {
   "codemirror_mode": {
    "name": "ipython",
    "version": 3
   },
   "file_extension": ".py",
   "mimetype": "text/x-python",
   "name": "python",
   "nbconvert_exporter": "python",
   "pygments_lexer": "ipython3",
   "version": "3.8.13"
  }
 },
 "nbformat": 4,
 "nbformat_minor": 5
}
