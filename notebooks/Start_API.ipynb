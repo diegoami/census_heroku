{
 "cells": [
  {
   "cell_type": "markdown",
   "id": "95117490",
   "metadata": {},
   "source": [
    "Execute following command from the command line\n",
    "\n",
    "```PYTHON_PATH=$(pwd) uvicorn api.main:app```"
   ]
  },
  {
   "cell_type": "code",
   "execution_count": 1,
   "id": "8ed79800",
   "metadata": {},
   "outputs": [],
   "source": [
    "import sys\n",
    "sys.path.append(\"../\") # go to parent dir\n"
   ]
  },
  {
   "cell_type": "code",
   "execution_count": 2,
   "id": "fca93eb9",
   "metadata": {},
   "outputs": [],
   "source": [
    "host=\"127.0.0.1\"\n",
    "port=8000\n",
    "from common.fixtures import first_census_entry, second_census_entry, wrong_category_entry\n",
    "from api.requests import do_call"
   ]
  },
  {
   "cell_type": "code",
   "execution_count": 5,
   "id": "fa91d13d",
   "metadata": {},
   "outputs": [
    {
     "name": "stdout",
     "output_type": "stream",
     "text": [
      " ================ CALL ====================\n",
      "ENTRY: {\"age\": 20, \"workclass\": \"State-gov\", \"fnlgt\": 3000, \"education\": \"Doctorate\", \"education-num\": 10, \"marital-status\": \"Never-married\", \"occupation\": \"Sales\", \"relationship\": \"Not-in-family\", \"race\": \"White\", \"sex\": \"Male\", \"capital-gain\": 10000, \"capital-loss\": 0, \"hours-per-week\": 40, \"native-country\": \"United-States\"}\n",
      "STATUS CODE: 200\n",
      "RESULT: {'result': '<=50k'}\n"
     ]
    }
   ],
   "source": [
    "do_call(host, port, first_census_entry)"
   ]
  },
  {
   "cell_type": "code",
   "execution_count": 6,
   "id": "49aaffa8",
   "metadata": {},
   "outputs": [
    {
     "name": "stdout",
     "output_type": "stream",
     "text": [
      " ================ CALL ====================\n",
      "ENTRY: {\"age\": 30, \"workclass\": \"Private\", \"fnlgt\": 1234, \"education\": \"Bachelors\", \"education-num\": 10, \"marital-status\": \"Divorced\", \"occupation\": \"Armed-Forces\", \"relationship\": \"Husband\", \"race\": \"Black\", \"sex\": \"Male\", \"capital-gain\": 20000, \"capital-loss\": 0, \"hours-per-week\": 50, \"native-country\": \"England\"}\n",
      "STATUS CODE: 200\n",
      "RESULT: {'result': '>50K'}\n"
     ]
    }
   ],
   "source": [
    "do_call(host, port, second_census_entry)"
   ]
  },
  {
   "cell_type": "code",
   "execution_count": 7,
   "id": "828771bf",
   "metadata": {},
   "outputs": [
    {
     "name": "stdout",
     "output_type": "stream",
     "text": [
      " ================ CALL ====================\n",
      "ENTRY: {\"age\": 30, \"workclass\": \"Worker\", \"fnlgt\": 1234, \"education\": \"Elementary\", \"education-num\": 10, \"marital-status\": \"Polyamorous\", \"occupation\": \"Rogue\", \"relationship\": \"Complicated\", \"race\": \"Pink\", \"sex\": \"Bacteria\", \"capital-gain\": 20000, \"capital-loss\": 0, \"hours-per-week\": 50, \"native-country\": \"Battania\"}\n",
      "STATUS CODE: 422\n",
      "RESULT: {'detail': [{'loc': ['body', 'workclass'], 'msg': \"workclass Worker not valid, must be in ['State-gov', 'Self-emp-not-inc', 'Private', 'Federal-gov', 'Local-gov', '?', 'Self-emp-inc', 'Without-pay', 'Never-worked']\", 'type': 'value_error'}, {'loc': ['body', 'education'], 'msg': \"education Elementary not valid, must be in ['Bachelors', 'HS-grad', '11th', 'Masters', '9th', 'Some-college', 'Assoc-acdm', 'Assoc-voc', '7th-8th', 'Doctorate', 'Prof-school', '5th-6th', '10th', '1st-4th', 'Preschool', '12th']\", 'type': 'value_error'}, {'loc': ['body', 'marital-status'], 'msg': \"marital_status Polyamorous not valid, must be in ['Never-married', 'Married-civ-spouse', 'Divorced', 'Married-spouse-absent', 'Separated', 'Married-AF-spouse', 'Widowed']\", 'type': 'value_error'}, {'loc': ['body', 'occupation'], 'msg': \"occupation Rogue not valid, must be in ['Adm-clerical', 'Exec-managerial', 'Handlers-cleaners', 'Prof-specialty', 'Other-service', 'Sales', 'Craft-repair', 'Transport-moving', 'Farming-fishing', 'Machine-op-inspct', 'Tech-support', '?', 'Protective-serv', 'Armed-Forces', 'Priv-house-serv']\", 'type': 'value_error'}, {'loc': ['body', 'relationship'], 'msg': \"relationship Complicated not valid, must be in ['Not-in-family', 'Husband', 'Wife', 'Own-child', 'Unmarried', 'Other-relative']\", 'type': 'value_error'}, {'loc': ['body', 'race'], 'msg': \"race Pink not valid, must be in ['White', 'Black', 'Asian-Pac-Islander', 'Amer-Indian-Eskimo', 'Other']\", 'type': 'value_error'}, {'loc': ['body', 'sex'], 'msg': \"sex Bacteria not valid, must be in ['Male', 'Female']\", 'type': 'value_error'}, {'loc': ['body', 'native-country'], 'msg': \"native_country Battania not valid, must be in ['United-States', 'Cuba', 'Jamaica', 'India', '?', 'Mexico', 'South', 'Puerto-Rico', 'Honduras', 'England', 'Canada', 'Germany', 'Iran', 'Philippines', 'Italy', 'Poland', 'Columbia', 'Cambodia', 'Thailand', 'Ecuador', 'Laos', 'Taiwan', 'Haiti', 'Portugal', 'Dominican-Republic', 'El-Salvador', 'France', 'Guatemala', 'China', 'Japan', 'Yugoslavia', 'Peru', 'Outlying-US(Guam-USVI-etc)', 'Scotland', 'Trinadad&Tobago', 'Greece', 'Nicaragua', 'Vietnam', 'Hong', 'Ireland', 'Hungary', 'Holand-Netherlands']\", 'type': 'value_error'}]}\n"
     ]
    }
   ],
   "source": [
    "do_call(host, port, wrong_category_entry)"
   ]
  },
  {
   "cell_type": "code",
   "execution_count": 8,
   "id": "baa8dcbe",
   "metadata": {},
   "outputs": [],
   "source": [
    "from common.fixtures import generate_entry"
   ]
  },
  {
   "cell_type": "code",
   "execution_count": 9,
   "id": "4bf7a7da",
   "metadata": {},
   "outputs": [],
   "source": [
    "random_entry_1 = generate_entry()"
   ]
  },
  {
   "cell_type": "code",
   "execution_count": 10,
   "id": "44529765",
   "metadata": {},
   "outputs": [
    {
     "data": {
      "text/plain": [
       "{'age': 43,\n",
       " 'workclass': 'Without-pay',\n",
       " 'fnlgt': 184229,\n",
       " 'education': 'Masters',\n",
       " 'education-num': 11,\n",
       " 'marital-status': 'Never-married',\n",
       " 'occupation': 'Armed-Forces',\n",
       " 'relationship': 'Wife',\n",
       " 'race': 'Asian-Pac-Islander',\n",
       " 'sex': 'Male',\n",
       " 'capital-gain': 0,\n",
       " 'capital-loss': 0,\n",
       " 'hours-per-week': 52,\n",
       " 'native-country': 'El-Salvador'}"
      ]
     },
     "execution_count": 10,
     "metadata": {},
     "output_type": "execute_result"
    }
   ],
   "source": [
    "random_entry_1"
   ]
  },
  {
   "cell_type": "code",
   "execution_count": 11,
   "id": "8c12ea66",
   "metadata": {},
   "outputs": [
    {
     "name": "stdout",
     "output_type": "stream",
     "text": [
      " ================ CALL ====================\n",
      "ENTRY: {\"age\": 43, \"workclass\": \"Without-pay\", \"fnlgt\": 184229, \"education\": \"Masters\", \"education-num\": 11, \"marital-status\": \"Never-married\", \"occupation\": \"Armed-Forces\", \"relationship\": \"Wife\", \"race\": \"Asian-Pac-Islander\", \"sex\": \"Male\", \"capital-gain\": 0, \"capital-loss\": 0, \"hours-per-week\": 52, \"native-country\": \"El-Salvador\"}\n",
      "STATUS CODE: 200\n",
      "RESULT: {'result': '<=50k'}\n"
     ]
    }
   ],
   "source": [
    "do_call(host, port, random_entry_1)"
   ]
  },
  {
   "cell_type": "code",
   "execution_count": 12,
   "id": "8451b399",
   "metadata": {},
   "outputs": [
    {
     "name": "stdout",
     "output_type": "stream",
     "text": [
      " ================ CALL ====================\n",
      "ENTRY: {\"age\": 46, \"workclass\": \"Private\", \"fnlgt\": 315952, \"education\": \"Preschool\", \"education-num\": 13, \"marital-status\": \"Married-civ-spouse\", \"occupation\": \"Sales\", \"relationship\": \"Not-in-family\", \"race\": \"Amer-Indian-Eskimo\", \"sex\": \"Male\", \"capital-gain\": 4727, \"capital-loss\": 0, \"hours-per-week\": 36, \"native-country\": \"Philippines\"}\n",
      "STATUS CODE: 200\n",
      "RESULT: {'result': '<=50k'}\n"
     ]
    }
   ],
   "source": [
    "do_call(host, port, generate_entry())"
   ]
  },
  {
   "cell_type": "code",
   "execution_count": 13,
   "id": "48fc599c",
   "metadata": {},
   "outputs": [
    {
     "name": "stdout",
     "output_type": "stream",
     "text": [
      " ================ CALL ====================\n",
      "ENTRY: {\"age\": 38, \"workclass\": \"Local-gov\", \"fnlgt\": 202064, \"education\": \"Prof-school\", \"education-num\": 10, \"marital-status\": \"Divorced\", \"occupation\": \"Craft-repair\", \"relationship\": \"Unmarried\", \"race\": \"Amer-Indian-Eskimo\", \"sex\": \"Female\", \"capital-gain\": 0, \"capital-loss\": 0, \"hours-per-week\": 43, \"native-country\": \"Philippines\"}\n",
      "STATUS CODE: 200\n",
      "RESULT: {'result': '<=50k'}\n",
      " ================ CALL ====================\n",
      "ENTRY: {\"age\": 43, \"workclass\": \"Private\", \"fnlgt\": 198552, \"education\": \"Prof-school\", \"education-num\": 13, \"marital-status\": \"Widowed\", \"occupation\": \"Craft-repair\", \"relationship\": \"Own-child\", \"race\": \"Other\", \"sex\": \"Male\", \"capital-gain\": 0, \"capital-loss\": 0, \"hours-per-week\": 43, \"native-country\": \"Nicaragua\"}\n",
      "STATUS CODE: 200\n",
      "RESULT: {'result': '<=50k'}\n",
      " ================ CALL ====================\n",
      "ENTRY: {\"age\": 19, \"workclass\": \"Self-emp-inc\", \"fnlgt\": 0, \"education\": \"HS-grad\", \"education-num\": 10, \"marital-status\": \"Married-AF-spouse\", \"occupation\": \"Handlers-cleaners\", \"relationship\": \"Wife\", \"race\": \"Other\", \"sex\": \"Male\", \"capital-gain\": 8038, \"capital-loss\": 458, \"hours-per-week\": 36, \"native-country\": \"Japan\"}\n",
      "STATUS CODE: 200\n",
      "RESULT: {'result': '<=50k'}\n",
      " ================ CALL ====================\n",
      "ENTRY: {\"age\": 24, \"workclass\": \"Self-emp-inc\", \"fnlgt\": 93983, \"education\": \"1st-4th\", \"education-num\": 14, \"marital-status\": \"Married-AF-spouse\", \"occupation\": \"Handlers-cleaners\", \"relationship\": \"Wife\", \"race\": \"Black\", \"sex\": \"Female\", \"capital-gain\": 0, \"capital-loss\": 266, \"hours-per-week\": 42, \"native-country\": \"Trinadad&Tobago\"}\n",
      "STATUS CODE: 200\n",
      "RESULT: {'result': '<=50k'}\n",
      " ================ CALL ====================\n",
      "ENTRY: {\"age\": 35, \"workclass\": \"?\", \"fnlgt\": 246889, \"education\": \"Bachelors\", \"education-num\": 13, \"marital-status\": \"Separated\", \"occupation\": \"Other-service\", \"relationship\": \"Unmarried\", \"race\": \"Other\", \"sex\": \"Female\", \"capital-gain\": 1488, \"capital-loss\": 0, \"hours-per-week\": 30, \"native-country\": \"?\"}\n",
      "STATUS CODE: 200\n",
      "RESULT: {'result': '<=50k'}\n",
      " ================ CALL ====================\n",
      "ENTRY: {\"age\": 18, \"workclass\": \"Local-gov\", \"fnlgt\": 115358, \"education\": \"Prof-school\", \"education-num\": 6, \"marital-status\": \"Married-civ-spouse\", \"occupation\": \"Adm-clerical\", \"relationship\": \"Husband\", \"race\": \"White\", \"sex\": \"Male\", \"capital-gain\": 10000, \"capital-loss\": 614, \"hours-per-week\": 46, \"native-country\": \"Mexico\"}\n",
      "STATUS CODE: 200\n",
      "RESULT: {'result': '<=50k'}\n",
      " ================ CALL ====================\n",
      "ENTRY: {\"age\": 36, \"workclass\": \"State-gov\", \"fnlgt\": 81699, \"education\": \"Assoc-voc\", \"education-num\": 6, \"marital-status\": \"Divorced\", \"occupation\": \"Exec-managerial\", \"relationship\": \"Wife\", \"race\": \"Amer-Indian-Eskimo\", \"sex\": \"Male\", \"capital-gain\": 0, \"capital-loss\": 20, \"hours-per-week\": 27, \"native-country\": \"Scotland\"}\n",
      "STATUS CODE: 200\n",
      "RESULT: {'result': '<=50k'}\n",
      " ================ CALL ====================\n",
      "ENTRY: {\"age\": 41, \"workclass\": \"Local-gov\", \"fnlgt\": 55027, \"education\": \"Some-college\", \"education-num\": 10, \"marital-status\": \"Married-civ-spouse\", \"occupation\": \"Tech-support\", \"relationship\": \"Own-child\", \"race\": \"Asian-Pac-Islander\", \"sex\": \"Male\", \"capital-gain\": 10000, \"capital-loss\": 242, \"hours-per-week\": 38, \"native-country\": \"Hungary\"}\n",
      "STATUS CODE: 200\n",
      "RESULT: {'result': '>50K'}\n",
      " ================ CALL ====================\n",
      "ENTRY: {\"age\": 63, \"workclass\": \"Local-gov\", \"fnlgt\": 223016, \"education\": \"Bachelors\", \"education-num\": 7, \"marital-status\": \"Never-married\", \"occupation\": \"Transport-moving\", \"relationship\": \"Husband\", \"race\": \"Asian-Pac-Islander\", \"sex\": \"Male\", \"capital-gain\": 6869, \"capital-loss\": 466, \"hours-per-week\": 26, \"native-country\": \"Italy\"}\n",
      "STATUS CODE: 200\n",
      "RESULT: {'result': '<=50k'}\n",
      " ================ CALL ====================\n",
      "ENTRY: {\"age\": 42, \"workclass\": \"Without-pay\", \"fnlgt\": 184612, \"education\": \"1st-4th\", \"education-num\": 10, \"marital-status\": \"Divorced\", \"occupation\": \"?\", \"relationship\": \"Own-child\", \"race\": \"Asian-Pac-Islander\", \"sex\": \"Female\", \"capital-gain\": 0, \"capital-loss\": 325, \"hours-per-week\": 40, \"native-country\": \"Nicaragua\"}\n",
      "STATUS CODE: 200\n",
      "RESULT: {'result': '<=50k'}\n"
     ]
    }
   ],
   "source": [
    "for i in range(10):\n",
    "    do_call(host, port, generate_entry())"
   ]
  },
  {
   "cell_type": "code",
   "execution_count": 14,
   "id": "ad1a0d71",
   "metadata": {},
   "outputs": [
    {
     "name": "stdout",
     "output_type": "stream",
     "text": [
      " ================ CALL ====================\n",
      "ENTRY: {\"age\": 31, \"workclass\": \"?\", \"fnlgt\": 233844, \"education\": \"Some-college\", \"education-num\": 11, \"marital-status\": \"Never-married\", \"occupation\": \"Protective-serv\", \"relationship\": \"Other-relative\", \"race\": \"White\", \"sex\": \"Female\", \"capital-gain\": 6979, \"capital-loss\": 0, \"hours-per-week\": 18, \"native-country\": \"Canada\"}\n",
      "STATUS CODE: 200\n",
      "RESULT: {'result': '<=50k'}\n",
      " ================ CALL ====================\n",
      "ENTRY: {\"age\": 23, \"workclass\": \"Without-pay\", \"fnlgt\": 49808, \"education\": \"10th\", \"education-num\": 9, \"marital-status\": \"Widowed\", \"occupation\": \"Priv-house-serv\", \"relationship\": \"Wife\", \"race\": \"White\", \"sex\": \"Female\", \"capital-gain\": 0, \"capital-loss\": 0, \"hours-per-week\": 58, \"native-country\": \"Portugal\"}\n",
      "STATUS CODE: 200\n",
      "RESULT: {'result': '<=50k'}\n",
      " ================ CALL ====================\n",
      "ENTRY: {\"age\": 31, \"workclass\": \"Self-emp-inc\", \"fnlgt\": 304018, \"education\": \"Preschool\", \"education-num\": 11, \"marital-status\": \"Never-married\", \"occupation\": \"Farming-fishing\", \"relationship\": \"Unmarried\", \"race\": \"Black\", \"sex\": \"Female\", \"capital-gain\": 0, \"capital-loss\": 0, \"hours-per-week\": 39, \"native-country\": \"Hungary\"}\n",
      "STATUS CODE: 200\n",
      "RESULT: {'result': '<=50k'}\n",
      " ================ CALL ====================\n",
      "ENTRY: {\"age\": 42, \"workclass\": \"Self-emp-inc\", \"fnlgt\": 192962, \"education\": \"12th\", \"education-num\": 4, \"marital-status\": \"Married-spouse-absent\", \"occupation\": \"Adm-clerical\", \"relationship\": \"Own-child\", \"race\": \"White\", \"sex\": \"Male\", \"capital-gain\": 7386, \"capital-loss\": 696, \"hours-per-week\": 43, \"native-country\": \"Hungary\"}\n",
      "STATUS CODE: 200\n",
      "RESULT: {'result': '>50K'}\n",
      " ================ CALL ====================\n",
      "ENTRY: {\"age\": 45, \"workclass\": \"Private\", \"fnlgt\": 397423, \"education\": \"1st-4th\", \"education-num\": 11, \"marital-status\": \"Never-married\", \"occupation\": \"Machine-op-inspct\", \"relationship\": \"Unmarried\", \"race\": \"Black\", \"sex\": \"Male\", \"capital-gain\": 0, \"capital-loss\": 120, \"hours-per-week\": 33, \"native-country\": \"Portugal\"}\n",
      "STATUS CODE: 200\n",
      "RESULT: {'result': '<=50k'}\n",
      " ================ CALL ====================\n",
      "ENTRY: {\"age\": 44, \"workclass\": \"State-gov\", \"fnlgt\": 0, \"education\": \"Preschool\", \"education-num\": 14, \"marital-status\": \"Married-spouse-absent\", \"occupation\": \"Protective-serv\", \"relationship\": \"Wife\", \"race\": \"Asian-Pac-Islander\", \"sex\": \"Male\", \"capital-gain\": 72, \"capital-loss\": 455, \"hours-per-week\": 43, \"native-country\": \"Jamaica\"}\n",
      "STATUS CODE: 200\n",
      "RESULT: {'result': '<=50k'}\n",
      " ================ CALL ====================\n",
      "ENTRY: {\"age\": 47, \"workclass\": \"?\", \"fnlgt\": 489879, \"education\": \"10th\", \"education-num\": 8, \"marital-status\": \"Married-spouse-absent\", \"occupation\": \"Prof-specialty\", \"relationship\": \"Unmarried\", \"race\": \"Asian-Pac-Islander\", \"sex\": \"Female\", \"capital-gain\": 0, \"capital-loss\": 48, \"hours-per-week\": 43, \"native-country\": \"France\"}\n",
      "STATUS CODE: 200\n",
      "RESULT: {'result': '<=50k'}\n",
      " ================ CALL ====================\n",
      "ENTRY: {\"age\": 55, \"workclass\": \"Never-worked\", \"fnlgt\": 265958, \"education\": \"Bachelors\", \"education-num\": 15, \"marital-status\": \"Never-married\", \"occupation\": \"Prof-specialty\", \"relationship\": \"Other-relative\", \"race\": \"Other\", \"sex\": \"Female\", \"capital-gain\": 0, \"capital-loss\": 0, \"hours-per-week\": 57, \"native-country\": \"Italy\"}\n",
      "STATUS CODE: 200\n",
      "RESULT: {'result': '<=50k'}\n",
      " ================ CALL ====================\n",
      "ENTRY: {\"age\": 24, \"workclass\": \"Self-emp-inc\", \"fnlgt\": 329652, \"education\": \"Preschool\", \"education-num\": 12, \"marital-status\": \"Married-AF-spouse\", \"occupation\": \"Adm-clerical\", \"relationship\": \"Unmarried\", \"race\": \"Other\", \"sex\": \"Male\", \"capital-gain\": 0, \"capital-loss\": 0, \"hours-per-week\": 35, \"native-country\": \"Ecuador\"}\n",
      "STATUS CODE: 200\n",
      "RESULT: {'result': '<=50k'}\n",
      " ================ CALL ====================\n",
      "ENTRY: {\"age\": 32, \"workclass\": \"Self-emp-inc\", \"fnlgt\": 42117, \"education\": \"9th\", \"education-num\": 11, \"marital-status\": \"Separated\", \"occupation\": \"Craft-repair\", \"relationship\": \"Unmarried\", \"race\": \"White\", \"sex\": \"Female\", \"capital-gain\": 0, \"capital-loss\": 14, \"hours-per-week\": 59, \"native-country\": \"China\"}\n",
      "STATUS CODE: 200\n",
      "RESULT: {'result': '<=50k'}\n"
     ]
    }
   ],
   "source": [
    "for i in range(10):\n",
    "    do_call(host, port, generate_entry())"
   ]
  },
  {
   "cell_type": "code",
   "execution_count": 15,
   "id": "88a431ee",
   "metadata": {},
   "outputs": [],
   "source": [
    "random_entry_2 = random_entry_1.copy()\n",
    "random_entry_2[\"workclass\"] = \"None\"\n"
   ]
  },
  {
   "cell_type": "code",
   "execution_count": 16,
   "id": "e5166201",
   "metadata": {},
   "outputs": [
    {
     "data": {
      "text/plain": [
       "{'age': 43,\n",
       " 'workclass': 'None',\n",
       " 'fnlgt': 184229,\n",
       " 'education': 'Masters',\n",
       " 'education-num': 11,\n",
       " 'marital-status': 'Never-married',\n",
       " 'occupation': 'Armed-Forces',\n",
       " 'relationship': 'Wife',\n",
       " 'race': 'Asian-Pac-Islander',\n",
       " 'sex': 'Male',\n",
       " 'capital-gain': 0,\n",
       " 'capital-loss': 0,\n",
       " 'hours-per-week': 52,\n",
       " 'native-country': 'El-Salvador'}"
      ]
     },
     "execution_count": 16,
     "metadata": {},
     "output_type": "execute_result"
    }
   ],
   "source": [
    "random_entry_2"
   ]
  },
  {
   "cell_type": "code",
   "execution_count": 17,
   "id": "6a0bdf05",
   "metadata": {},
   "outputs": [
    {
     "name": "stdout",
     "output_type": "stream",
     "text": [
      " ================ CALL ====================\n",
      "ENTRY: {\"age\": 43, \"workclass\": \"None\", \"fnlgt\": 184229, \"education\": \"Masters\", \"education-num\": 11, \"marital-status\": \"Never-married\", \"occupation\": \"Armed-Forces\", \"relationship\": \"Wife\", \"race\": \"Asian-Pac-Islander\", \"sex\": \"Male\", \"capital-gain\": 0, \"capital-loss\": 0, \"hours-per-week\": 52, \"native-country\": \"El-Salvador\"}\n",
      "STATUS CODE: 422\n",
      "RESULT: {'detail': [{'loc': ['body', 'workclass'], 'msg': \"workclass None not valid, must be in ['State-gov', 'Self-emp-not-inc', 'Private', 'Federal-gov', 'Local-gov', '?', 'Self-emp-inc', 'Without-pay', 'Never-worked']\", 'type': 'value_error'}]}\n"
     ]
    }
   ],
   "source": [
    "do_call(host, port, random_entry_2)"
   ]
  },
  {
   "cell_type": "code",
   "execution_count": 18,
   "id": "dd4a01a1",
   "metadata": {},
   "outputs": [],
   "source": [
    "zero_entry={\n",
    "    'age': 17, 'workclass': 'Without-pay', 'fnlgt': 1, \n",
    "    'education': 'Bachelors', 'education-num': 1, 'marital-status': 'Never-married', \n",
    "    'occupation': 'Armed-Forces', 'relationship': 'Unmarried', \n",
    "    'race': 'Black', 'sex': 'Female', 'capital-gain': 0, 'capital-loss': 0, 'hours-per-week': 10,\n",
    "    'native-country': 'England'}"
   ]
  },
  {
   "cell_type": "code",
   "execution_count": 19,
   "id": "f856c5e5",
   "metadata": {},
   "outputs": [
    {
     "name": "stdout",
     "output_type": "stream",
     "text": [
      " ================ CALL ====================\n",
      "ENTRY: {\"age\": 17, \"workclass\": \"Without-pay\", \"fnlgt\": 1, \"education\": \"Bachelors\", \"education-num\": 1, \"marital-status\": \"Never-married\", \"occupation\": \"Armed-Forces\", \"relationship\": \"Unmarried\", \"race\": \"Black\", \"sex\": \"Female\", \"capital-gain\": 0, \"capital-loss\": 0, \"hours-per-week\": 10, \"native-country\": \"England\"}\n",
      "STATUS CODE: 200\n",
      "RESULT: {'result': '<=50k'}\n"
     ]
    }
   ],
   "source": [
    "do_call(host, port, zero_entry)"
   ]
  },
  {
   "cell_type": "code",
   "execution_count": 18,
   "id": "9d353ca7",
   "metadata": {},
   "outputs": [],
   "source": [
    "big_entry={\n",
    "    'age': 50, 'workclass': 'Self-emp-not-inc', 'fnlgt': 1, \n",
    "    'education': 'Bachelors', 'education-num': 12, 'marital-status': 'Never-married', \n",
    "    'occupation': 'Adm-clerical', 'relationship': 'Unmarried', \n",
    "    'race': 'White', 'sex': 'Male', 'capital-gain': 100000, 'capital-loss': 0, 'hours-per-week': 40,\n",
    "    'native-country': 'England'}"
   ]
  },
  {
   "cell_type": "code",
   "execution_count": 19,
   "id": "0af96399",
   "metadata": {},
   "outputs": [
    {
     "name": "stdout",
     "output_type": "stream",
     "text": [
      " ================ ENTRY ================== \n",
      "{'age': 50, 'workclass': 'Self-emp-not-inc', 'fnlgt': 1, 'education': 'Bachelors', 'education-num': 12, 'marital-status': 'Never-married', 'occupation': 'Adm-clerical', 'relationship': 'Unmarried', 'race': 'White', 'sex': 'Male', 'capital-gain': 100000, 'capital-loss': 0, 'hours-per-week': 40, 'native-country': 'England'}\n",
      " =============== RESULT ===================== \n",
      "{'result': '>50K'}\n"
     ]
    }
   ],
   "source": [
    "do_call(host, port, big_entry)"
   ]
  },
  {
   "cell_type": "code",
   "execution_count": null,
   "id": "c5ed0e2e",
   "metadata": {},
   "outputs": [],
   "source": []
  }
 ],
 "metadata": {
  "kernelspec": {
   "display_name": "Python 3 (ipykernel)",
   "language": "python",
   "name": "python3"
  },
  "language_info": {
   "codemirror_mode": {
    "name": "ipython",
    "version": 3
   },
   "file_extension": ".py",
   "mimetype": "text/x-python",
   "name": "python",
   "nbconvert_exporter": "python",
   "pygments_lexer": "ipython3",
   "version": "3.8.13"
  }
 },
 "nbformat": 4,
 "nbformat_minor": 5
}
