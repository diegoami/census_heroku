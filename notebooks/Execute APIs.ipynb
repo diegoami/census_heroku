{
 "cells": [
  {
   "cell_type": "code",
   "execution_count": 17,
   "id": "5ca4108d",
   "metadata": {},
   "outputs": [],
   "source": [
    "import sys\n",
    "sys.path.append(\"../\") # go to parent dir"
   ]
  },
  {
   "cell_type": "code",
   "execution_count": 26,
   "id": "9c8d8958",
   "metadata": {},
   "outputs": [],
   "source": [
    "!cd .."
   ]
  },
  {
   "cell_type": "code",
   "execution_count": 28,
   "id": "4766a403",
   "metadata": {},
   "outputs": [
    {
     "name": "stdout",
     "output_type": "stream",
     "text": [
      "/home/diego/projects/ud_mlops/census_heroku/notebooks\r\n"
     ]
    }
   ],
   "source": [
    "!pwd"
   ]
  },
  {
   "cell_type": "code",
   "execution_count": 27,
   "id": "e379c3e6",
   "metadata": {},
   "outputs": [
    {
     "name": "stdout",
     "output_type": "stream",
     "text": [
      "Traceback (most recent call last):\r\n",
      "  File \"/home/diego/anaconda3/envs/census_heroku/bin/uvicorn\", line 8, in <module>\r\n",
      "    sys.exit(main())\r\n",
      "  File \"/home/diego/anaconda3/envs/census_heroku/lib/python3.8/site-packages/click/core.py\", line 1130, in __call__\r\n",
      "    return self.main(*args, **kwargs)\r\n",
      "  File \"/home/diego/anaconda3/envs/census_heroku/lib/python3.8/site-packages/click/core.py\", line 1055, in main\r\n",
      "    rv = self.invoke(ctx)\r\n",
      "  File \"/home/diego/anaconda3/envs/census_heroku/lib/python3.8/site-packages/click/core.py\", line 1404, in invoke\r\n",
      "    return ctx.invoke(self.callback, **ctx.params)\r\n",
      "  File \"/home/diego/anaconda3/envs/census_heroku/lib/python3.8/site-packages/click/core.py\", line 760, in invoke\r\n",
      "    return __callback(*args, **kwargs)\r\n",
      "  File \"/home/diego/anaconda3/envs/census_heroku/lib/python3.8/site-packages/uvicorn/main.py\", line 407, in main\r\n",
      "    run(\r\n",
      "  File \"/home/diego/anaconda3/envs/census_heroku/lib/python3.8/site-packages/uvicorn/main.py\", line 575, in run\r\n",
      "    server.run()\r\n",
      "  File \"/home/diego/anaconda3/envs/census_heroku/lib/python3.8/site-packages/uvicorn/server.py\", line 60, in run\r\n",
      "    return asyncio.run(self.serve(sockets=sockets))\r\n",
      "  File \"/home/diego/anaconda3/envs/census_heroku/lib/python3.8/asyncio/runners.py\", line 44, in run\r\n",
      "    return loop.run_until_complete(main)\r\n",
      "  File \"/home/diego/anaconda3/envs/census_heroku/lib/python3.8/asyncio/base_events.py\", line 616, in run_until_complete\r\n",
      "    return future.result()\r\n",
      "  File \"/home/diego/anaconda3/envs/census_heroku/lib/python3.8/site-packages/uvicorn/server.py\", line 67, in serve\r\n",
      "    config.load()\r\n",
      "  File \"/home/diego/anaconda3/envs/census_heroku/lib/python3.8/site-packages/uvicorn/config.py\", line 479, in load\r\n",
      "    self.loaded_app = import_from_string(self.app)\r\n",
      "  File \"/home/diego/anaconda3/envs/census_heroku/lib/python3.8/site-packages/uvicorn/importer.py\", line 24, in import_from_string\r\n",
      "    raise exc from None\r\n",
      "  File \"/home/diego/anaconda3/envs/census_heroku/lib/python3.8/site-packages/uvicorn/importer.py\", line 21, in import_from_string\r\n",
      "    module = importlib.import_module(module_str)\r\n",
      "  File \"/home/diego/anaconda3/envs/census_heroku/lib/python3.8/importlib/__init__.py\", line 127, in import_module\r\n",
      "    return _bootstrap._gcd_import(name[level:], package, level)\r\n",
      "  File \"<frozen importlib._bootstrap>\", line 1014, in _gcd_import\r\n",
      "  File \"<frozen importlib._bootstrap>\", line 991, in _find_and_load\r\n",
      "  File \"<frozen importlib._bootstrap>\", line 961, in _find_and_load_unlocked\r\n",
      "  File \"<frozen importlib._bootstrap>\", line 219, in _call_with_frames_removed\r\n",
      "  File \"<frozen importlib._bootstrap>\", line 1014, in _gcd_import\r\n",
      "  File \"<frozen importlib._bootstrap>\", line 991, in _find_and_load\r\n",
      "  File \"<frozen importlib._bootstrap>\", line 973, in _find_and_load_unlocked\r\n",
      "ModuleNotFoundError: No module named 'api'\r\n"
     ]
    }
   ],
   "source": [
    "!PYTHON_PATH=$(pwd) uvicorn api.main:app"
   ]
  },
  {
   "cell_type": "code",
   "execution_count": 15,
   "id": "85ff60cf",
   "metadata": {},
   "outputs": [
    {
     "name": "stdout",
     "output_type": "stream",
     "text": [
      "/usr/bin/bash: line 0: popd: directory stack empty\r\n"
     ]
    }
   ],
   "source": [
    "!popd"
   ]
  },
  {
   "cell_type": "code",
   "execution_count": 16,
   "id": "f1b666a8",
   "metadata": {},
   "outputs": [
    {
     "name": "stdout",
     "output_type": "stream",
     "text": [
      "'Analyse Model performance.ipynb'  'Execute APIs.ipynb'\r\n",
      "'Analyze Census Data.ipynb'\t   'Train Model.ipynb'\r\n"
     ]
    }
   ],
   "source": [
    "!ls"
   ]
  },
  {
   "cell_type": "code",
   "execution_count": null,
   "id": "84d07fb4",
   "metadata": {},
   "outputs": [],
   "source": []
  }
 ],
 "metadata": {
  "kernelspec": {
   "display_name": "Python 3 (ipykernel)",
   "language": "python",
   "name": "python3"
  },
  "language_info": {
   "codemirror_mode": {
    "name": "ipython",
    "version": 3
   },
   "file_extension": ".py",
   "mimetype": "text/x-python",
   "name": "python",
   "nbconvert_exporter": "python",
   "pygments_lexer": "ipython3",
   "version": "3.8.13"
  }
 },
 "nbformat": 4,
 "nbformat_minor": 5
}
