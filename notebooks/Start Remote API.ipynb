{
 "cells": [
  {
   "cell_type": "code",
   "execution_count": 1,
   "id": "a3bc75a9",
   "metadata": {},
   "outputs": [],
   "source": [
    "import sys\n",
    "sys.path.append(\"../\") # go to parent dir\n"
   ]
  },
  {
   "cell_type": "code",
   "execution_count": 2,
   "id": "59bbc136",
   "metadata": {},
   "outputs": [],
   "source": [
    "host=\"ionian-otter-6666.herokuapp.com\"\n",
    "port=80"
   ]
  },
  {
   "cell_type": "code",
   "execution_count": 3,
   "id": "fca93eb9",
   "metadata": {},
   "outputs": [],
   "source": [
    "import requests\n",
    "from common.fixtures import first_census_entry, second_census_entry, wrong_category_entry\n",
    "import pytest\n",
    "import os\n",
    "\n",
    "def do_call(entry):\n",
    "    print(\" ================ ENTRY ================== \")\n",
    "    print(entry)\n",
    "    response = requests.post(f'http://{host}:{port}/predict', json=entry)\n",
    "    result_call = response.json()\n",
    "    print(\" =============== RESULT ===================== \")\n",
    "    print(result_call)"
   ]
  },
  {
   "cell_type": "code",
   "execution_count": 4,
   "id": "fa91d13d",
   "metadata": {},
   "outputs": [
    {
     "name": "stdout",
     "output_type": "stream",
     "text": [
      " ================ ENTRY ================== \n",
      "{'age': 20, 'workclass': 'State-gov', 'fnlgt': 3000, 'education': 'Doctorate', 'education-num': 10, 'marital-status': 'Never-married', 'occupation': 'Sales', 'relationship': 'Not-in-family', 'race': 'White', 'sex': 'Male', 'capital-gain': 10000, 'capital-loss': 0, 'hours-per-week': 40, 'native-country': 'United-States'}\n",
      " =============== RESULT ===================== \n",
      "{'result': '<=50k'}\n"
     ]
    }
   ],
   "source": [
    "do_call(first_census_entry)"
   ]
  },
  {
   "cell_type": "code",
   "execution_count": 5,
   "id": "49aaffa8",
   "metadata": {},
   "outputs": [
    {
     "name": "stdout",
     "output_type": "stream",
     "text": [
      " ================ ENTRY ================== \n",
      "{'age': 30, 'workclass': 'Private', 'fnlgt': 1234, 'education': 'Bachelors', 'education-num': 10, 'marital-status': 'Divorced', 'occupation': 'Armed-Forces', 'relationship': 'Husband', 'race': 'Black', 'sex': 'Male', 'capital-gain': 20000, 'capital-loss': 0, 'hours-per-week': 50, 'native-country': 'England'}\n",
      " =============== RESULT ===================== \n",
      "{'result': '>50K'}\n"
     ]
    }
   ],
   "source": [
    "do_call(second_census_entry)"
   ]
  },
  {
   "cell_type": "code",
   "execution_count": 9,
   "id": "828771bf",
   "metadata": {},
   "outputs": [
    {
     "name": "stdout",
     "output_type": "stream",
     "text": [
      " ================ ENTRY ================== \n",
      "{'age': 30, 'workclass': 'Worker', 'fnlgt': 1234, 'education': 'Elementary', 'education-num': 10, 'marital-status': 'Polyamorous', 'occupation': 'Rogue', 'relationship': 'Complicated', 'race': 'Pink', 'sex': 'Bacteria', 'capital-gain': 20000, 'capital-loss': 0, 'hours-per-week': 50, 'native-country': 'Battania'}\n",
      " =============== RESULT ===================== \n",
      "{'detail': [{'loc': ['body', 'workclass'], 'msg': \"workclass Worker not valid, must be in ['State-gov', 'Self-emp-not-inc', 'Private', 'Federal-gov', 'Local-gov', '?', 'Self-emp-inc', 'Without-pay', 'Never-worked']\", 'type': 'value_error'}, {'loc': ['body', 'education'], 'msg': \"education Elementary not valid, must be in ['Bachelors', 'HS-grad', '11th', 'Masters', '9th', 'Some-college', 'Assoc-acdm', 'Assoc-voc', '7th-8th', 'Doctorate', 'Prof-school', '5th-6th', '10th', '1st-4th', 'Preschool', '12th']\", 'type': 'value_error'}, {'loc': ['body', 'marital-status'], 'msg': \"marital_status Polyamorous not valid, must be in ['Never-married', 'Married-civ-spouse', 'Divorced', 'Married-spouse-absent', 'Separated', 'Married-AF-spouse', 'Widowed']\", 'type': 'value_error'}, {'loc': ['body', 'occupation'], 'msg': \"occupation Rogue not valid, must be in ['Adm-clerical', 'Exec-managerial', 'Handlers-cleaners', 'Prof-specialty', 'Other-service', 'Sales', 'Craft-repair', 'Transport-moving', 'Farming-fishing', 'Machine-op-inspct', 'Tech-support', '?', 'Protective-serv', 'Armed-Forces', 'Priv-house-serv']\", 'type': 'value_error'}, {'loc': ['body', 'relationship'], 'msg': \"relationship Complicated not valid, must be in ['Not-in-family', 'Husband', 'Wife', 'Own-child', 'Unmarried', 'Other-relative']\", 'type': 'value_error'}, {'loc': ['body', 'race'], 'msg': \"race Pink not valid, must be in ['White', 'Black', 'Asian-Pac-Islander', 'Amer-Indian-Eskimo', 'Other']\", 'type': 'value_error'}, {'loc': ['body', 'sex'], 'msg': \"sex Bacteria not valid, must be in ['Male', 'Female']\", 'type': 'value_error'}, {'loc': ['body', 'native-country'], 'msg': \"native_country Battania not valid, must be in ['United-States', 'Cuba', 'Jamaica', 'India', '?', 'Mexico', 'South', 'Puerto-Rico', 'Honduras', 'England', 'Canada', 'Germany', 'Iran', 'Philippines', 'Italy', 'Poland', 'Columbia', 'Cambodia', 'Thailand', 'Ecuador', 'Laos', 'Taiwan', 'Haiti', 'Portugal', 'Dominican-Republic', 'El-Salvador', 'France', 'Guatemala', 'China', 'Japan', 'Yugoslavia', 'Peru', 'Outlying-US(Guam-USVI-etc)', 'Scotland', 'Trinadad&Tobago', 'Greece', 'Nicaragua', 'Vietnam', 'Hong', 'Ireland', 'Hungary', 'Holand-Netherlands']\", 'type': 'value_error'}]}\n"
     ]
    }
   ],
   "source": [
    "do_call(wrong_category_entry)"
   ]
  },
  {
   "cell_type": "code",
   "execution_count": 10,
   "id": "baa8dcbe",
   "metadata": {},
   "outputs": [],
   "source": [
    "from common.fixtures import generate_entry"
   ]
  },
  {
   "cell_type": "code",
   "execution_count": 11,
   "id": "4bf7a7da",
   "metadata": {},
   "outputs": [],
   "source": [
    "random_entry_1 = generate_entry()"
   ]
  },
  {
   "cell_type": "code",
   "execution_count": 12,
   "id": "44529765",
   "metadata": {},
   "outputs": [
    {
     "data": {
      "text/plain": [
       "{'age': 34,\n",
       " 'workclass': 'Self-emp-inc',\n",
       " 'fnlgt': 165605,\n",
       " 'education': 'Some-college',\n",
       " 'education-num': 9,\n",
       " 'marital-status': 'Never-married',\n",
       " 'occupation': 'Farming-fishing',\n",
       " 'relationship': 'Own-child',\n",
       " 'race': 'White',\n",
       " 'sex': 'Female',\n",
       " 'capital-gain': 4730,\n",
       " 'capital-loss': 11,\n",
       " 'hours-per-week': 35,\n",
       " 'native-country': 'England'}"
      ]
     },
     "execution_count": 12,
     "metadata": {},
     "output_type": "execute_result"
    }
   ],
   "source": [
    "random_entry_1"
   ]
  },
  {
   "cell_type": "code",
   "execution_count": 13,
   "id": "8c12ea66",
   "metadata": {},
   "outputs": [
    {
     "name": "stdout",
     "output_type": "stream",
     "text": [
      " ================ ENTRY ================== \n",
      "{'age': 34, 'workclass': 'Self-emp-inc', 'fnlgt': 165605, 'education': 'Some-college', 'education-num': 9, 'marital-status': 'Never-married', 'occupation': 'Farming-fishing', 'relationship': 'Own-child', 'race': 'White', 'sex': 'Female', 'capital-gain': 4730, 'capital-loss': 11, 'hours-per-week': 35, 'native-country': 'England'}\n",
      " =============== RESULT ===================== \n",
      "{'result': '<=50k'}\n"
     ]
    }
   ],
   "source": [
    "do_call(random_entry_1)"
   ]
  },
  {
   "cell_type": "code",
   "execution_count": 14,
   "id": "8451b399",
   "metadata": {},
   "outputs": [
    {
     "name": "stdout",
     "output_type": "stream",
     "text": [
      " ================ ENTRY ================== \n",
      "{'age': 42, 'workclass': 'Without-pay', 'fnlgt': 65480, 'education': '12th', 'education-num': 8, 'marital-status': 'Married-spouse-absent', 'occupation': 'Adm-clerical', 'relationship': 'Own-child', 'race': 'White', 'sex': 'Female', 'capital-gain': 10000, 'capital-loss': 0, 'hours-per-week': 52, 'native-country': 'Japan'}\n",
      " =============== RESULT ===================== \n",
      "{'result': '>50K'}\n"
     ]
    }
   ],
   "source": [
    "do_call(generate_entry())"
   ]
  },
  {
   "cell_type": "code",
   "execution_count": 15,
   "id": "48fc599c",
   "metadata": {},
   "outputs": [
    {
     "name": "stdout",
     "output_type": "stream",
     "text": [
      " ================ ENTRY ================== \n",
      "{'age': 26, 'workclass': 'Local-gov', 'fnlgt': 492925, 'education': 'Assoc-acdm', 'education-num': 12, 'marital-status': 'Married-spouse-absent', 'occupation': 'Tech-support', 'relationship': 'Unmarried', 'race': 'Black', 'sex': 'Male', 'capital-gain': 10000, 'capital-loss': 568, 'hours-per-week': 27, 'native-country': 'Trinadad&Tobago'}\n",
      " =============== RESULT ===================== \n",
      "{'result': '>50K'}\n",
      " ================ ENTRY ================== \n",
      "{'age': 34, 'workclass': 'Self-emp-inc', 'fnlgt': 102108, 'education': 'Some-college', 'education-num': 12, 'marital-status': 'Widowed', 'occupation': 'Prof-specialty', 'relationship': 'Other-relative', 'race': 'Asian-Pac-Islander', 'sex': 'Female', 'capital-gain': 6683, 'capital-loss': 391, 'hours-per-week': 54, 'native-country': 'Poland'}\n",
      " =============== RESULT ===================== \n",
      "{'result': '<=50k'}\n",
      " ================ ENTRY ================== \n",
      "{'age': 34, 'workclass': 'Without-pay', 'fnlgt': 344919, 'education': 'Prof-school', 'education-num': 7, 'marital-status': 'Married-civ-spouse', 'occupation': '?', 'relationship': 'Husband', 'race': 'Other', 'sex': 'Female', 'capital-gain': 0, 'capital-loss': 295, 'hours-per-week': 71, 'native-country': 'Vietnam'}\n",
      " =============== RESULT ===================== \n",
      "{'result': '<=50k'}\n",
      " ================ ENTRY ================== \n",
      "{'age': 46, 'workclass': 'Local-gov', 'fnlgt': 89741, 'education': 'Preschool', 'education-num': 7, 'marital-status': 'Divorced', 'occupation': 'Tech-support', 'relationship': 'Own-child', 'race': 'Black', 'sex': 'Male', 'capital-gain': 3564, 'capital-loss': 66, 'hours-per-week': 61, 'native-country': 'Holand-Netherlands'}\n",
      " =============== RESULT ===================== \n",
      "{'result': '<=50k'}\n",
      " ================ ENTRY ================== \n",
      "{'age': 24, 'workclass': 'Local-gov', 'fnlgt': 256760, 'education': '7th-8th', 'education-num': 8, 'marital-status': 'Widowed', 'occupation': 'Protective-serv', 'relationship': 'Husband', 'race': 'White', 'sex': 'Female', 'capital-gain': 10000, 'capital-loss': 0, 'hours-per-week': 32, 'native-country': '?'}\n",
      " =============== RESULT ===================== \n",
      "{'result': '>50K'}\n",
      " ================ ENTRY ================== \n",
      "{'age': 26, 'workclass': 'Private', 'fnlgt': 273205, 'education': '10th', 'education-num': 11, 'marital-status': 'Divorced', 'occupation': 'Prof-specialty', 'relationship': 'Other-relative', 'race': 'Asian-Pac-Islander', 'sex': 'Male', 'capital-gain': 0, 'capital-loss': 742, 'hours-per-week': 29, 'native-country': 'Dominican-Republic'}\n",
      " =============== RESULT ===================== \n",
      "{'result': '<=50k'}\n",
      " ================ ENTRY ================== \n",
      "{'age': 26, 'workclass': 'Private', 'fnlgt': 310222, 'education': '9th', 'education-num': 9, 'marital-status': 'Separated', 'occupation': 'Tech-support', 'relationship': 'Other-relative', 'race': 'Asian-Pac-Islander', 'sex': 'Male', 'capital-gain': 1824, 'capital-loss': 632, 'hours-per-week': 29, 'native-country': 'France'}\n",
      " =============== RESULT ===================== \n",
      "{'result': '<=50k'}\n",
      " ================ ENTRY ================== \n",
      "{'age': 35, 'workclass': 'Self-emp-inc', 'fnlgt': 137842, 'education': '11th', 'education-num': 8, 'marital-status': 'Married-spouse-absent', 'occupation': 'Prof-specialty', 'relationship': 'Unmarried', 'race': 'Other', 'sex': 'Female', 'capital-gain': 5691, 'capital-loss': 367, 'hours-per-week': 50, 'native-country': 'Greece'}\n",
      " =============== RESULT ===================== \n",
      "{'result': '<=50k'}\n",
      " ================ ENTRY ================== \n",
      "{'age': 19, 'workclass': 'Self-emp-not-inc', 'fnlgt': 206497, 'education': 'Assoc-acdm', 'education-num': 8, 'marital-status': 'Never-married', 'occupation': 'Farming-fishing', 'relationship': 'Other-relative', 'race': 'Asian-Pac-Islander', 'sex': 'Male', 'capital-gain': 0, 'capital-loss': 0, 'hours-per-week': 43, 'native-country': 'Guatemala'}\n",
      " =============== RESULT ===================== \n",
      "{'result': '<=50k'}\n",
      " ================ ENTRY ================== \n",
      "{'age': 45, 'workclass': '?', 'fnlgt': 259852, 'education': '10th', 'education-num': 5, 'marital-status': 'Separated', 'occupation': 'Craft-repair', 'relationship': 'Wife', 'race': 'Black', 'sex': 'Male', 'capital-gain': 3159, 'capital-loss': 791, 'hours-per-week': 40, 'native-country': 'Poland'}\n",
      " =============== RESULT ===================== \n",
      "{'result': '<=50k'}\n"
     ]
    }
   ],
   "source": [
    "for i in range(10):\n",
    "    do_call(generate_entry())"
   ]
  },
  {
   "cell_type": "code",
   "execution_count": 16,
   "id": "ad1a0d71",
   "metadata": {},
   "outputs": [
    {
     "name": "stdout",
     "output_type": "stream",
     "text": [
      " ================ ENTRY ================== \n",
      "{'age': 32, 'workclass': 'Self-emp-not-inc', 'fnlgt': 92346, 'education': 'Doctorate', 'education-num': 13, 'marital-status': 'Married-AF-spouse', 'occupation': 'Armed-Forces', 'relationship': 'Not-in-family', 'race': 'Black', 'sex': 'Female', 'capital-gain': 1392, 'capital-loss': 0, 'hours-per-week': 47, 'native-country': 'Canada'}\n",
      " =============== RESULT ===================== \n",
      "{'result': '<=50k'}\n",
      " ================ ENTRY ================== \n",
      "{'age': 26, 'workclass': 'Private', 'fnlgt': 99729, 'education': '12th', 'education-num': 10, 'marital-status': 'Separated', 'occupation': '?', 'relationship': 'Unmarried', 'race': 'Asian-Pac-Islander', 'sex': 'Female', 'capital-gain': 0, 'capital-loss': 89, 'hours-per-week': 30, 'native-country': 'Honduras'}\n",
      " =============== RESULT ===================== \n",
      "{'result': '<=50k'}\n",
      " ================ ENTRY ================== \n",
      "{'age': 37, 'workclass': 'Local-gov', 'fnlgt': 82199, 'education': '12th', 'education-num': 10, 'marital-status': 'Never-married', 'occupation': 'Prof-specialty', 'relationship': 'Own-child', 'race': 'Asian-Pac-Islander', 'sex': 'Male', 'capital-gain': 1461, 'capital-loss': 2, 'hours-per-week': 43, 'native-country': 'Iran'}\n",
      " =============== RESULT ===================== \n",
      "{'result': '<=50k'}\n",
      " ================ ENTRY ================== \n",
      "{'age': 31, 'workclass': 'Self-emp-not-inc', 'fnlgt': 166600, 'education': '5th-6th', 'education-num': 10, 'marital-status': 'Married-spouse-absent', 'occupation': 'Machine-op-inspct', 'relationship': 'Unmarried', 'race': 'Black', 'sex': 'Female', 'capital-gain': 0, 'capital-loss': 303, 'hours-per-week': 25, 'native-country': 'Greece'}\n",
      " =============== RESULT ===================== \n",
      "{'result': '<=50k'}\n",
      " ================ ENTRY ================== \n",
      "{'age': 20, 'workclass': 'State-gov', 'fnlgt': 277572, 'education': 'Bachelors', 'education-num': 4, 'marital-status': 'Married-spouse-absent', 'occupation': 'Tech-support', 'relationship': 'Husband', 'race': 'White', 'sex': 'Female', 'capital-gain': 5494, 'capital-loss': 0, 'hours-per-week': 70, 'native-country': 'El-Salvador'}\n",
      " =============== RESULT ===================== \n",
      "{'result': '<=50k'}\n",
      " ================ ENTRY ================== \n",
      "{'age': 30, 'workclass': 'Self-emp-inc', 'fnlgt': 190195, 'education': 'Assoc-voc', 'education-num': 14, 'marital-status': 'Married-spouse-absent', 'occupation': '?', 'relationship': 'Other-relative', 'race': 'White', 'sex': 'Female', 'capital-gain': 10000, 'capital-loss': 432, 'hours-per-week': 38, 'native-country': 'Outlying-US(Guam-USVI-etc)'}\n",
      " =============== RESULT ===================== \n",
      "{'result': '>50K'}\n",
      " ================ ENTRY ================== \n",
      "{'age': 53, 'workclass': 'Local-gov', 'fnlgt': 205107, 'education': '11th', 'education-num': 12, 'marital-status': 'Separated', 'occupation': 'Protective-serv', 'relationship': 'Other-relative', 'race': 'Asian-Pac-Islander', 'sex': 'Male', 'capital-gain': 0, 'capital-loss': 130, 'hours-per-week': 46, 'native-country': 'France'}\n",
      " =============== RESULT ===================== \n",
      "{'result': '<=50k'}\n",
      " ================ ENTRY ================== \n",
      "{'age': 29, 'workclass': '?', 'fnlgt': 374757, 'education': 'Bachelors', 'education-num': 10, 'marital-status': 'Never-married', 'occupation': '?', 'relationship': 'Not-in-family', 'race': 'Asian-Pac-Islander', 'sex': 'Male', 'capital-gain': 5432, 'capital-loss': 0, 'hours-per-week': 48, 'native-country': 'Guatemala'}\n",
      " =============== RESULT ===================== \n",
      "{'result': '<=50k'}\n",
      " ================ ENTRY ================== \n",
      "{'age': 22, 'workclass': 'Self-emp-not-inc', 'fnlgt': 65162, 'education': 'Prof-school', 'education-num': 6, 'marital-status': 'Never-married', 'occupation': 'Prof-specialty', 'relationship': 'Wife', 'race': 'White', 'sex': 'Male', 'capital-gain': 1050, 'capital-loss': 0, 'hours-per-week': 45, 'native-country': 'El-Salvador'}\n",
      " =============== RESULT ===================== \n",
      "{'result': '<=50k'}\n",
      " ================ ENTRY ================== \n",
      "{'age': 57, 'workclass': 'Federal-gov', 'fnlgt': 249720, 'education': 'Assoc-voc', 'education-num': 8, 'marital-status': 'Never-married', 'occupation': 'Tech-support', 'relationship': 'Unmarried', 'race': 'Other', 'sex': 'Female', 'capital-gain': 0, 'capital-loss': 0, 'hours-per-week': 30, 'native-country': 'Scotland'}\n",
      " =============== RESULT ===================== \n",
      "{'result': '<=50k'}\n"
     ]
    }
   ],
   "source": [
    "for i in range(10):\n",
    "    do_call(generate_entry())"
   ]
  },
  {
   "cell_type": "code",
   "execution_count": 35,
   "id": "88a431ee",
   "metadata": {},
   "outputs": [],
   "source": [
    "random_entry_2 = random_entry_1.copy()\n",
    "random_entry_2[\"workclass\"] = \"None\"\n"
   ]
  },
  {
   "cell_type": "code",
   "execution_count": 36,
   "id": "e5166201",
   "metadata": {},
   "outputs": [
    {
     "data": {
      "text/plain": [
       "{'age': 36,\n",
       " 'workclass': 'None',\n",
       " 'fnlgt': 337102,\n",
       " 'education': '1st-4th',\n",
       " 'education-num': 13,\n",
       " 'marital-status': 'Married-civ-spouse',\n",
       " 'occupation': 'Exec-managerial',\n",
       " 'relationship': 'Not-in-family',\n",
       " 'race': 'White',\n",
       " 'sex': 'Male',\n",
       " 'capital-gain': 8623,\n",
       " 'capital-loss': 0,\n",
       " 'hours-per-week': 25,\n",
       " 'native-country': 'Ireland'}"
      ]
     },
     "execution_count": 36,
     "metadata": {},
     "output_type": "execute_result"
    }
   ],
   "source": [
    "random_entry_2"
   ]
  },
  {
   "cell_type": "code",
   "execution_count": 37,
   "id": "6a0bdf05",
   "metadata": {},
   "outputs": [
    {
     "name": "stdout",
     "output_type": "stream",
     "text": [
      " ================ ENTRY ================== \n",
      "{'age': 36, 'workclass': 'None', 'fnlgt': 337102, 'education': '1st-4th', 'education-num': 13, 'marital-status': 'Married-civ-spouse', 'occupation': 'Exec-managerial', 'relationship': 'Not-in-family', 'race': 'White', 'sex': 'Male', 'capital-gain': 8623, 'capital-loss': 0, 'hours-per-week': 25, 'native-country': 'Ireland'}\n",
      " =============== RESULT ===================== \n",
      "{'detail': [{'loc': ['body', 'workclass'], 'msg': \"workclass None not valid, must be in ['State-gov', 'Self-emp-not-inc', 'Private', 'Federal-gov', 'Local-gov', '?', 'Self-emp-inc', 'Without-pay', 'Never-worked']\", 'type': 'value_error'}]}\n"
     ]
    }
   ],
   "source": [
    "do_call(random_entry_2)"
   ]
  },
  {
   "cell_type": "code",
   "execution_count": 38,
   "id": "dd4a01a1",
   "metadata": {},
   "outputs": [],
   "source": [
    "zero_entry={\n",
    "    'age': 17, 'workclass': 'Without-pay', 'fnlgt': 1, \n",
    "    'education': 'Bachelors', 'education-num': 1, 'marital-status': 'Never-married', \n",
    "    'occupation': 'Armed-Forces', 'relationship': 'Unmarried', \n",
    "    'race': 'Black', 'sex': 'Female', 'capital-gain': 0, 'capital-loss': 0, 'hours-per-week': 10,\n",
    "    'native-country': 'England'}"
   ]
  },
  {
   "cell_type": "code",
   "execution_count": 39,
   "id": "f856c5e5",
   "metadata": {},
   "outputs": [
    {
     "name": "stdout",
     "output_type": "stream",
     "text": [
      " ================ ENTRY ================== \n",
      "{'age': 17, 'workclass': 'Without-pay', 'fnlgt': 1, 'education': 'Bachelors', 'education-num': 1, 'marital-status': 'Never-married', 'occupation': 'Armed-Forces', 'relationship': 'Unmarried', 'race': 'Black', 'sex': 'Female', 'capital-gain': 0, 'capital-loss': 0, 'hours-per-week': 10, 'native-country': 'England'}\n",
      " =============== RESULT ===================== \n",
      "{'result': '<=50k'}\n"
     ]
    }
   ],
   "source": [
    "do_call(zero_entry)"
   ]
  },
  {
   "cell_type": "code",
   "execution_count": 40,
   "id": "9d353ca7",
   "metadata": {},
   "outputs": [],
   "source": [
    "big_entry={\n",
    "    'age': 50, 'workclass': 'Self-emp-not-inc', 'fnlgt': 1, \n",
    "    'education': 'Bachelors', 'education-num': 12, 'marital-status': 'Never-married', \n",
    "    'occupation': 'Adm-clerical', 'relationship': 'Unmarried', \n",
    "    'race': 'White', 'sex': 'Male', 'capital-gain': 100000, 'capital-loss': 0, 'hours-per-week': 40,\n",
    "    'native-country': 'England'}"
   ]
  },
  {
   "cell_type": "code",
   "execution_count": 41,
   "id": "0af96399",
   "metadata": {},
   "outputs": [
    {
     "name": "stdout",
     "output_type": "stream",
     "text": [
      " ================ ENTRY ================== \n",
      "{'age': 50, 'workclass': 'Self-emp-not-inc', 'fnlgt': 1, 'education': 'Bachelors', 'education-num': 12, 'marital-status': 'Never-married', 'occupation': 'Adm-clerical', 'relationship': 'Unmarried', 'race': 'White', 'sex': 'Male', 'capital-gain': 100000, 'capital-loss': 0, 'hours-per-week': 40, 'native-country': 'England'}\n",
      " =============== RESULT ===================== \n",
      "{'result': '>50K'}\n"
     ]
    }
   ],
   "source": [
    "do_call(big_entry)"
   ]
  },
  {
   "cell_type": "code",
   "execution_count": null,
   "id": "c5ed0e2e",
   "metadata": {},
   "outputs": [],
   "source": []
  }
 ],
 "metadata": {
  "kernelspec": {
   "display_name": "Python 3 (ipykernel)",
   "language": "python",
   "name": "python3"
  },
  "language_info": {
   "codemirror_mode": {
    "name": "ipython",
    "version": 3
   },
   "file_extension": ".py",
   "mimetype": "text/x-python",
   "name": "python",
   "nbconvert_exporter": "python",
   "pygments_lexer": "ipython3",
   "version": "3.8.13"
  }
 },
 "nbformat": 4,
 "nbformat_minor": 5
}
