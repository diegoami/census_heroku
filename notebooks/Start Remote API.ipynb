{
 "cells": [
  {
   "cell_type": "code",
   "execution_count": 1,
   "id": "a3bc75a9",
   "metadata": {},
   "outputs": [],
   "source": [
    "import sys\n",
    "sys.path.append(\"../\") # go to parent dir\n"
   ]
  },
  {
   "cell_type": "code",
   "execution_count": 2,
   "id": "59bbc136",
   "metadata": {},
   "outputs": [],
   "source": [
    "host=\"ionian-otter-6666.herokuapp.com\"\n",
    "port=80"
   ]
  },
  {
   "cell_type": "code",
   "execution_count": 3,
   "id": "fca93eb9",
   "metadata": {},
   "outputs": [],
   "source": [
    "import requests\n",
    "from common.fixtures import first_census_entry, second_census_entry, wrong_category_entry\n",
    "import pytest\n",
    "import os\n",
    "import json\n",
    "\n",
    "def do_call(entry):\n",
    "    print(\" ================ ENTRY ================== \")\n",
    "    print(json.dumps(entry))\n",
    "    response = requests.post(f'http://{host}:{port}/predict', json=entry)\n",
    "    result_call = response.json()\n",
    "    print(\" =============== RESULT ===================== \")\n",
    "    print(result_call)"
   ]
  },
  {
   "cell_type": "code",
   "execution_count": 4,
   "id": "fa91d13d",
   "metadata": {},
   "outputs": [
    {
     "name": "stdout",
     "output_type": "stream",
     "text": [
      " ================ ENTRY ================== \n",
      "{\"age\": 20, \"workclass\": \"State-gov\", \"fnlgt\": 3000, \"education\": \"Doctorate\", \"education-num\": 10, \"marital-status\": \"Never-married\", \"occupation\": \"Sales\", \"relationship\": \"Not-in-family\", \"race\": \"White\", \"sex\": \"Male\", \"capital-gain\": 10000, \"capital-loss\": 0, \"hours-per-week\": 40, \"native-country\": \"United-States\"}\n",
      " =============== RESULT ===================== \n",
      "{'result': '<=50k'}\n"
     ]
    }
   ],
   "source": [
    "do_call(first_census_entry)"
   ]
  },
  {
   "cell_type": "code",
   "execution_count": 5,
   "id": "49aaffa8",
   "metadata": {},
   "outputs": [
    {
     "name": "stdout",
     "output_type": "stream",
     "text": [
      " ================ ENTRY ================== \n",
      "{\"age\": 30, \"workclass\": \"Private\", \"fnlgt\": 1234, \"education\": \"Bachelors\", \"education-num\": 10, \"marital-status\": \"Divorced\", \"occupation\": \"Armed-Forces\", \"relationship\": \"Husband\", \"race\": \"Black\", \"sex\": \"Male\", \"capital-gain\": 20000, \"capital-loss\": 0, \"hours-per-week\": 50, \"native-country\": \"England\"}\n",
      " =============== RESULT ===================== \n",
      "{'result': '>50K'}\n"
     ]
    }
   ],
   "source": [
    "do_call(second_census_entry)"
   ]
  },
  {
   "cell_type": "code",
   "execution_count": 6,
   "id": "828771bf",
   "metadata": {},
   "outputs": [
    {
     "name": "stdout",
     "output_type": "stream",
     "text": [
      " ================ ENTRY ================== \n",
      "{\"age\": 30, \"workclass\": \"Worker\", \"fnlgt\": 1234, \"education\": \"Elementary\", \"education-num\": 10, \"marital-status\": \"Polyamorous\", \"occupation\": \"Rogue\", \"relationship\": \"Complicated\", \"race\": \"Pink\", \"sex\": \"Bacteria\", \"capital-gain\": 20000, \"capital-loss\": 0, \"hours-per-week\": 50, \"native-country\": \"Battania\"}\n",
      " =============== RESULT ===================== \n",
      "{'detail': [{'loc': ['body', 'workclass'], 'msg': \"workclass Worker not valid, must be in ['State-gov', 'Self-emp-not-inc', 'Private', 'Federal-gov', 'Local-gov', '?', 'Self-emp-inc', 'Without-pay', 'Never-worked']\", 'type': 'value_error'}, {'loc': ['body', 'education'], 'msg': \"education Elementary not valid, must be in ['Bachelors', 'HS-grad', '11th', 'Masters', '9th', 'Some-college', 'Assoc-acdm', 'Assoc-voc', '7th-8th', 'Doctorate', 'Prof-school', '5th-6th', '10th', '1st-4th', 'Preschool', '12th']\", 'type': 'value_error'}, {'loc': ['body', 'marital-status'], 'msg': \"marital_status Polyamorous not valid, must be in ['Never-married', 'Married-civ-spouse', 'Divorced', 'Married-spouse-absent', 'Separated', 'Married-AF-spouse', 'Widowed']\", 'type': 'value_error'}, {'loc': ['body', 'occupation'], 'msg': \"occupation Rogue not valid, must be in ['Adm-clerical', 'Exec-managerial', 'Handlers-cleaners', 'Prof-specialty', 'Other-service', 'Sales', 'Craft-repair', 'Transport-moving', 'Farming-fishing', 'Machine-op-inspct', 'Tech-support', '?', 'Protective-serv', 'Armed-Forces', 'Priv-house-serv']\", 'type': 'value_error'}, {'loc': ['body', 'relationship'], 'msg': \"relationship Complicated not valid, must be in ['Not-in-family', 'Husband', 'Wife', 'Own-child', 'Unmarried', 'Other-relative']\", 'type': 'value_error'}, {'loc': ['body', 'race'], 'msg': \"race Pink not valid, must be in ['White', 'Black', 'Asian-Pac-Islander', 'Amer-Indian-Eskimo', 'Other']\", 'type': 'value_error'}, {'loc': ['body', 'sex'], 'msg': \"sex Bacteria not valid, must be in ['Male', 'Female']\", 'type': 'value_error'}, {'loc': ['body', 'native-country'], 'msg': \"native_country Battania not valid, must be in ['United-States', 'Cuba', 'Jamaica', 'India', '?', 'Mexico', 'South', 'Puerto-Rico', 'Honduras', 'England', 'Canada', 'Germany', 'Iran', 'Philippines', 'Italy', 'Poland', 'Columbia', 'Cambodia', 'Thailand', 'Ecuador', 'Laos', 'Taiwan', 'Haiti', 'Portugal', 'Dominican-Republic', 'El-Salvador', 'France', 'Guatemala', 'China', 'Japan', 'Yugoslavia', 'Peru', 'Outlying-US(Guam-USVI-etc)', 'Scotland', 'Trinadad&Tobago', 'Greece', 'Nicaragua', 'Vietnam', 'Hong', 'Ireland', 'Hungary', 'Holand-Netherlands']\", 'type': 'value_error'}]}\n"
     ]
    }
   ],
   "source": [
    "do_call(wrong_category_entry)"
   ]
  },
  {
   "cell_type": "code",
   "execution_count": 7,
   "id": "baa8dcbe",
   "metadata": {},
   "outputs": [],
   "source": [
    "from common.fixtures import generate_entry"
   ]
  },
  {
   "cell_type": "code",
   "execution_count": 8,
   "id": "4bf7a7da",
   "metadata": {},
   "outputs": [],
   "source": [
    "random_entry_1 = generate_entry()"
   ]
  },
  {
   "cell_type": "code",
   "execution_count": 9,
   "id": "44529765",
   "metadata": {},
   "outputs": [
    {
     "data": {
      "text/plain": [
       "{'age': 31,\n",
       " 'workclass': 'Self-emp-not-inc',\n",
       " 'fnlgt': 187042,\n",
       " 'education': '9th',\n",
       " 'education-num': 16,\n",
       " 'marital-status': 'Separated',\n",
       " 'occupation': 'Handlers-cleaners',\n",
       " 'relationship': 'Not-in-family',\n",
       " 'race': 'Amer-Indian-Eskimo',\n",
       " 'sex': 'Female',\n",
       " 'capital-gain': 1546,\n",
       " 'capital-loss': 160,\n",
       " 'hours-per-week': 25,\n",
       " 'native-country': 'Jamaica'}"
      ]
     },
     "execution_count": 9,
     "metadata": {},
     "output_type": "execute_result"
    }
   ],
   "source": [
    "random_entry_1"
   ]
  },
  {
   "cell_type": "code",
   "execution_count": 10,
   "id": "8c12ea66",
   "metadata": {},
   "outputs": [
    {
     "name": "stdout",
     "output_type": "stream",
     "text": [
      " ================ ENTRY ================== \n",
      "{\"age\": 31, \"workclass\": \"Self-emp-not-inc\", \"fnlgt\": 187042, \"education\": \"9th\", \"education-num\": 16, \"marital-status\": \"Separated\", \"occupation\": \"Handlers-cleaners\", \"relationship\": \"Not-in-family\", \"race\": \"Amer-Indian-Eskimo\", \"sex\": \"Female\", \"capital-gain\": 1546, \"capital-loss\": 160, \"hours-per-week\": 25, \"native-country\": \"Jamaica\"}\n",
      " =============== RESULT ===================== \n",
      "{'result': '<=50k'}\n"
     ]
    }
   ],
   "source": [
    "do_call(random_entry_1)"
   ]
  },
  {
   "cell_type": "code",
   "execution_count": 11,
   "id": "8451b399",
   "metadata": {},
   "outputs": [
    {
     "name": "stdout",
     "output_type": "stream",
     "text": [
      " ================ ENTRY ================== \n",
      "{\"age\": 63, \"workclass\": \"Federal-gov\", \"fnlgt\": 242815, \"education\": \"Assoc-voc\", \"education-num\": 14, \"marital-status\": \"Widowed\", \"occupation\": \"Exec-managerial\", \"relationship\": \"Not-in-family\", \"race\": \"Asian-Pac-Islander\", \"sex\": \"Male\", \"capital-gain\": 0, \"capital-loss\": 672, \"hours-per-week\": 35, \"native-country\": \"Puerto-Rico\"}\n",
      " =============== RESULT ===================== \n",
      "{'result': '<=50k'}\n"
     ]
    }
   ],
   "source": [
    "do_call(generate_entry())"
   ]
  },
  {
   "cell_type": "code",
   "execution_count": 12,
   "id": "48fc599c",
   "metadata": {},
   "outputs": [
    {
     "name": "stdout",
     "output_type": "stream",
     "text": [
      " ================ ENTRY ================== \n",
      "{\"age\": 37, \"workclass\": \"Never-worked\", \"fnlgt\": 127491, \"education\": \"11th\", \"education-num\": 13, \"marital-status\": \"Married-civ-spouse\", \"occupation\": \"Priv-house-serv\", \"relationship\": \"Wife\", \"race\": \"White\", \"sex\": \"Female\", \"capital-gain\": 0, \"capital-loss\": 115, \"hours-per-week\": 30, \"native-country\": \"Trinadad&Tobago\"}\n",
      " =============== RESULT ===================== \n",
      "{'result': '<=50k'}\n",
      " ================ ENTRY ================== \n",
      "{\"age\": 32, \"workclass\": \"Self-emp-not-inc\", \"fnlgt\": 161550, \"education\": \"12th\", \"education-num\": 9, \"marital-status\": \"Divorced\", \"occupation\": \"Protective-serv\", \"relationship\": \"Own-child\", \"race\": \"White\", \"sex\": \"Male\", \"capital-gain\": 9933, \"capital-loss\": 237, \"hours-per-week\": 46, \"native-country\": \"Philippines\"}\n",
      " =============== RESULT ===================== \n",
      "{'result': '>50K'}\n",
      " ================ ENTRY ================== \n",
      "{\"age\": 32, \"workclass\": \"Local-gov\", \"fnlgt\": 253918, \"education\": \"12th\", \"education-num\": 14, \"marital-status\": \"Married-AF-spouse\", \"occupation\": \"Machine-op-inspct\", \"relationship\": \"Not-in-family\", \"race\": \"Amer-Indian-Eskimo\", \"sex\": \"Male\", \"capital-gain\": 9352, \"capital-loss\": 181, \"hours-per-week\": 42, \"native-country\": \"Holand-Netherlands\"}\n",
      " =============== RESULT ===================== \n",
      "{'result': '>50K'}\n",
      " ================ ENTRY ================== \n",
      "{\"age\": 17, \"workclass\": \"Private\", \"fnlgt\": 0, \"education\": \"HS-grad\", \"education-num\": 9, \"marital-status\": \"Never-married\", \"occupation\": \"Craft-repair\", \"relationship\": \"Unmarried\", \"race\": \"White\", \"sex\": \"Male\", \"capital-gain\": 0, \"capital-loss\": 0, \"hours-per-week\": 46, \"native-country\": \"Dominican-Republic\"}\n",
      " =============== RESULT ===================== \n",
      "{'result': '<=50k'}\n",
      " ================ ENTRY ================== \n",
      "{\"age\": 29, \"workclass\": \"Self-emp-not-inc\", \"fnlgt\": 244345, \"education\": \"Doctorate\", \"education-num\": 15, \"marital-status\": \"Separated\", \"occupation\": \"Exec-managerial\", \"relationship\": \"Husband\", \"race\": \"Amer-Indian-Eskimo\", \"sex\": \"Male\", \"capital-gain\": 3750, \"capital-loss\": 245, \"hours-per-week\": 53, \"native-country\": \"El-Salvador\"}\n",
      " =============== RESULT ===================== \n",
      "{'result': '<=50k'}\n",
      " ================ ENTRY ================== \n",
      "{\"age\": 28, \"workclass\": \"Self-emp-inc\", \"fnlgt\": 336572, \"education\": \"12th\", \"education-num\": 16, \"marital-status\": \"Married-AF-spouse\", \"occupation\": \"Other-service\", \"relationship\": \"Not-in-family\", \"race\": \"Asian-Pac-Islander\", \"sex\": \"Female\", \"capital-gain\": 5820, \"capital-loss\": 852, \"hours-per-week\": 36, \"native-country\": \"Holand-Netherlands\"}\n",
      " =============== RESULT ===================== \n",
      "{'result': '<=50k'}\n",
      " ================ ENTRY ================== \n",
      "{\"age\": 35, \"workclass\": \"Without-pay\", \"fnlgt\": 223018, \"education\": \"Some-college\", \"education-num\": 6, \"marital-status\": \"Divorced\", \"occupation\": \"Transport-moving\", \"relationship\": \"Not-in-family\", \"race\": \"Amer-Indian-Eskimo\", \"sex\": \"Male\", \"capital-gain\": 3240, \"capital-loss\": 0, \"hours-per-week\": 63, \"native-country\": \"Yugoslavia\"}\n",
      " =============== RESULT ===================== \n",
      "{'result': '<=50k'}\n",
      " ================ ENTRY ================== \n",
      "{\"age\": 19, \"workclass\": \"?\", \"fnlgt\": 257419, \"education\": \"Assoc-acdm\", \"education-num\": 12, \"marital-status\": \"Divorced\", \"occupation\": \"Tech-support\", \"relationship\": \"Husband\", \"race\": \"Other\", \"sex\": \"Female\", \"capital-gain\": 4094, \"capital-loss\": 0, \"hours-per-week\": 63, \"native-country\": \"Guatemala\"}\n",
      " =============== RESULT ===================== \n",
      "{'result': '<=50k'}\n",
      " ================ ENTRY ================== \n",
      "{\"age\": 38, \"workclass\": \"?\", \"fnlgt\": 227957, \"education\": \"Bachelors\", \"education-num\": 8, \"marital-status\": \"Never-married\", \"occupation\": \"?\", \"relationship\": \"Own-child\", \"race\": \"Asian-Pac-Islander\", \"sex\": \"Male\", \"capital-gain\": 2453, \"capital-loss\": 190, \"hours-per-week\": 20, \"native-country\": \"Greece\"}\n",
      " =============== RESULT ===================== \n",
      "{'result': '<=50k'}\n",
      " ================ ENTRY ================== \n",
      "{\"age\": 40, \"workclass\": \"?\", \"fnlgt\": 306296, \"education\": \"5th-6th\", \"education-num\": 10, \"marital-status\": \"Separated\", \"occupation\": \"Sales\", \"relationship\": \"Wife\", \"race\": \"Amer-Indian-Eskimo\", \"sex\": \"Female\", \"capital-gain\": 10000, \"capital-loss\": 0, \"hours-per-week\": 30, \"native-country\": \"Ireland\"}\n",
      " =============== RESULT ===================== \n",
      "{'result': '>50K'}\n"
     ]
    }
   ],
   "source": [
    "for i in range(10):\n",
    "    do_call(generate_entry())"
   ]
  },
  {
   "cell_type": "code",
   "execution_count": 13,
   "id": "ad1a0d71",
   "metadata": {},
   "outputs": [
    {
     "name": "stdout",
     "output_type": "stream",
     "text": [
      " ================ ENTRY ================== \n",
      "{\"age\": 57, \"workclass\": \"Never-worked\", \"fnlgt\": 27088, \"education\": \"Bachelors\", \"education-num\": 8, \"marital-status\": \"Separated\", \"occupation\": \"Sales\", \"relationship\": \"Other-relative\", \"race\": \"Black\", \"sex\": \"Male\", \"capital-gain\": 0, \"capital-loss\": 0, \"hours-per-week\": 38, \"native-country\": \"Iran\"}\n",
      " =============== RESULT ===================== \n",
      "{'result': '<=50k'}\n",
      " ================ ENTRY ================== \n",
      "{\"age\": 20, \"workclass\": \"Without-pay\", \"fnlgt\": 107792, \"education\": \"10th\", \"education-num\": 11, \"marital-status\": \"Separated\", \"occupation\": \"Craft-repair\", \"relationship\": \"Husband\", \"race\": \"Asian-Pac-Islander\", \"sex\": \"Male\", \"capital-gain\": 0, \"capital-loss\": 0, \"hours-per-week\": 49, \"native-country\": \"United-States\"}\n",
      " =============== RESULT ===================== \n",
      "{'result': '<=50k'}\n",
      " ================ ENTRY ================== \n",
      "{\"age\": 52, \"workclass\": \"Never-worked\", \"fnlgt\": 61845, \"education\": \"5th-6th\", \"education-num\": 11, \"marital-status\": \"Widowed\", \"occupation\": \"Armed-Forces\", \"relationship\": \"Husband\", \"race\": \"Black\", \"sex\": \"Male\", \"capital-gain\": 1300, \"capital-loss\": 0, \"hours-per-week\": 52, \"native-country\": \"South\"}\n",
      " =============== RESULT ===================== \n",
      "{'result': '<=50k'}\n",
      " ================ ENTRY ================== \n",
      "{\"age\": 17, \"workclass\": \"Never-worked\", \"fnlgt\": 222584, \"education\": \"HS-grad\", \"education-num\": 12, \"marital-status\": \"Married-AF-spouse\", \"occupation\": \"Adm-clerical\", \"relationship\": \"Wife\", \"race\": \"Other\", \"sex\": \"Male\", \"capital-gain\": 0, \"capital-loss\": 0, \"hours-per-week\": 62, \"native-country\": \"Ireland\"}\n",
      " =============== RESULT ===================== \n",
      "{'result': '<=50k'}\n",
      " ================ ENTRY ================== \n",
      "{\"age\": 68, \"workclass\": \"Never-worked\", \"fnlgt\": 143838, \"education\": \"1st-4th\", \"education-num\": 11, \"marital-status\": \"Married-AF-spouse\", \"occupation\": \"Other-service\", \"relationship\": \"Own-child\", \"race\": \"White\", \"sex\": \"Female\", \"capital-gain\": 5468, \"capital-loss\": 678, \"hours-per-week\": 35, \"native-country\": \"Honduras\"}\n",
      " =============== RESULT ===================== \n",
      "{'result': '<=50k'}\n",
      " ================ ENTRY ================== \n",
      "{\"age\": 81, \"workclass\": \"Without-pay\", \"fnlgt\": 100125, \"education\": \"Preschool\", \"education-num\": 8, \"marital-status\": \"Married-civ-spouse\", \"occupation\": \"Protective-serv\", \"relationship\": \"Husband\", \"race\": \"Amer-Indian-Eskimo\", \"sex\": \"Female\", \"capital-gain\": 0, \"capital-loss\": 0, \"hours-per-week\": 40, \"native-country\": \"Trinadad&Tobago\"}\n",
      " =============== RESULT ===================== \n",
      "{'result': '<=50k'}\n",
      " ================ ENTRY ================== \n",
      "{\"age\": 67, \"workclass\": \"Self-emp-inc\", \"fnlgt\": 184578, \"education\": \"Doctorate\", \"education-num\": 9, \"marital-status\": \"Widowed\", \"occupation\": \"Exec-managerial\", \"relationship\": \"Other-relative\", \"race\": \"Black\", \"sex\": \"Male\", \"capital-gain\": 1317, \"capital-loss\": 0, \"hours-per-week\": 42, \"native-country\": \"Yugoslavia\"}\n",
      " =============== RESULT ===================== \n",
      "{'result': '<=50k'}\n",
      " ================ ENTRY ================== \n",
      "{\"age\": 32, \"workclass\": \"Local-gov\", \"fnlgt\": 202698, \"education\": \"7th-8th\", \"education-num\": 10, \"marital-status\": \"Widowed\", \"occupation\": \"Armed-Forces\", \"relationship\": \"Other-relative\", \"race\": \"White\", \"sex\": \"Male\", \"capital-gain\": 0, \"capital-loss\": 0, \"hours-per-week\": 23, \"native-country\": \"Thailand\"}\n",
      " =============== RESULT ===================== \n",
      "{'result': '<=50k'}\n",
      " ================ ENTRY ================== \n",
      "{\"age\": 40, \"workclass\": \"Local-gov\", \"fnlgt\": 139933, \"education\": \"7th-8th\", \"education-num\": 11, \"marital-status\": \"Divorced\", \"occupation\": \"Priv-house-serv\", \"relationship\": \"Other-relative\", \"race\": \"Other\", \"sex\": \"Female\", \"capital-gain\": 0, \"capital-loss\": 670, \"hours-per-week\": 48, \"native-country\": \"Honduras\"}\n",
      " =============== RESULT ===================== \n",
      "{'result': '<=50k'}\n",
      " ================ ENTRY ================== \n",
      "{\"age\": 17, \"workclass\": \"Self-emp-not-inc\", \"fnlgt\": 204006, \"education\": \"12th\", \"education-num\": 11, \"marital-status\": \"Married-AF-spouse\", \"occupation\": \"Protective-serv\", \"relationship\": \"Not-in-family\", \"race\": \"Amer-Indian-Eskimo\", \"sex\": \"Male\", \"capital-gain\": 0, \"capital-loss\": 372, \"hours-per-week\": 23, \"native-country\": \"Germany\"}\n",
      " =============== RESULT ===================== \n",
      "{'result': '<=50k'}\n"
     ]
    }
   ],
   "source": [
    "for i in range(10):\n",
    "    do_call(generate_entry())"
   ]
  },
  {
   "cell_type": "code",
   "execution_count": 14,
   "id": "88a431ee",
   "metadata": {},
   "outputs": [],
   "source": [
    "random_entry_2 = random_entry_1.copy()\n",
    "random_entry_2[\"workclass\"] = \"None\"\n"
   ]
  },
  {
   "cell_type": "code",
   "execution_count": 15,
   "id": "e5166201",
   "metadata": {},
   "outputs": [
    {
     "data": {
      "text/plain": [
       "{'age': 31,\n",
       " 'workclass': 'None',\n",
       " 'fnlgt': 187042,\n",
       " 'education': '9th',\n",
       " 'education-num': 16,\n",
       " 'marital-status': 'Separated',\n",
       " 'occupation': 'Handlers-cleaners',\n",
       " 'relationship': 'Not-in-family',\n",
       " 'race': 'Amer-Indian-Eskimo',\n",
       " 'sex': 'Female',\n",
       " 'capital-gain': 1546,\n",
       " 'capital-loss': 160,\n",
       " 'hours-per-week': 25,\n",
       " 'native-country': 'Jamaica'}"
      ]
     },
     "execution_count": 15,
     "metadata": {},
     "output_type": "execute_result"
    }
   ],
   "source": [
    "random_entry_2"
   ]
  },
  {
   "cell_type": "code",
   "execution_count": 16,
   "id": "6a0bdf05",
   "metadata": {},
   "outputs": [
    {
     "name": "stdout",
     "output_type": "stream",
     "text": [
      " ================ ENTRY ================== \n",
      "{\"age\": 31, \"workclass\": \"None\", \"fnlgt\": 187042, \"education\": \"9th\", \"education-num\": 16, \"marital-status\": \"Separated\", \"occupation\": \"Handlers-cleaners\", \"relationship\": \"Not-in-family\", \"race\": \"Amer-Indian-Eskimo\", \"sex\": \"Female\", \"capital-gain\": 1546, \"capital-loss\": 160, \"hours-per-week\": 25, \"native-country\": \"Jamaica\"}\n",
      " =============== RESULT ===================== \n",
      "{'detail': [{'loc': ['body', 'workclass'], 'msg': \"workclass None not valid, must be in ['State-gov', 'Self-emp-not-inc', 'Private', 'Federal-gov', 'Local-gov', '?', 'Self-emp-inc', 'Without-pay', 'Never-worked']\", 'type': 'value_error'}]}\n"
     ]
    }
   ],
   "source": [
    "do_call(random_entry_2)"
   ]
  },
  {
   "cell_type": "code",
   "execution_count": 17,
   "id": "dd4a01a1",
   "metadata": {},
   "outputs": [],
   "source": [
    "zero_entry={\n",
    "    'age': 17, 'workclass': 'Without-pay', 'fnlgt': 1, \n",
    "    'education': 'Bachelors', 'education-num': 1, 'marital-status': 'Never-married', \n",
    "    'occupation': 'Armed-Forces', 'relationship': 'Unmarried', \n",
    "    'race': 'Black', 'sex': 'Female', 'capital-gain': 0, 'capital-loss': 0, 'hours-per-week': 10,\n",
    "    'native-country': 'England'}"
   ]
  },
  {
   "cell_type": "code",
   "execution_count": 18,
   "id": "f856c5e5",
   "metadata": {},
   "outputs": [
    {
     "name": "stdout",
     "output_type": "stream",
     "text": [
      " ================ ENTRY ================== \n",
      "{\"age\": 17, \"workclass\": \"Without-pay\", \"fnlgt\": 1, \"education\": \"Bachelors\", \"education-num\": 1, \"marital-status\": \"Never-married\", \"occupation\": \"Armed-Forces\", \"relationship\": \"Unmarried\", \"race\": \"Black\", \"sex\": \"Female\", \"capital-gain\": 0, \"capital-loss\": 0, \"hours-per-week\": 10, \"native-country\": \"England\"}\n",
      " =============== RESULT ===================== \n",
      "{'result': '<=50k'}\n"
     ]
    }
   ],
   "source": [
    "do_call(zero_entry)"
   ]
  },
  {
   "cell_type": "code",
   "execution_count": 19,
   "id": "9d353ca7",
   "metadata": {},
   "outputs": [],
   "source": [
    "big_entry={\n",
    "    'age': 50, 'workclass': 'Self-emp-not-inc', 'fnlgt': 1, \n",
    "    'education': 'Bachelors', 'education-num': 12, 'marital-status': 'Never-married', \n",
    "    'occupation': 'Adm-clerical', 'relationship': 'Unmarried', \n",
    "    'race': 'White', 'sex': 'Male', 'capital-gain': 100000, 'capital-loss': 0, 'hours-per-week': 40,\n",
    "    'native-country': 'England'}"
   ]
  },
  {
   "cell_type": "code",
   "execution_count": 20,
   "id": "0af96399",
   "metadata": {},
   "outputs": [
    {
     "name": "stdout",
     "output_type": "stream",
     "text": [
      " ================ ENTRY ================== \n",
      "{\"age\": 50, \"workclass\": \"Self-emp-not-inc\", \"fnlgt\": 1, \"education\": \"Bachelors\", \"education-num\": 12, \"marital-status\": \"Never-married\", \"occupation\": \"Adm-clerical\", \"relationship\": \"Unmarried\", \"race\": \"White\", \"sex\": \"Male\", \"capital-gain\": 100000, \"capital-loss\": 0, \"hours-per-week\": 40, \"native-country\": \"England\"}\n",
      " =============== RESULT ===================== \n",
      "{'result': '>50K'}\n"
     ]
    }
   ],
   "source": [
    "do_call(big_entry)"
   ]
  },
  {
   "cell_type": "code",
   "execution_count": null,
   "id": "c5ed0e2e",
   "metadata": {},
   "outputs": [],
   "source": []
  }
 ],
 "metadata": {
  "kernelspec": {
   "display_name": "Python 3 (ipykernel)",
   "language": "python",
   "name": "python3"
  },
  "language_info": {
   "codemirror_mode": {
    "name": "ipython",
    "version": 3
   },
   "file_extension": ".py",
   "mimetype": "text/x-python",
   "name": "python",
   "nbconvert_exporter": "python",
   "pygments_lexer": "ipython3",
   "version": "3.8.13"
  }
 },
 "nbformat": 4,
 "nbformat_minor": 5
}