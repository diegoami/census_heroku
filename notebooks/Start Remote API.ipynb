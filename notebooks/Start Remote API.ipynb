{
 "cells": [
  {
   "cell_type": "code",
   "execution_count": 1,
   "id": "a3bc75a9",
   "metadata": {},
   "outputs": [],
   "source": [
    "import sys\n",
    "sys.path.append(\"../\") # go to parent dir\n"
   ]
  },
  {
   "cell_type": "code",
   "execution_count": 2,
   "id": "59bbc136",
   "metadata": {},
   "outputs": [],
   "source": [
    "host=\"ionian-otter-6666.herokuapp.com\"\n",
    "port=80"
   ]
  },
  {
   "cell_type": "code",
   "execution_count": 3,
   "id": "fca93eb9",
   "metadata": {},
   "outputs": [],
   "source": [
    "from common.fixtures import first_census_entry, second_census_entry, wrong_category_entry\n",
    "from api.requests import do_call\n"
   ]
  },
  {
   "cell_type": "code",
   "execution_count": 4,
   "id": "fa91d13d",
   "metadata": {},
   "outputs": [
    {
     "name": "stdout",
     "output_type": "stream",
     "text": [
      " ================ CALL ====================\n",
      "ENTRY: {\"age\": 20, \"workclass\": \"State-gov\", \"fnlgt\": 3000, \"education\": \"Doctorate\", \"education-num\": 10, \"marital-status\": \"Never-married\", \"occupation\": \"Sales\", \"relationship\": \"Not-in-family\", \"race\": \"White\", \"sex\": \"Male\", \"capital-gain\": 10000, \"capital-loss\": 0, \"hours-per-week\": 40, \"native-country\": \"United-States\"}\n",
      "STATUS CODE: 200\n",
      "RESULT: {'result': '<=50k'}\n"
     ]
    }
   ],
   "source": [
    "do_call(host, port, first_census_entry)"
   ]
  },
  {
   "cell_type": "code",
   "execution_count": 5,
   "id": "49aaffa8",
   "metadata": {},
   "outputs": [
    {
     "name": "stdout",
     "output_type": "stream",
     "text": [
      " ================ CALL ====================\n",
      "ENTRY: {\"age\": 30, \"workclass\": \"Private\", \"fnlgt\": 1234, \"education\": \"Bachelors\", \"education-num\": 10, \"marital-status\": \"Divorced\", \"occupation\": \"Armed-Forces\", \"relationship\": \"Husband\", \"race\": \"Black\", \"sex\": \"Male\", \"capital-gain\": 20000, \"capital-loss\": 0, \"hours-per-week\": 50, \"native-country\": \"England\"}\n",
      "STATUS CODE: 200\n",
      "RESULT: {'result': '>50K'}\n"
     ]
    }
   ],
   "source": [
    "do_call(host, port, second_census_entry)"
   ]
  },
  {
   "cell_type": "code",
   "execution_count": 6,
   "id": "828771bf",
   "metadata": {},
   "outputs": [
    {
     "name": "stdout",
     "output_type": "stream",
     "text": [
      " ================ CALL ====================\n",
      "ENTRY: {\"age\": 30, \"workclass\": \"Worker\", \"fnlgt\": 1234, \"education\": \"Elementary\", \"education-num\": 10, \"marital-status\": \"Polyamorous\", \"occupation\": \"Rogue\", \"relationship\": \"Complicated\", \"race\": \"Pink\", \"sex\": \"Bacteria\", \"capital-gain\": 20000, \"capital-loss\": 0, \"hours-per-week\": 50, \"native-country\": \"Battania\"}\n",
      "STATUS CODE: 422\n",
      "RESULT: {'detail': [{'loc': ['body', 'workclass'], 'msg': \"workclass Worker not valid, must be in ['State-gov', 'Self-emp-not-inc', 'Private', 'Federal-gov', 'Local-gov', '?', 'Self-emp-inc', 'Without-pay', 'Never-worked']\", 'type': 'value_error'}, {'loc': ['body', 'education'], 'msg': \"education Elementary not valid, must be in ['Bachelors', 'HS-grad', '11th', 'Masters', '9th', 'Some-college', 'Assoc-acdm', 'Assoc-voc', '7th-8th', 'Doctorate', 'Prof-school', '5th-6th', '10th', '1st-4th', 'Preschool', '12th']\", 'type': 'value_error'}, {'loc': ['body', 'marital-status'], 'msg': \"marital_status Polyamorous not valid, must be in ['Never-married', 'Married-civ-spouse', 'Divorced', 'Married-spouse-absent', 'Separated', 'Married-AF-spouse', 'Widowed']\", 'type': 'value_error'}, {'loc': ['body', 'occupation'], 'msg': \"occupation Rogue not valid, must be in ['Adm-clerical', 'Exec-managerial', 'Handlers-cleaners', 'Prof-specialty', 'Other-service', 'Sales', 'Craft-repair', 'Transport-moving', 'Farming-fishing', 'Machine-op-inspct', 'Tech-support', '?', 'Protective-serv', 'Armed-Forces', 'Priv-house-serv']\", 'type': 'value_error'}, {'loc': ['body', 'relationship'], 'msg': \"relationship Complicated not valid, must be in ['Not-in-family', 'Husband', 'Wife', 'Own-child', 'Unmarried', 'Other-relative']\", 'type': 'value_error'}, {'loc': ['body', 'race'], 'msg': \"race Pink not valid, must be in ['White', 'Black', 'Asian-Pac-Islander', 'Amer-Indian-Eskimo', 'Other']\", 'type': 'value_error'}, {'loc': ['body', 'sex'], 'msg': \"sex Bacteria not valid, must be in ['Male', 'Female']\", 'type': 'value_error'}, {'loc': ['body', 'native-country'], 'msg': \"native_country Battania not valid, must be in ['United-States', 'Cuba', 'Jamaica', 'India', '?', 'Mexico', 'South', 'Puerto-Rico', 'Honduras', 'England', 'Canada', 'Germany', 'Iran', 'Philippines', 'Italy', 'Poland', 'Columbia', 'Cambodia', 'Thailand', 'Ecuador', 'Laos', 'Taiwan', 'Haiti', 'Portugal', 'Dominican-Republic', 'El-Salvador', 'France', 'Guatemala', 'China', 'Japan', 'Yugoslavia', 'Peru', 'Outlying-US(Guam-USVI-etc)', 'Scotland', 'Trinadad&Tobago', 'Greece', 'Nicaragua', 'Vietnam', 'Hong', 'Ireland', 'Hungary', 'Holand-Netherlands']\", 'type': 'value_error'}]}\n"
     ]
    }
   ],
   "source": [
    "do_call(host, port, wrong_category_entry)"
   ]
  },
  {
   "cell_type": "code",
   "execution_count": 7,
   "id": "baa8dcbe",
   "metadata": {},
   "outputs": [],
   "source": [
    "from common.fixtures import generate_entry"
   ]
  },
  {
   "cell_type": "code",
   "execution_count": 8,
   "id": "4bf7a7da",
   "metadata": {},
   "outputs": [],
   "source": [
    "random_entry_1 = generate_entry()"
   ]
  },
  {
   "cell_type": "code",
   "execution_count": 9,
   "id": "44529765",
   "metadata": {},
   "outputs": [
    {
     "data": {
      "text/plain": [
       "{'age': 34,\n",
       " 'workclass': 'Federal-gov',\n",
       " 'fnlgt': 209402,\n",
       " 'education': 'HS-grad',\n",
       " 'education-num': 16,\n",
       " 'marital-status': 'Separated',\n",
       " 'occupation': 'Transport-moving',\n",
       " 'relationship': 'Unmarried',\n",
       " 'race': 'White',\n",
       " 'sex': 'Male',\n",
       " 'capital-gain': 0,\n",
       " 'capital-loss': 275,\n",
       " 'hours-per-week': 56,\n",
       " 'native-country': 'Outlying-US(Guam-USVI-etc)'}"
      ]
     },
     "execution_count": 9,
     "metadata": {},
     "output_type": "execute_result"
    }
   ],
   "source": [
    "random_entry_1"
   ]
  },
  {
   "cell_type": "code",
   "execution_count": 10,
   "id": "8c12ea66",
   "metadata": {},
   "outputs": [
    {
     "name": "stdout",
     "output_type": "stream",
     "text": [
      " ================ CALL ====================\n",
      "ENTRY: {\"age\": 34, \"workclass\": \"Federal-gov\", \"fnlgt\": 209402, \"education\": \"HS-grad\", \"education-num\": 16, \"marital-status\": \"Separated\", \"occupation\": \"Transport-moving\", \"relationship\": \"Unmarried\", \"race\": \"White\", \"sex\": \"Male\", \"capital-gain\": 0, \"capital-loss\": 275, \"hours-per-week\": 56, \"native-country\": \"Outlying-US(Guam-USVI-etc)\"}\n",
      "STATUS CODE: 200\n",
      "RESULT: {'result': '>50K'}\n"
     ]
    }
   ],
   "source": [
    "do_call(host, port, random_entry_1)"
   ]
  },
  {
   "cell_type": "code",
   "execution_count": 11,
   "id": "8451b399",
   "metadata": {},
   "outputs": [
    {
     "name": "stdout",
     "output_type": "stream",
     "text": [
      " ================ CALL ====================\n",
      "ENTRY: {\"age\": 39, \"workclass\": \"Never-worked\", \"fnlgt\": 114168, \"education\": \"Prof-school\", \"education-num\": 10, \"marital-status\": \"Married-AF-spouse\", \"occupation\": \"Machine-op-inspct\", \"relationship\": \"Other-relative\", \"race\": \"Black\", \"sex\": \"Female\", \"capital-gain\": 8453, \"capital-loss\": 523, \"hours-per-week\": 29, \"native-country\": \"Peru\"}\n",
      "STATUS CODE: 200\n",
      "RESULT: {'result': '>50K'}\n"
     ]
    }
   ],
   "source": [
    "do_call(host, port, generate_entry())"
   ]
  },
  {
   "cell_type": "code",
   "execution_count": 12,
   "id": "48fc599c",
   "metadata": {},
   "outputs": [
    {
     "name": "stdout",
     "output_type": "stream",
     "text": [
      " ================ CALL ====================\n",
      "ENTRY: {\"age\": 36, \"workclass\": \"Private\", \"fnlgt\": 130098, \"education\": \"10th\", \"education-num\": 16, \"marital-status\": \"Never-married\", \"occupation\": \"Armed-Forces\", \"relationship\": \"Not-in-family\", \"race\": \"Asian-Pac-Islander\", \"sex\": \"Male\", \"capital-gain\": 4920, \"capital-loss\": 0, \"hours-per-week\": 33, \"native-country\": \"Columbia\"}\n",
      "STATUS CODE: 200\n",
      "RESULT: {'result': '<=50k'}\n",
      " ================ CALL ====================\n",
      "ENTRY: {\"age\": 17, \"workclass\": \"State-gov\", \"fnlgt\": 222868, \"education\": \"5th-6th\", \"education-num\": 10, \"marital-status\": \"Married-AF-spouse\", \"occupation\": \"Handlers-cleaners\", \"relationship\": \"Not-in-family\", \"race\": \"White\", \"sex\": \"Male\", \"capital-gain\": 6082, \"capital-loss\": 0, \"hours-per-week\": 38, \"native-country\": \"Holand-Netherlands\"}\n",
      "STATUS CODE: 200\n",
      "RESULT: {'result': '<=50k'}\n",
      " ================ CALL ====================\n",
      "ENTRY: {\"age\": 51, \"workclass\": \"Local-gov\", \"fnlgt\": 216770, \"education\": \"Some-college\", \"education-num\": 6, \"marital-status\": \"Never-married\", \"occupation\": \"?\", \"relationship\": \"Not-in-family\", \"race\": \"Amer-Indian-Eskimo\", \"sex\": \"Female\", \"capital-gain\": 0, \"capital-loss\": 164, \"hours-per-week\": 44, \"native-country\": \"Columbia\"}\n",
      "STATUS CODE: 200\n",
      "RESULT: {'result': '<=50k'}\n",
      " ================ CALL ====================\n",
      "ENTRY: {\"age\": 54, \"workclass\": \"Local-gov\", \"fnlgt\": 155009, \"education\": \"1st-4th\", \"education-num\": 7, \"marital-status\": \"Divorced\", \"occupation\": \"Tech-support\", \"relationship\": \"Not-in-family\", \"race\": \"Asian-Pac-Islander\", \"sex\": \"Male\", \"capital-gain\": 9350, \"capital-loss\": 0, \"hours-per-week\": 36, \"native-country\": \"England\"}\n",
      "STATUS CODE: 200\n",
      "RESULT: {'result': '>50K'}\n",
      " ================ CALL ====================\n",
      "ENTRY: {\"age\": 51, \"workclass\": \"Private\", \"fnlgt\": 151648, \"education\": \"Assoc-voc\", \"education-num\": 11, \"marital-status\": \"Separated\", \"occupation\": \"Machine-op-inspct\", \"relationship\": \"Unmarried\", \"race\": \"Asian-Pac-Islander\", \"sex\": \"Male\", \"capital-gain\": 0, \"capital-loss\": 0, \"hours-per-week\": 51, \"native-country\": \"Columbia\"}\n",
      "STATUS CODE: 200\n",
      "RESULT: {'result': '<=50k'}\n",
      " ================ CALL ====================\n",
      "ENTRY: {\"age\": 29, \"workclass\": \"Without-pay\", \"fnlgt\": 356998, \"education\": \"Masters\", \"education-num\": 6, \"marital-status\": \"Divorced\", \"occupation\": \"Handlers-cleaners\", \"relationship\": \"Wife\", \"race\": \"Other\", \"sex\": \"Female\", \"capital-gain\": 0, \"capital-loss\": 0, \"hours-per-week\": 13, \"native-country\": \"Jamaica\"}\n",
      "STATUS CODE: 200\n",
      "RESULT: {'result': '<=50k'}\n",
      " ================ CALL ====================\n",
      "ENTRY: {\"age\": 58, \"workclass\": \"Never-worked\", \"fnlgt\": 174997, \"education\": \"Preschool\", \"education-num\": 8, \"marital-status\": \"Married-civ-spouse\", \"occupation\": \"Priv-house-serv\", \"relationship\": \"Unmarried\", \"race\": \"Asian-Pac-Islander\", \"sex\": \"Male\", \"capital-gain\": 8558, \"capital-loss\": 0, \"hours-per-week\": 19, \"native-country\": \"Trinadad&Tobago\"}\n",
      "STATUS CODE: 200\n",
      "RESULT: {'result': '>50K'}\n",
      " ================ CALL ====================\n",
      "ENTRY: {\"age\": 80, \"workclass\": \"Never-worked\", \"fnlgt\": 166790, \"education\": \"Doctorate\", \"education-num\": 8, \"marital-status\": \"Divorced\", \"occupation\": \"Machine-op-inspct\", \"relationship\": \"Own-child\", \"race\": \"White\", \"sex\": \"Female\", \"capital-gain\": 3034, \"capital-loss\": 0, \"hours-per-week\": 29, \"native-country\": \"Italy\"}\n",
      "STATUS CODE: 200\n",
      "RESULT: {'result': '<=50k'}\n",
      " ================ CALL ====================\n",
      "ENTRY: {\"age\": 49, \"workclass\": \"?\", \"fnlgt\": 161840, \"education\": \"Assoc-voc\", \"education-num\": 16, \"marital-status\": \"Never-married\", \"occupation\": \"Other-service\", \"relationship\": \"Not-in-family\", \"race\": \"Asian-Pac-Islander\", \"sex\": \"Male\", \"capital-gain\": 0, \"capital-loss\": 122, \"hours-per-week\": 31, \"native-country\": \"Puerto-Rico\"}\n",
      "STATUS CODE: 200\n",
      "RESULT: {'result': '<=50k'}\n",
      " ================ CALL ====================\n",
      "ENTRY: {\"age\": 42, \"workclass\": \"Self-emp-not-inc\", \"fnlgt\": 128104, \"education\": \"11th\", \"education-num\": 11, \"marital-status\": \"Separated\", \"occupation\": \"Transport-moving\", \"relationship\": \"Husband\", \"race\": \"Amer-Indian-Eskimo\", \"sex\": \"Female\", \"capital-gain\": 0, \"capital-loss\": 447, \"hours-per-week\": 60, \"native-country\": \"Holand-Netherlands\"}\n",
      "STATUS CODE: 200\n",
      "RESULT: {'result': '<=50k'}\n"
     ]
    }
   ],
   "source": [
    "for i in range(10):\n",
    "    do_call(host, port, generate_entry())"
   ]
  },
  {
   "cell_type": "code",
   "execution_count": 13,
   "id": "ad1a0d71",
   "metadata": {},
   "outputs": [
    {
     "name": "stdout",
     "output_type": "stream",
     "text": [
      " ================ CALL ====================\n",
      "ENTRY: {\"age\": 47, \"workclass\": \"Local-gov\", \"fnlgt\": 270239, \"education\": \"Prof-school\", \"education-num\": 9, \"marital-status\": \"Separated\", \"occupation\": \"Exec-managerial\", \"relationship\": \"Unmarried\", \"race\": \"Asian-Pac-Islander\", \"sex\": \"Female\", \"capital-gain\": 1264, \"capital-loss\": 0, \"hours-per-week\": 56, \"native-country\": \"Laos\"}\n",
      "STATUS CODE: 200\n",
      "RESULT: {'result': '<=50k'}\n",
      " ================ CALL ====================\n",
      "ENTRY: {\"age\": 38, \"workclass\": \"Federal-gov\", \"fnlgt\": 21301, \"education\": \"Assoc-acdm\", \"education-num\": 11, \"marital-status\": \"Married-civ-spouse\", \"occupation\": \"Farming-fishing\", \"relationship\": \"Husband\", \"race\": \"Amer-Indian-Eskimo\", \"sex\": \"Female\", \"capital-gain\": 0, \"capital-loss\": 412, \"hours-per-week\": 42, \"native-country\": \"India\"}\n",
      "STATUS CODE: 200\n",
      "RESULT: {'result': '<=50k'}\n",
      " ================ CALL ====================\n",
      "ENTRY: {\"age\": 26, \"workclass\": \"Self-emp-not-inc\", \"fnlgt\": 190780, \"education\": \"9th\", \"education-num\": 7, \"marital-status\": \"Married-spouse-absent\", \"occupation\": \"Adm-clerical\", \"relationship\": \"Wife\", \"race\": \"Black\", \"sex\": \"Female\", \"capital-gain\": 5257, \"capital-loss\": 636, \"hours-per-week\": 78, \"native-country\": \"Yugoslavia\"}\n",
      "STATUS CODE: 200\n",
      "RESULT: {'result': '<=50k'}\n",
      " ================ CALL ====================\n",
      "ENTRY: {\"age\": 56, \"workclass\": \"Never-worked\", \"fnlgt\": 149864, \"education\": \"9th\", \"education-num\": 9, \"marital-status\": \"Divorced\", \"occupation\": \"Transport-moving\", \"relationship\": \"Unmarried\", \"race\": \"Other\", \"sex\": \"Female\", \"capital-gain\": 4231, \"capital-loss\": 0, \"hours-per-week\": 29, \"native-country\": \"Peru\"}\n",
      "STATUS CODE: 200\n",
      "RESULT: {'result': '<=50k'}\n",
      " ================ CALL ====================\n",
      "ENTRY: {\"age\": 44, \"workclass\": \"Self-emp-not-inc\", \"fnlgt\": 251134, \"education\": \"Assoc-acdm\", \"education-num\": 8, \"marital-status\": \"Divorced\", \"occupation\": \"Tech-support\", \"relationship\": \"Wife\", \"race\": \"Asian-Pac-Islander\", \"sex\": \"Female\", \"capital-gain\": 4366, \"capital-loss\": 0, \"hours-per-week\": 8, \"native-country\": \"Honduras\"}\n",
      "STATUS CODE: 200\n",
      "RESULT: {'result': '<=50k'}\n",
      " ================ CALL ====================\n",
      "ENTRY: {\"age\": 33, \"workclass\": \"Local-gov\", \"fnlgt\": 255111, \"education\": \"5th-6th\", \"education-num\": 12, \"marital-status\": \"Married-AF-spouse\", \"occupation\": \"Transport-moving\", \"relationship\": \"Wife\", \"race\": \"Other\", \"sex\": \"Female\", \"capital-gain\": 0, \"capital-loss\": 0, \"hours-per-week\": 51, \"native-country\": \"Iran\"}\n",
      "STATUS CODE: 200\n",
      "RESULT: {'result': '<=50k'}\n",
      " ================ CALL ====================\n",
      "ENTRY: {\"age\": 17, \"workclass\": \"State-gov\", \"fnlgt\": 149730, \"education\": \"Some-college\", \"education-num\": 12, \"marital-status\": \"Divorced\", \"occupation\": \"Sales\", \"relationship\": \"Wife\", \"race\": \"Black\", \"sex\": \"Male\", \"capital-gain\": 3089, \"capital-loss\": 688, \"hours-per-week\": 47, \"native-country\": \"Thailand\"}\n",
      "STATUS CODE: 200\n",
      "RESULT: {'result': '<=50k'}\n",
      " ================ CALL ====================\n",
      "ENTRY: {\"age\": 39, \"workclass\": \"Self-emp-not-inc\", \"fnlgt\": 68167, \"education\": \"12th\", \"education-num\": 10, \"marital-status\": \"Divorced\", \"occupation\": \"Tech-support\", \"relationship\": \"Not-in-family\", \"race\": \"White\", \"sex\": \"Female\", \"capital-gain\": 10000, \"capital-loss\": 187, \"hours-per-week\": 25, \"native-country\": \"Vietnam\"}\n",
      "STATUS CODE: 200\n",
      "RESULT: {'result': '>50K'}\n",
      " ================ CALL ====================\n",
      "ENTRY: {\"age\": 32, \"workclass\": \"?\", \"fnlgt\": 312334, \"education\": \"Bachelors\", \"education-num\": 9, \"marital-status\": \"Divorced\", \"occupation\": \"Farming-fishing\", \"relationship\": \"Wife\", \"race\": \"Other\", \"sex\": \"Female\", \"capital-gain\": 0, \"capital-loss\": 0, \"hours-per-week\": 51, \"native-country\": \"Poland\"}\n",
      "STATUS CODE: 200\n",
      "RESULT: {'result': '<=50k'}\n",
      " ================ CALL ====================\n",
      "ENTRY: {\"age\": 28, \"workclass\": \"Self-emp-not-inc\", \"fnlgt\": 96718, \"education\": \"Masters\", \"education-num\": 8, \"marital-status\": \"Never-married\", \"occupation\": \"Farming-fishing\", \"relationship\": \"Own-child\", \"race\": \"Black\", \"sex\": \"Male\", \"capital-gain\": 3476, \"capital-loss\": 0, \"hours-per-week\": 28, \"native-country\": \"Japan\"}\n",
      "STATUS CODE: 200\n",
      "RESULT: {'result': '<=50k'}\n"
     ]
    }
   ],
   "source": [
    "for i in range(10):\n",
    "    do_call(host, port, generate_entry())"
   ]
  },
  {
   "cell_type": "code",
   "execution_count": 14,
   "id": "88a431ee",
   "metadata": {},
   "outputs": [],
   "source": [
    "random_entry_2 = random_entry_1.copy()\n",
    "random_entry_2[\"workclass\"] = \"None\"\n"
   ]
  },
  {
   "cell_type": "code",
   "execution_count": 15,
   "id": "e5166201",
   "metadata": {},
   "outputs": [
    {
     "data": {
      "text/plain": [
       "{'age': 34,\n",
       " 'workclass': 'None',\n",
       " 'fnlgt': 209402,\n",
       " 'education': 'HS-grad',\n",
       " 'education-num': 16,\n",
       " 'marital-status': 'Separated',\n",
       " 'occupation': 'Transport-moving',\n",
       " 'relationship': 'Unmarried',\n",
       " 'race': 'White',\n",
       " 'sex': 'Male',\n",
       " 'capital-gain': 0,\n",
       " 'capital-loss': 275,\n",
       " 'hours-per-week': 56,\n",
       " 'native-country': 'Outlying-US(Guam-USVI-etc)'}"
      ]
     },
     "execution_count": 15,
     "metadata": {},
     "output_type": "execute_result"
    }
   ],
   "source": [
    "random_entry_2"
   ]
  },
  {
   "cell_type": "code",
   "execution_count": 16,
   "id": "6a0bdf05",
   "metadata": {},
   "outputs": [
    {
     "name": "stdout",
     "output_type": "stream",
     "text": [
      " ================ CALL ====================\n",
      "ENTRY: {\"age\": 34, \"workclass\": \"None\", \"fnlgt\": 209402, \"education\": \"HS-grad\", \"education-num\": 16, \"marital-status\": \"Separated\", \"occupation\": \"Transport-moving\", \"relationship\": \"Unmarried\", \"race\": \"White\", \"sex\": \"Male\", \"capital-gain\": 0, \"capital-loss\": 275, \"hours-per-week\": 56, \"native-country\": \"Outlying-US(Guam-USVI-etc)\"}\n",
      "STATUS CODE: 422\n",
      "RESULT: {'detail': [{'loc': ['body', 'workclass'], 'msg': \"workclass None not valid, must be in ['State-gov', 'Self-emp-not-inc', 'Private', 'Federal-gov', 'Local-gov', '?', 'Self-emp-inc', 'Without-pay', 'Never-worked']\", 'type': 'value_error'}]}\n"
     ]
    }
   ],
   "source": [
    "do_call(host, port, random_entry_2)"
   ]
  },
  {
   "cell_type": "code",
   "execution_count": 17,
   "id": "dd4a01a1",
   "metadata": {},
   "outputs": [],
   "source": [
    "zero_entry={\n",
    "    'age': 17, 'workclass': 'Without-pay', 'fnlgt': 1, \n",
    "    'education': 'Bachelors', 'education-num': 1, 'marital-status': 'Never-married', \n",
    "    'occupation': 'Armed-Forces', 'relationship': 'Unmarried', \n",
    "    'race': 'Black', 'sex': 'Female', 'capital-gain': 0, 'capital-loss': 0, 'hours-per-week': 10,\n",
    "    'native-country': 'England'}"
   ]
  },
  {
   "cell_type": "code",
   "execution_count": 18,
   "id": "f856c5e5",
   "metadata": {},
   "outputs": [
    {
     "name": "stdout",
     "output_type": "stream",
     "text": [
      " ================ CALL ====================\n",
      "ENTRY: {\"age\": 17, \"workclass\": \"Without-pay\", \"fnlgt\": 1, \"education\": \"Bachelors\", \"education-num\": 1, \"marital-status\": \"Never-married\", \"occupation\": \"Armed-Forces\", \"relationship\": \"Unmarried\", \"race\": \"Black\", \"sex\": \"Female\", \"capital-gain\": 0, \"capital-loss\": 0, \"hours-per-week\": 10, \"native-country\": \"England\"}\n",
      "STATUS CODE: 200\n",
      "RESULT: {'result': '<=50k'}\n"
     ]
    }
   ],
   "source": [
    "do_call(host, port, zero_entry)"
   ]
  },
  {
   "cell_type": "code",
   "execution_count": 19,
   "id": "9d353ca7",
   "metadata": {},
   "outputs": [],
   "source": [
    "big_entry={\n",
    "    'age': 50, 'workclass': 'Self-emp-not-inc', 'fnlgt': 1, \n",
    "    'education': 'Bachelors', 'education-num': 12, 'marital-status': 'Never-married', \n",
    "    'occupation': 'Adm-clerical', 'relationship': 'Unmarried', \n",
    "    'race': 'White', 'sex': 'Male', 'capital-gain': 100000, 'capital-loss': 0, 'hours-per-week': 40,\n",
    "    'native-country': 'England'}"
   ]
  },
  {
   "cell_type": "code",
   "execution_count": 36,
   "id": "0af96399",
   "metadata": {},
   "outputs": [
    {
     "name": "stdout",
     "output_type": "stream",
     "text": [
      " ================ CALL ================== \n",
      "\n",
      " ================ ENTRY ================== \n",
      "{\"age\": 50, \"workclass\": \"Self-emp-not-inc\", \"fnlgt\": 1, \"education\": \"Bachelors\", \"education-num\": 12, \"marital-status\": \"Never-married\", \"occupation\": \"Adm-clerical\", \"relationship\": \"Unmarried\", \"race\": \"White\", \"sex\": \"Male\", \"capital-gain\": 100000, \"capital-loss\": 0, \"hours-per-week\": 40, \"native-country\": \"England\"}\n",
      " =============== RESULT CODE ===================== \n",
      "200\n",
      " =============== RESULT JSON ===================== \n",
      "{'result': '>50K'}\n"
     ]
    }
   ],
   "source": [
    "do_call(host, port, big_entry)"
   ]
  },
  {
   "cell_type": "code",
   "execution_count": null,
   "id": "c5ed0e2e",
   "metadata": {},
   "outputs": [],
   "source": []
  }
 ],
 "metadata": {
  "kernelspec": {
   "display_name": "Python 3 (ipykernel)",
   "language": "python",
   "name": "python3"
  },
  "language_info": {
   "codemirror_mode": {
    "name": "ipython",
    "version": 3
   },
   "file_extension": ".py",
   "mimetype": "text/x-python",
   "name": "python",
   "nbconvert_exporter": "python",
   "pygments_lexer": "ipython3",
   "version": "3.8.13"
  }
 },
 "nbformat": 4,
 "nbformat_minor": 5
}