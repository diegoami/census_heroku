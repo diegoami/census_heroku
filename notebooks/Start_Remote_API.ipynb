{
 "cells": [
  {
   "cell_type": "code",
   "execution_count": 1,
   "id": "a3bc75a9",
   "metadata": {},
   "outputs": [],
   "source": [
    "import sys\n",
    "sys.path.append(\"../\") # go to parent dir\n"
   ]
  },
  {
   "cell_type": "code",
   "execution_count": 2,
   "id": "59bbc136",
   "metadata": {},
   "outputs": [],
   "source": [
    "host=\"ionian-otter-6666.herokuapp.com\"\n",
    "port=80"
   ]
  },
  {
   "cell_type": "code",
   "execution_count": 3,
   "id": "fca93eb9",
   "metadata": {},
   "outputs": [],
   "source": [
    "from common.fixtures import first_census_entry, second_census_entry, wrong_category_entry\n",
    "from api.requests import do_call\n"
   ]
  },
  {
   "cell_type": "code",
   "execution_count": 4,
   "id": "fa91d13d",
   "metadata": {},
   "outputs": [
    {
     "name": "stdout",
     "output_type": "stream",
     "text": [
      " ================ CALL ====================\n",
      "ENTRY: {\"age\": 20, \"workclass\": \"State-gov\", \"fnlgt\": 3000, \"education\": \"Doctorate\", \"education-num\": 10, \"marital-status\": \"Never-married\", \"occupation\": \"Sales\", \"relationship\": \"Not-in-family\", \"race\": \"White\", \"sex\": \"Male\", \"capital-gain\": 10000, \"capital-loss\": 0, \"hours-per-week\": 40, \"native-country\": \"United-States\"}\n",
      "STATUS CODE: 200\n",
      "RESULT: {'result': '<=50K'}\n"
     ]
    }
   ],
   "source": [
    "do_call(host, port, first_census_entry)"
   ]
  },
  {
   "cell_type": "code",
   "execution_count": 5,
   "id": "49aaffa8",
   "metadata": {},
   "outputs": [
    {
     "name": "stdout",
     "output_type": "stream",
     "text": [
      " ================ CALL ====================\n",
      "ENTRY: {\"age\": 30, \"workclass\": \"Private\", \"fnlgt\": 1234, \"education\": \"Bachelors\", \"education-num\": 10, \"marital-status\": \"Divorced\", \"occupation\": \"Armed-Forces\", \"relationship\": \"Husband\", \"race\": \"Black\", \"sex\": \"Male\", \"capital-gain\": 20000, \"capital-loss\": 0, \"hours-per-week\": 50, \"native-country\": \"England\"}\n",
      "STATUS CODE: 200\n",
      "RESULT: {'result': '>50K'}\n"
     ]
    }
   ],
   "source": [
    "do_call(host, port, second_census_entry)"
   ]
  },
  {
   "cell_type": "code",
   "execution_count": 6,
   "id": "828771bf",
   "metadata": {},
   "outputs": [
    {
     "name": "stdout",
     "output_type": "stream",
     "text": [
      " ================ CALL ====================\n",
      "ENTRY: {\"age\": 30, \"workclass\": \"Worker\", \"fnlgt\": 1234, \"education\": \"Elementary\", \"education-num\": 10, \"marital-status\": \"Polyamorous\", \"occupation\": \"Rogue\", \"relationship\": \"Complicated\", \"race\": \"Pink\", \"sex\": \"Bacteria\", \"capital-gain\": 20000, \"capital-loss\": 0, \"hours-per-week\": 50, \"native-country\": \"Battania\"}\n",
      "STATUS CODE: 422\n",
      "RESULT: {'detail': [{'loc': ['body', 'workclass'], 'msg': \"workclass Worker not valid, must be in ['State-gov', 'Self-emp-not-inc', 'Private', 'Federal-gov', 'Local-gov', '?', 'Self-emp-inc', 'Without-pay', 'Never-worked']\", 'type': 'value_error'}, {'loc': ['body', 'education'], 'msg': \"education Elementary not valid, must be in ['Bachelors', 'HS-grad', '11th', 'Masters', '9th', 'Some-college', 'Assoc-acdm', 'Assoc-voc', '7th-8th', 'Doctorate', 'Prof-school', '5th-6th', '10th', '1st-4th', 'Preschool', '12th']\", 'type': 'value_error'}, {'loc': ['body', 'marital-status'], 'msg': \"marital_status Polyamorous not valid, must be in ['Never-married', 'Married-civ-spouse', 'Divorced', 'Married-spouse-absent', 'Separated', 'Married-AF-spouse', 'Widowed']\", 'type': 'value_error'}, {'loc': ['body', 'occupation'], 'msg': \"occupation Rogue not valid, must be in ['Adm-clerical', 'Exec-managerial', 'Handlers-cleaners', 'Prof-specialty', 'Other-service', 'Sales', 'Craft-repair', 'Transport-moving', 'Farming-fishing', 'Machine-op-inspct', 'Tech-support', '?', 'Protective-serv', 'Armed-Forces', 'Priv-house-serv']\", 'type': 'value_error'}, {'loc': ['body', 'relationship'], 'msg': \"relationship Complicated not valid, must be in ['Not-in-family', 'Husband', 'Wife', 'Own-child', 'Unmarried', 'Other-relative']\", 'type': 'value_error'}, {'loc': ['body', 'race'], 'msg': \"race Pink not valid, must be in ['White', 'Black', 'Asian-Pac-Islander', 'Amer-Indian-Eskimo', 'Other']\", 'type': 'value_error'}, {'loc': ['body', 'sex'], 'msg': \"sex Bacteria not valid, must be in ['Male', 'Female']\", 'type': 'value_error'}, {'loc': ['body', 'native-country'], 'msg': \"native_country Battania not valid, must be in ['United-States', 'Cuba', 'Jamaica', 'India', '?', 'Mexico', 'South', 'Puerto-Rico', 'Honduras', 'England', 'Canada', 'Germany', 'Iran', 'Philippines', 'Italy', 'Poland', 'Columbia', 'Cambodia', 'Thailand', 'Ecuador', 'Laos', 'Taiwan', 'Haiti', 'Portugal', 'Dominican-Republic', 'El-Salvador', 'France', 'Guatemala', 'China', 'Japan', 'Yugoslavia', 'Peru', 'Outlying-US(Guam-USVI-etc)', 'Scotland', 'Trinadad&Tobago', 'Greece', 'Nicaragua', 'Vietnam', 'Hong', 'Ireland', 'Hungary', 'Holand-Netherlands']\", 'type': 'value_error'}]}\n"
     ]
    }
   ],
   "source": [
    "do_call(host, port, wrong_category_entry)"
   ]
  },
  {
   "cell_type": "code",
   "execution_count": 7,
   "id": "baa8dcbe",
   "metadata": {},
   "outputs": [],
   "source": [
    "from common.fixtures import generate_entry"
   ]
  },
  {
   "cell_type": "code",
   "execution_count": 8,
   "id": "4bf7a7da",
   "metadata": {},
   "outputs": [],
   "source": [
    "random_entry_1 = generate_entry()"
   ]
  },
  {
   "cell_type": "code",
   "execution_count": 9,
   "id": "44529765",
   "metadata": {},
   "outputs": [
    {
     "data": {
      "text/plain": [
       "{'age': 45,\n",
       " 'workclass': 'Federal-gov',\n",
       " 'fnlgt': 349439,\n",
       " 'education': 'Bachelors',\n",
       " 'education-num': 10,\n",
       " 'marital-status': 'Widowed',\n",
       " 'occupation': 'Prof-specialty',\n",
       " 'relationship': 'Own-child',\n",
       " 'race': 'Other',\n",
       " 'sex': 'Male',\n",
       " 'capital-gain': 9675,\n",
       " 'capital-loss': 348,\n",
       " 'hours-per-week': 40,\n",
       " 'native-country': 'Hong'}"
      ]
     },
     "execution_count": 9,
     "metadata": {},
     "output_type": "execute_result"
    }
   ],
   "source": [
    "random_entry_1"
   ]
  },
  {
   "cell_type": "code",
   "execution_count": 10,
   "id": "8c12ea66",
   "metadata": {},
   "outputs": [
    {
     "name": "stdout",
     "output_type": "stream",
     "text": [
      " ================ CALL ====================\n",
      "ENTRY: {\"age\": 45, \"workclass\": \"Federal-gov\", \"fnlgt\": 349439, \"education\": \"Bachelors\", \"education-num\": 10, \"marital-status\": \"Widowed\", \"occupation\": \"Prof-specialty\", \"relationship\": \"Own-child\", \"race\": \"Other\", \"sex\": \"Male\", \"capital-gain\": 9675, \"capital-loss\": 348, \"hours-per-week\": 40, \"native-country\": \"Hong\"}\n",
      "STATUS CODE: 200\n",
      "RESULT: {'result': '>50K'}\n"
     ]
    }
   ],
   "source": [
    "do_call(host, port, random_entry_1)"
   ]
  },
  {
   "cell_type": "code",
   "execution_count": 11,
   "id": "8451b399",
   "metadata": {},
   "outputs": [
    {
     "name": "stdout",
     "output_type": "stream",
     "text": [
      " ================ CALL ====================\n",
      "ENTRY: {\"age\": 38, \"workclass\": \"Federal-gov\", \"fnlgt\": 247125, \"education\": \"9th\", \"education-num\": 14, \"marital-status\": \"Married-spouse-absent\", \"occupation\": \"Priv-house-serv\", \"relationship\": \"Wife\", \"race\": \"Other\", \"sex\": \"Male\", \"capital-gain\": 5793, \"capital-loss\": 488, \"hours-per-week\": 45, \"native-country\": \"Guatemala\"}\n",
      "STATUS CODE: 200\n",
      "RESULT: {'result': '<=50K'}\n"
     ]
    }
   ],
   "source": [
    "do_call(host, port, generate_entry())"
   ]
  },
  {
   "cell_type": "code",
   "execution_count": 12,
   "id": "48fc599c",
   "metadata": {},
   "outputs": [
    {
     "name": "stdout",
     "output_type": "stream",
     "text": [
      " ================ CALL ====================\n",
      "ENTRY: {\"age\": 56, \"workclass\": \"Federal-gov\", \"fnlgt\": 108157, \"education\": \"Assoc-voc\", \"education-num\": 10, \"marital-status\": \"Married-AF-spouse\", \"occupation\": \"Protective-serv\", \"relationship\": \"Own-child\", \"race\": \"Black\", \"sex\": \"Female\", \"capital-gain\": 0, \"capital-loss\": 0, \"hours-per-week\": 28, \"native-country\": \"Cuba\"}\n",
      "STATUS CODE: 200\n",
      "RESULT: {'result': '<=50K'}\n",
      " ================ CALL ====================\n",
      "ENTRY: {\"age\": 25, \"workclass\": \"Never-worked\", \"fnlgt\": 243889, \"education\": \"Bachelors\", \"education-num\": 4, \"marital-status\": \"Married-AF-spouse\", \"occupation\": \"Prof-specialty\", \"relationship\": \"Other-relative\", \"race\": \"White\", \"sex\": \"Male\", \"capital-gain\": 0, \"capital-loss\": 0, \"hours-per-week\": 62, \"native-country\": \"Japan\"}\n",
      "STATUS CODE: 200\n",
      "RESULT: {'result': '<=50K'}\n",
      " ================ CALL ====================\n",
      "ENTRY: {\"age\": 24, \"workclass\": \"Federal-gov\", \"fnlgt\": 126560, \"education\": \"Some-college\", \"education-num\": 6, \"marital-status\": \"Divorced\", \"occupation\": \"Craft-repair\", \"relationship\": \"Wife\", \"race\": \"White\", \"sex\": \"Female\", \"capital-gain\": 0, \"capital-loss\": 0, \"hours-per-week\": 44, \"native-country\": \"Holand-Netherlands\"}\n",
      "STATUS CODE: 200\n",
      "RESULT: {'result': '<=50K'}\n",
      " ================ CALL ====================\n",
      "ENTRY: {\"age\": 36, \"workclass\": \"Self-emp-inc\", \"fnlgt\": 199697, \"education\": \"Prof-school\", \"education-num\": 10, \"marital-status\": \"Married-civ-spouse\", \"occupation\": \"Protective-serv\", \"relationship\": \"Own-child\", \"race\": \"Black\", \"sex\": \"Female\", \"capital-gain\": 6379, \"capital-loss\": 0, \"hours-per-week\": 43, \"native-country\": \"Ecuador\"}\n",
      "STATUS CODE: 200\n",
      "RESULT: {'result': '>50K'}\n",
      " ================ CALL ====================\n",
      "ENTRY: {\"age\": 34, \"workclass\": \"Never-worked\", \"fnlgt\": 35659, \"education\": \"Masters\", \"education-num\": 11, \"marital-status\": \"Divorced\", \"occupation\": \"Handlers-cleaners\", \"relationship\": \"Other-relative\", \"race\": \"Amer-Indian-Eskimo\", \"sex\": \"Male\", \"capital-gain\": 0, \"capital-loss\": 0, \"hours-per-week\": 38, \"native-country\": \"Jamaica\"}\n",
      "STATUS CODE: 200\n",
      "RESULT: {'result': '<=50K'}\n",
      " ================ CALL ====================\n",
      "ENTRY: {\"age\": 73, \"workclass\": \"Private\", \"fnlgt\": 319085, \"education\": \"HS-grad\", \"education-num\": 10, \"marital-status\": \"Married-AF-spouse\", \"occupation\": \"Other-service\", \"relationship\": \"Unmarried\", \"race\": \"Other\", \"sex\": \"Female\", \"capital-gain\": 7077, \"capital-loss\": 6, \"hours-per-week\": 53, \"native-country\": \"Outlying-US(Guam-USVI-etc)\"}\n",
      "STATUS CODE: 200\n",
      "RESULT: {'result': '>50K'}\n",
      " ================ CALL ====================\n",
      "ENTRY: {\"age\": 31, \"workclass\": \"Never-worked\", \"fnlgt\": 436413, \"education\": \"Assoc-acdm\", \"education-num\": 11, \"marital-status\": \"Divorced\", \"occupation\": \"Sales\", \"relationship\": \"Own-child\", \"race\": \"Asian-Pac-Islander\", \"sex\": \"Female\", \"capital-gain\": 0, \"capital-loss\": 154, \"hours-per-week\": 54, \"native-country\": \"Germany\"}\n",
      "STATUS CODE: 200\n",
      "RESULT: {'result': '<=50K'}\n",
      " ================ CALL ====================\n",
      "ENTRY: {\"age\": 32, \"workclass\": \"Private\", \"fnlgt\": 233068, \"education\": \"HS-grad\", \"education-num\": 10, \"marital-status\": \"Separated\", \"occupation\": \"Machine-op-inspct\", \"relationship\": \"Own-child\", \"race\": \"White\", \"sex\": \"Male\", \"capital-gain\": 2900, \"capital-loss\": 74, \"hours-per-week\": 48, \"native-country\": \"Japan\"}\n",
      "STATUS CODE: 200\n",
      "RESULT: {'result': '<=50K'}\n",
      " ================ CALL ====================\n",
      "ENTRY: {\"age\": 60, \"workclass\": \"Self-emp-inc\", \"fnlgt\": 156961, \"education\": \"9th\", \"education-num\": 6, \"marital-status\": \"Married-civ-spouse\", \"occupation\": \"Priv-house-serv\", \"relationship\": \"Wife\", \"race\": \"White\", \"sex\": \"Female\", \"capital-gain\": 0, \"capital-loss\": 0, \"hours-per-week\": 44, \"native-country\": \"Ecuador\"}\n",
      "STATUS CODE: 200\n",
      "RESULT: {'result': '<=50K'}\n",
      " ================ CALL ====================\n",
      "ENTRY: {\"age\": 34, \"workclass\": \"Federal-gov\", \"fnlgt\": 206194, \"education\": \"HS-grad\", \"education-num\": 13, \"marital-status\": \"Never-married\", \"occupation\": \"Tech-support\", \"relationship\": \"Unmarried\", \"race\": \"Black\", \"sex\": \"Male\", \"capital-gain\": 0, \"capital-loss\": 501, \"hours-per-week\": 43, \"native-country\": \"Japan\"}\n",
      "STATUS CODE: 200\n",
      "RESULT: {'result': '<=50K'}\n"
     ]
    }
   ],
   "source": [
    "for i in range(10):\n",
    "    do_call(host, port, generate_entry())"
   ]
  },
  {
   "cell_type": "code",
   "execution_count": 13,
   "id": "ad1a0d71",
   "metadata": {},
   "outputs": [
    {
     "name": "stdout",
     "output_type": "stream",
     "text": [
      " ================ CALL ====================\n",
      "ENTRY: {\"age\": 30, \"workclass\": \"?\", \"fnlgt\": 171255, \"education\": \"Some-college\", \"education-num\": 10, \"marital-status\": \"Separated\", \"occupation\": \"Protective-serv\", \"relationship\": \"Wife\", \"race\": \"Black\", \"sex\": \"Male\", \"capital-gain\": 6591, \"capital-loss\": 1043, \"hours-per-week\": 8, \"native-country\": \"Cambodia\"}\n",
      "STATUS CODE: 200\n",
      "RESULT: {'result': '<=50K'}\n",
      " ================ CALL ====================\n",
      "ENTRY: {\"age\": 28, \"workclass\": \"State-gov\", \"fnlgt\": 223757, \"education\": \"HS-grad\", \"education-num\": 8, \"marital-status\": \"Married-civ-spouse\", \"occupation\": \"Protective-serv\", \"relationship\": \"Other-relative\", \"race\": \"Amer-Indian-Eskimo\", \"sex\": \"Male\", \"capital-gain\": 0, \"capital-loss\": 23, \"hours-per-week\": 28, \"native-country\": \"Dominican-Republic\"}\n",
      "STATUS CODE: 200\n",
      "RESULT: {'result': '<=50K'}\n",
      " ================ CALL ====================\n",
      "ENTRY: {\"age\": 32, \"workclass\": \"State-gov\", \"fnlgt\": 171829, \"education\": \"Doctorate\", \"education-num\": 10, \"marital-status\": \"Divorced\", \"occupation\": \"Transport-moving\", \"relationship\": \"Not-in-family\", \"race\": \"Black\", \"sex\": \"Female\", \"capital-gain\": 3745, \"capital-loss\": 0, \"hours-per-week\": 53, \"native-country\": \"?\"}\n",
      "STATUS CODE: 200\n",
      "RESULT: {'result': '<=50K'}\n",
      " ================ CALL ====================\n",
      "ENTRY: {\"age\": 17, \"workclass\": \"State-gov\", \"fnlgt\": 515706, \"education\": \"11th\", \"education-num\": 8, \"marital-status\": \"Divorced\", \"occupation\": \"Protective-serv\", \"relationship\": \"Not-in-family\", \"race\": \"Amer-Indian-Eskimo\", \"sex\": \"Female\", \"capital-gain\": 0, \"capital-loss\": 0, \"hours-per-week\": 38, \"native-country\": \"Japan\"}\n",
      "STATUS CODE: 200\n",
      "RESULT: {'result': '<=50K'}\n",
      " ================ CALL ====================\n",
      "ENTRY: {\"age\": 18, \"workclass\": \"?\", \"fnlgt\": 225496, \"education\": \"5th-6th\", \"education-num\": 7, \"marital-status\": \"Never-married\", \"occupation\": \"?\", \"relationship\": \"Unmarried\", \"race\": \"Other\", \"sex\": \"Female\", \"capital-gain\": 0, \"capital-loss\": 0, \"hours-per-week\": 63, \"native-country\": \"Thailand\"}\n",
      "STATUS CODE: 200\n",
      "RESULT: {'result': '<=50K'}\n",
      " ================ CALL ====================\n",
      "ENTRY: {\"age\": 41, \"workclass\": \"Federal-gov\", \"fnlgt\": 243731, \"education\": \"7th-8th\", \"education-num\": 14, \"marital-status\": \"Divorced\", \"occupation\": \"Craft-repair\", \"relationship\": \"Wife\", \"race\": \"Asian-Pac-Islander\", \"sex\": \"Female\", \"capital-gain\": 0, \"capital-loss\": 0, \"hours-per-week\": 65, \"native-country\": \"Holand-Netherlands\"}\n",
      "STATUS CODE: 200\n",
      "RESULT: {'result': '<=50K'}\n",
      " ================ CALL ====================\n",
      "ENTRY: {\"age\": 36, \"workclass\": \"Local-gov\", \"fnlgt\": 130618, \"education\": \"Prof-school\", \"education-num\": 11, \"marital-status\": \"Married-civ-spouse\", \"occupation\": \"Exec-managerial\", \"relationship\": \"Other-relative\", \"race\": \"Asian-Pac-Islander\", \"sex\": \"Male\", \"capital-gain\": 0, \"capital-loss\": 0, \"hours-per-week\": 68, \"native-country\": \"Ecuador\"}\n",
      "STATUS CODE: 200\n",
      "RESULT: {'result': '>50K'}\n",
      " ================ CALL ====================\n",
      "ENTRY: {\"age\": 42, \"workclass\": \"Self-emp-inc\", \"fnlgt\": 191667, \"education\": \"Assoc-voc\", \"education-num\": 11, \"marital-status\": \"Divorced\", \"occupation\": \"Armed-Forces\", \"relationship\": \"Unmarried\", \"race\": \"Other\", \"sex\": \"Male\", \"capital-gain\": 2369, \"capital-loss\": 655, \"hours-per-week\": 31, \"native-country\": \"Guatemala\"}\n",
      "STATUS CODE: 200\n",
      "RESULT: {'result': '<=50K'}\n",
      " ================ CALL ====================\n",
      "ENTRY: {\"age\": 49, \"workclass\": \"Without-pay\", \"fnlgt\": 72178, \"education\": \"Some-college\", \"education-num\": 8, \"marital-status\": \"Separated\", \"occupation\": \"Farming-fishing\", \"relationship\": \"Unmarried\", \"race\": \"White\", \"sex\": \"Male\", \"capital-gain\": 0, \"capital-loss\": 0, \"hours-per-week\": 25, \"native-country\": \"Hong\"}\n",
      "STATUS CODE: 200\n",
      "RESULT: {'result': '<=50K'}\n",
      " ================ CALL ====================\n",
      "ENTRY: {\"age\": 28, \"workclass\": \"State-gov\", \"fnlgt\": 228089, \"education\": \"Assoc-acdm\", \"education-num\": 8, \"marital-status\": \"Never-married\", \"occupation\": \"Adm-clerical\", \"relationship\": \"Other-relative\", \"race\": \"White\", \"sex\": \"Female\", \"capital-gain\": 4238, \"capital-loss\": 42, \"hours-per-week\": 51, \"native-country\": \"Columbia\"}\n",
      "STATUS CODE: 200\n",
      "RESULT: {'result': '<=50K'}\n"
     ]
    }
   ],
   "source": [
    "for i in range(10):\n",
    "    do_call(host, port, generate_entry())"
   ]
  },
  {
   "cell_type": "code",
   "execution_count": 14,
   "id": "88a431ee",
   "metadata": {},
   "outputs": [],
   "source": [
    "random_entry_2 = random_entry_1.copy()\n",
    "random_entry_2[\"workclass\"] = \"None\"\n"
   ]
  },
  {
   "cell_type": "code",
   "execution_count": 15,
   "id": "e5166201",
   "metadata": {},
   "outputs": [
    {
     "data": {
      "text/plain": [
       "{'age': 45,\n",
       " 'workclass': 'None',\n",
       " 'fnlgt': 349439,\n",
       " 'education': 'Bachelors',\n",
       " 'education-num': 10,\n",
       " 'marital-status': 'Widowed',\n",
       " 'occupation': 'Prof-specialty',\n",
       " 'relationship': 'Own-child',\n",
       " 'race': 'Other',\n",
       " 'sex': 'Male',\n",
       " 'capital-gain': 9675,\n",
       " 'capital-loss': 348,\n",
       " 'hours-per-week': 40,\n",
       " 'native-country': 'Hong'}"
      ]
     },
     "execution_count": 15,
     "metadata": {},
     "output_type": "execute_result"
    }
   ],
   "source": [
    "random_entry_2"
   ]
  },
  {
   "cell_type": "code",
   "execution_count": 16,
   "id": "6a0bdf05",
   "metadata": {},
   "outputs": [
    {
     "name": "stdout",
     "output_type": "stream",
     "text": [
      " ================ CALL ====================\n",
      "ENTRY: {\"age\": 45, \"workclass\": \"None\", \"fnlgt\": 349439, \"education\": \"Bachelors\", \"education-num\": 10, \"marital-status\": \"Widowed\", \"occupation\": \"Prof-specialty\", \"relationship\": \"Own-child\", \"race\": \"Other\", \"sex\": \"Male\", \"capital-gain\": 9675, \"capital-loss\": 348, \"hours-per-week\": 40, \"native-country\": \"Hong\"}\n",
      "STATUS CODE: 422\n",
      "RESULT: {'detail': [{'loc': ['body', 'workclass'], 'msg': \"workclass None not valid, must be in ['State-gov', 'Self-emp-not-inc', 'Private', 'Federal-gov', 'Local-gov', '?', 'Self-emp-inc', 'Without-pay', 'Never-worked']\", 'type': 'value_error'}]}\n"
     ]
    }
   ],
   "source": [
    "do_call(host, port, random_entry_2)"
   ]
  },
  {
   "cell_type": "code",
   "execution_count": 17,
   "id": "dd4a01a1",
   "metadata": {},
   "outputs": [],
   "source": [
    "zero_entry={\n",
    "    'age': 17, 'workclass': 'Without-pay', 'fnlgt': 1, \n",
    "    'education': 'Bachelors', 'education-num': 1, 'marital-status': 'Never-married', \n",
    "    'occupation': 'Armed-Forces', 'relationship': 'Unmarried', \n",
    "    'race': 'Black', 'sex': 'Female', 'capital-gain': 0, 'capital-loss': 0, 'hours-per-week': 10,\n",
    "    'native-country': 'England'}"
   ]
  },
  {
   "cell_type": "code",
   "execution_count": 18,
   "id": "f856c5e5",
   "metadata": {},
   "outputs": [
    {
     "name": "stdout",
     "output_type": "stream",
     "text": [
      " ================ CALL ====================\n",
      "ENTRY: {\"age\": 17, \"workclass\": \"Without-pay\", \"fnlgt\": 1, \"education\": \"Bachelors\", \"education-num\": 1, \"marital-status\": \"Never-married\", \"occupation\": \"Armed-Forces\", \"relationship\": \"Unmarried\", \"race\": \"Black\", \"sex\": \"Female\", \"capital-gain\": 0, \"capital-loss\": 0, \"hours-per-week\": 10, \"native-country\": \"England\"}\n",
      "STATUS CODE: 200\n",
      "RESULT: {'result': '<=50K'}\n"
     ]
    }
   ],
   "source": [
    "do_call(host, port, zero_entry)"
   ]
  },
  {
   "cell_type": "code",
   "execution_count": 19,
   "id": "9d353ca7",
   "metadata": {},
   "outputs": [],
   "source": [
    "big_entry={\n",
    "    'age': 50, 'workclass': 'Self-emp-not-inc', 'fnlgt': 1, \n",
    "    'education': 'Bachelors', 'education-num': 12, 'marital-status': 'Never-married', \n",
    "    'occupation': 'Adm-clerical', 'relationship': 'Unmarried', \n",
    "    'race': 'White', 'sex': 'Male', 'capital-gain': 100000, 'capital-loss': 0, 'hours-per-week': 40,\n",
    "    'native-country': 'England'}"
   ]
  },
  {
   "cell_type": "code",
   "execution_count": 20,
   "id": "0af96399",
   "metadata": {},
   "outputs": [
    {
     "name": "stdout",
     "output_type": "stream",
     "text": [
      " ================ CALL ====================\n",
      "ENTRY: {\"age\": 50, \"workclass\": \"Self-emp-not-inc\", \"fnlgt\": 1, \"education\": \"Bachelors\", \"education-num\": 12, \"marital-status\": \"Never-married\", \"occupation\": \"Adm-clerical\", \"relationship\": \"Unmarried\", \"race\": \"White\", \"sex\": \"Male\", \"capital-gain\": 100000, \"capital-loss\": 0, \"hours-per-week\": 40, \"native-country\": \"England\"}\n",
      "STATUS CODE: 200\n",
      "RESULT: {'result': '>50K'}\n"
     ]
    }
   ],
   "source": [
    "do_call(host, port, big_entry)"
   ]
  },
  {
   "cell_type": "code",
   "execution_count": null,
   "id": "c5ed0e2e",
   "metadata": {},
   "outputs": [],
   "source": []
  }
 ],
 "metadata": {
  "kernelspec": {
   "display_name": "Python 3 (ipykernel)",
   "language": "python",
   "name": "python3"
  },
  "language_info": {
   "codemirror_mode": {
    "name": "ipython",
    "version": 3
   },
   "file_extension": ".py",
   "mimetype": "text/x-python",
   "name": "python",
   "nbconvert_exporter": "python",
   "pygments_lexer": "ipython3",
   "version": "3.8.13"
  }
 },
 "nbformat": 4,
 "nbformat_minor": 5
}