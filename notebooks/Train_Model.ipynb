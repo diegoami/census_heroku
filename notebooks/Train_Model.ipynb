{
 "cells": [
  {
   "cell_type": "code",
   "execution_count": null,
   "id": "37f951db",
   "metadata": {},
   "outputs": [],
   "source": []
  },
  {
   "cell_type": "markdown",
   "id": "767be944",
   "metadata": {},
   "source": [
    "In this notebook we train a model"
   ]
  },
  {
   "cell_type": "code",
   "execution_count": 6,
   "id": "e7495daf",
   "metadata": {},
   "outputs": [],
   "source": [
    "import pandas as pd\n",
    "import joblib\n",
    "import os\n",
    "\n",
    "from pathlib import Path\n",
    "from sklearn.model_selection import train_test_split"
   ]
  },
  {
   "cell_type": "code",
   "execution_count": 7,
   "id": "a587cf5c",
   "metadata": {},
   "outputs": [],
   "source": [
    "\n",
    "path = Path(os.getcwd())\n",
    "dirname = os.path.join(path.parent.absolute(), 'model', 'latest')\n",
    "data_path = os.path.join(path.parent.absolute(), 'data', 'census.csv')"
   ]
  },
  {
   "cell_type": "code",
   "execution_count": null,
   "id": "d8923b75",
   "metadata": {},
   "outputs": [],
   "source": []
  },
  {
   "cell_type": "code",
   "execution_count": 8,
   "id": "f853501c",
   "metadata": {},
   "outputs": [],
   "source": [
    "import sys\n",
    "sys.path.append(\"../\") # go to parent dir"
   ]
  },
  {
   "cell_type": "code",
   "execution_count": 9,
   "id": "ca1f703e",
   "metadata": {},
   "outputs": [],
   "source": [
    "from ml.data import process_data\n",
    "from ml.model import train_model, compute_model_metrics, inference"
   ]
  },
  {
   "cell_type": "code",
   "execution_count": 11,
   "id": "f406d6a1",
   "metadata": {},
   "outputs": [],
   "source": [
    "data = pd.read_csv(data_path)"
   ]
  },
  {
   "cell_type": "markdown",
   "id": "744dae5a",
   "metadata": {},
   "source": [
    "First we split"
   ]
  },
  {
   "cell_type": "code",
   "execution_count": 12,
   "id": "b77e42ad",
   "metadata": {},
   "outputs": [],
   "source": [
    "train, test = train_test_split(data, test_size=0.20, shuffle=True, stratify=data[\"salary\"])"
   ]
  },
  {
   "cell_type": "markdown",
   "id": "4268709c",
   "metadata": {},
   "source": [
    "Then we preprocess "
   ]
  },
  {
   "cell_type": "code",
   "execution_count": 13,
   "id": "c532d52e",
   "metadata": {},
   "outputs": [],
   "source": [
    "cat_features = [\n",
    "    \"workclass\",\n",
    "    \"education\",\n",
    "    \"marital-status\",\n",
    "    \"occupation\",\n",
    "    \"relationship\",\n",
    "    \"race\",\n",
    "    \"sex\",\n",
    "    \"native-country\",\n",
    "]\n",
    "X_train, y_train, encoder, lb = process_data(\n",
    "    train, categorical_features=cat_features, label=\"salary\", training=True\n",
    ")\n",
    "\n",
    "X_test, y_test, _, _ = process_data(\n",
    "    test, categorical_features=cat_features, label=\"salary\", encoder = encoder, lb = lb, training = False\n",
    ")\n"
   ]
  },
  {
   "cell_type": "markdown",
   "id": "86a6864b",
   "metadata": {},
   "source": [
    "Then we train"
   ]
  },
  {
   "cell_type": "code",
   "execution_count": 14,
   "id": "0d8a6dd5",
   "metadata": {},
   "outputs": [
    {
     "name": "stdout",
     "output_type": "stream",
     "text": [
      "Found best params: {'scoring': 'loss', 'min_samples_leaf': 20, 'max_leaf_nodes': 40, 'max_iter': 1000, 'max_depth': 20, 'learning_rate': 0.1, 'l2_regularization': 1}\n"
     ]
    }
   ],
   "source": [
    "model = train_model(X_train, y_train)"
   ]
  },
  {
   "cell_type": "code",
   "execution_count": 15,
   "id": "92f17a3b",
   "metadata": {
    "pycharm": {
     "name": "#%%\n"
    }
   },
   "outputs": [
    {
     "data": {
      "text/plain": [
       "['/home/diego/projects/ud_mlops/census_heroku/model/latest/cat_features']"
      ]
     },
     "execution_count": 15,
     "metadata": {},
     "output_type": "execute_result"
    }
   ],
   "source": [
    "os.makedirs(dirname, exist_ok=True)\n",
    "joblib.dump(model, os.path.join(dirname, 'model'))\n",
    "joblib.dump(encoder, os.path.join(dirname, 'encoder'))\n",
    "joblib.dump(lb, os.path.join(dirname, 'lb'))\n",
    "joblib.dump(cat_features, os.path.join(dirname, 'cat_features'))\n"
   ]
  },
  {
   "cell_type": "code",
   "execution_count": null,
   "id": "50747d3d",
   "metadata": {},
   "outputs": [],
   "source": []
  }
 ],
 "metadata": {
  "kernelspec": {
   "display_name": "Python 3 (ipykernel)",
   "language": "python",
   "name": "python3"
  },
  "language_info": {
   "codemirror_mode": {
    "name": "ipython",
    "version": 3
   },
   "file_extension": ".py",
   "mimetype": "text/x-python",
   "name": "python",
   "nbconvert_exporter": "python",
   "pygments_lexer": "ipython3",
   "version": "3.8.13"
  }
 },
 "nbformat": 4,
 "nbformat_minor": 5
}
